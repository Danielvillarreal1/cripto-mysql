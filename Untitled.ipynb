{
 "cells": [
  {
   "cell_type": "code",
   "execution_count": 3,
   "metadata": {},
   "outputs": [],
   "source": [
    "import pandas as pd\n",
    "import requests \n",
    "from bs4 import BeautifulSoup"
   ]
  },
  {
   "cell_type": "code",
   "execution_count": 4,
   "metadata": {},
   "outputs": [],
   "source": [
    "# Create empty lists to store the data\n",
    "cripto_name_list = []\n",
    "cripto_market_cap_list = []\n",
    "cripto_price_list = []\n",
    "cripto_circulating_supply_list = []\n",
    "cripto_symbol_list = []"
   ]
  },
  {
   "cell_type": "code",
   "execution_count": 5,
   "metadata": {},
   "outputs": [],
   "source": [
    "# create an empty dataframe to help organize the data\n",
    "df = pd.DataFrame()"
   ]
  },
  {
   "cell_type": "code",
   "execution_count": null,
   "metadata": {},
   "outputs": [],
   "source": [
    "# Create a function to scrape the data\n",
    "# https://coinmarketcap.com/historical/20211219/\n",
    "\n",
    "def scrape(date = '20211219'):\n",
    "    # get the url of de website that we want to scrape\n",
    "    URL = 'https://coinmarketcap.com/historical/20211219/'+date\n",
    "    # Make a request to the website\n",
    "    webpage = requests.get(URL)\n",
    "    # Parse the text from the website\n",
    "    soup = BeautifulSoup(webpage.text, 'html.parser')\n",
    "    \n",
    "    # Get the table row element\n",
    "    tr = soup.find_all('tr', attrs={'cmc-table-row'})  # la del body?\n",
    "    # create a count variable for the number of crypto currencies that we want to scrape\n",
    "    count =0\n",
    "    # Loop through every row to gather the data/ information\n",
    "    for row in tr:\n",
    "        # if the count is reached then breat out of the loop\n",
    "        if count == 10:\n",
    "            break;\n",
    "        count = count + 1 # Increment count by 1\n",
    "        \n",
    "        # Store the name of the cryptocurrency into a variable\n",
    "        #Find the td element (or column)  to later get the crypto currency name\n",
    "        name_column = row.fin('td', attrs={'class': 'cmc-table__cell cmc-table__header cmc-table__cell--sticky cmc-table__cell--sortable cmc-table__cell--left cmc-table__cell--sort-by__name'})\n",
    "        crypto_name = name_column.find('a', sttrs={'class':'cmc-table__column-name--name cmc-link'})"
   ]
  }
 ],
 "metadata": {
  "kernelspec": {
   "display_name": "Python 3",
   "language": "python",
   "name": "python3"
  },
  "language_info": {
   "codemirror_mode": {
    "name": "ipython",
    "version": 3
   },
   "file_extension": ".py",
   "mimetype": "text/x-python",
   "name": "python",
   "nbconvert_exporter": "python",
   "pygments_lexer": "ipython3",
   "version": "3.7.6"
  }
 },
 "nbformat": 4,
 "nbformat_minor": 4
}
