{
 "cells": [
  {
   "cell_type": "code",
   "execution_count": 17,
   "metadata": {},
   "outputs": [],
   "source": [
    "import pandas as pd\n",
    "import plotly.express as px  \n",
    "import plotly.graph_objects as go"
   ]
  },
  {
   "cell_type": "markdown",
   "metadata": {},
   "source": [
    "## Leer db mysql y guardar un df"
   ]
  },
  {
   "cell_type": "code",
   "execution_count": 18,
   "metadata": {},
   "outputs": [],
   "source": [
    "import mysql.connector as connection\n",
    "import pandas as pd\n",
    "try:\n",
    "    mydb = connection.connect(host=\"172.20.0.2\", database = 'cripto',user=\"root\", passwd=\"root\",use_pure=True)\n",
    "    query = \"Select * from coin;\"\n",
    "    result_df = pd.read_sql(query,mydb)\n",
    "    #mydb.close() #close the connection\n",
    "except Exception as e:\n",
    "    #mydb.close()\n",
    "    print(str(e))"
   ]
  },
  {
   "cell_type": "code",
   "execution_count": null,
   "metadata": {},
   "outputs": [],
   "source": [
    "import pandas as pd\n",
    "import plotly.express as px  \n",
    "import plotly.graph_objects as go\n",
    "\n",
    "import mysql.connector as connection\n",
    "import pandas as pd\n",
    "try:\n",
    "    mydb = connection.connect(host=\"172.20.0.2\", database = 'cripto',user=\"root\", passwd=\"root\",use_pure=True)\n",
    "    query = \"Select * from coin;\"\n",
    "    result_df = pd.read_sql(query,mydb)\n",
    "    #mydb.close() #close the connection\n",
    "except Exception as e:\n",
    "    #mydb.close()\n",
    "    print(str(e))"
   ]
  },
  {
   "cell_type": "code",
   "execution_count": 8,
   "metadata": {},
   "outputs": [
    {
     "data": {
      "text/html": [
       "<div>\n",
       "<style scoped>\n",
       "    .dataframe tbody tr th:only-of-type {\n",
       "        vertical-align: middle;\n",
       "    }\n",
       "\n",
       "    .dataframe tbody tr th {\n",
       "        vertical-align: top;\n",
       "    }\n",
       "\n",
       "    .dataframe thead th {\n",
       "        text-align: right;\n",
       "    }\n",
       "</style>\n",
       "<table border=\"1\" class=\"dataframe\">\n",
       "  <thead>\n",
       "    <tr style=\"text-align: right;\">\n",
       "      <th></th>\n",
       "      <th>index</th>\n",
       "      <th>Position</th>\n",
       "      <th>Coin</th>\n",
       "      <th>Price($)</th>\n",
       "      <th>Change 1h(%)</th>\n",
       "      <th>Change 7d(%)</th>\n",
       "      <th>Change 24h(%)</th>\n",
       "      <th>Volume 24h($)</th>\n",
       "      <th>Market Cap($)</th>\n",
       "    </tr>\n",
       "  </thead>\n",
       "  <tbody>\n",
       "    <tr>\n",
       "      <th>0</th>\n",
       "      <td>0</td>\n",
       "      <td>1</td>\n",
       "      <td>Bitcoin</td>\n",
       "      <td>2796283</td>\n",
       "      <td>-0.3</td>\n",
       "      <td>-1.9</td>\n",
       "      <td>0.1</td>\n",
       "      <td>8603123414</td>\n",
       "      <td>541628824546</td>\n",
       "    </tr>\n",
       "    <tr>\n",
       "      <th>1</th>\n",
       "      <td>1</td>\n",
       "      <td>2</td>\n",
       "      <td>Ethereum</td>\n",
       "      <td>186155</td>\n",
       "      <td>-0.4</td>\n",
       "      <td>2.1</td>\n",
       "      <td>0.1</td>\n",
       "      <td>5970641599</td>\n",
       "      <td>224892057319</td>\n",
       "    </tr>\n",
       "    <tr>\n",
       "      <th>2</th>\n",
       "      <td>2</td>\n",
       "      <td>3</td>\n",
       "      <td>Tether</td>\n",
       "      <td>100</td>\n",
       "      <td>-0.0</td>\n",
       "      <td>-0.0</td>\n",
       "      <td>-0.0</td>\n",
       "      <td>16573107782</td>\n",
       "      <td>80273606417</td>\n",
       "    </tr>\n",
       "    <tr>\n",
       "      <th>3</th>\n",
       "      <td>3</td>\n",
       "      <td>4</td>\n",
       "      <td>BNB</td>\n",
       "      <td>31219</td>\n",
       "      <td>-0.1</td>\n",
       "      <td>-1.6</td>\n",
       "      <td>0.3</td>\n",
       "      <td>404848367</td>\n",
       "      <td>49349370768</td>\n",
       "    </tr>\n",
       "    <tr>\n",
       "      <th>4</th>\n",
       "      <td>4</td>\n",
       "      <td>5</td>\n",
       "      <td>USD Coin</td>\n",
       "      <td>999842</td>\n",
       "      <td>-0.0</td>\n",
       "      <td>-0.0</td>\n",
       "      <td>-0.0</td>\n",
       "      <td>2099744670</td>\n",
       "      <td>32614288443</td>\n",
       "    </tr>\n",
       "    <tr>\n",
       "      <th>...</th>\n",
       "      <td>...</td>\n",
       "      <td>...</td>\n",
       "      <td>...</td>\n",
       "      <td>...</td>\n",
       "      <td>...</td>\n",
       "      <td>...</td>\n",
       "      <td>...</td>\n",
       "      <td>...</td>\n",
       "      <td>...</td>\n",
       "    </tr>\n",
       "    <tr>\n",
       "      <th>95</th>\n",
       "      <td>95</td>\n",
       "      <td>96</td>\n",
       "      <td>THORChain</td>\n",
       "      <td>156</td>\n",
       "      <td>-0.5</td>\n",
       "      <td>8.8</td>\n",
       "      <td>0.8</td>\n",
       "      <td>40178553</td>\n",
       "      <td>472240177</td>\n",
       "    </tr>\n",
       "    <tr>\n",
       "      <th>96</th>\n",
       "      <td>96</td>\n",
       "      <td>97</td>\n",
       "      <td>Casper Network</td>\n",
       "      <td>42653845372</td>\n",
       "      <td>0.8</td>\n",
       "      <td>4.9</td>\n",
       "      <td>2.7</td>\n",
       "      <td>7388512</td>\n",
       "      <td>467028211</td>\n",
       "    </tr>\n",
       "    <tr>\n",
       "      <th>97</th>\n",
       "      <td>97</td>\n",
       "      <td>98</td>\n",
       "      <td>Render</td>\n",
       "      <td>128</td>\n",
       "      <td>-0.6</td>\n",
       "      <td>-6.6</td>\n",
       "      <td>-0.8</td>\n",
       "      <td>15500145</td>\n",
       "      <td>462994313</td>\n",
       "    </tr>\n",
       "    <tr>\n",
       "      <th>98</th>\n",
       "      <td>98</td>\n",
       "      <td>99</td>\n",
       "      <td>Rocket Pool ETH</td>\n",
       "      <td>198774</td>\n",
       "      <td>-0.4</td>\n",
       "      <td>1.8</td>\n",
       "      <td>0.1</td>\n",
       "      <td>1689486</td>\n",
       "      <td>460481930</td>\n",
       "    </tr>\n",
       "    <tr>\n",
       "      <th>99</th>\n",
       "      <td>99</td>\n",
       "      <td>100</td>\n",
       "      <td>Enjin Coin</td>\n",
       "      <td>455454</td>\n",
       "      <td>-0.2</td>\n",
       "      <td>11.6</td>\n",
       "      <td>-8.0</td>\n",
       "      <td>141567501</td>\n",
       "      <td>457155679</td>\n",
       "    </tr>\n",
       "  </tbody>\n",
       "</table>\n",
       "<p>100 rows × 9 columns</p>\n",
       "</div>"
      ],
      "text/plain": [
       "    index  Position             Coin     Price($)  Change 1h(%)  Change 7d(%)  \\\n",
       "0       0         1          Bitcoin      2796283          -0.3          -1.9   \n",
       "1       1         2         Ethereum       186155          -0.4           2.1   \n",
       "2       2         3           Tether          100          -0.0          -0.0   \n",
       "3       3         4              BNB        31219          -0.1          -1.6   \n",
       "4       4         5         USD Coin       999842          -0.0          -0.0   \n",
       "..    ...       ...              ...          ...           ...           ...   \n",
       "95     95        96        THORChain          156          -0.5           8.8   \n",
       "96     96        97   Casper Network  42653845372           0.8           4.9   \n",
       "97     97        98           Render          128          -0.6          -6.6   \n",
       "98     98        99  Rocket Pool ETH       198774          -0.4           1.8   \n",
       "99     99       100       Enjin Coin       455454          -0.2          11.6   \n",
       "\n",
       "    Change 24h(%)  Volume 24h($)  Market Cap($)  \n",
       "0             0.1     8603123414   541628824546  \n",
       "1             0.1     5970641599   224892057319  \n",
       "2            -0.0    16573107782    80273606417  \n",
       "3             0.3      404848367    49349370768  \n",
       "4            -0.0     2099744670    32614288443  \n",
       "..            ...            ...            ...  \n",
       "95            0.8       40178553      472240177  \n",
       "96            2.7        7388512      467028211  \n",
       "97           -0.8       15500145      462994313  \n",
       "98            0.1        1689486      460481930  \n",
       "99           -8.0      141567501      457155679  \n",
       "\n",
       "[100 rows x 9 columns]"
      ]
     },
     "execution_count": 8,
     "metadata": {},
     "output_type": "execute_result"
    }
   ],
   "source": [
    "result_df = pd.read_sql(query, mydb)\n",
    "result_df"
   ]
  },
  {
   "cell_type": "code",
   "execution_count": 9,
   "metadata": {},
   "outputs": [
    {
     "data": {
      "text/plain": [
       "Index(['index', 'Position', 'Coin', 'Price($)', 'Change 1h(%)', 'Change 7d(%)',\n",
       "       'Change 24h(%)', 'Volume 24h($)', 'Market Cap($)'],\n",
       "      dtype='object')"
      ]
     },
     "execution_count": 9,
     "metadata": {},
     "output_type": "execute_result"
    }
   ],
   "source": [
    "result_df.columns"
   ]
  },
  {
   "cell_type": "code",
   "execution_count": null,
   "metadata": {},
   "outputs": [],
   "source": []
  },
  {
   "cell_type": "code",
   "execution_count": 10,
   "metadata": {},
   "outputs": [
    {
     "data": {
      "text/plain": [
       "Templates configuration\n",
       "-----------------------\n",
       "    Default template: 'plotly'\n",
       "    Available templates:\n",
       "        ['ggplot2', 'seaborn', 'simple_white', 'plotly',\n",
       "         'plotly_white', 'plotly_dark', 'presentation', 'xgridoff',\n",
       "         'ygridoff', 'gridon', 'none']"
      ]
     },
     "execution_count": 10,
     "metadata": {},
     "output_type": "execute_result"
    }
   ],
   "source": [
    "# importo libreia para trabajar con los template de plotly, nos da distintos tipod de template\n",
    "import plotly.io as pio\n",
    "pio.templates"
   ]
  },
  {
   "cell_type": "code",
   "execution_count": 27,
   "metadata": {
    "scrolled": true
   },
   "outputs": [
    {
     "data": {
      "application/vnd.plotly.v1+json": {
       "config": {
        "plotlyServerURL": "https://plot.ly"
       },
       "data": [
        {
         "alignmentgroup": "True",
         "hovertemplate": "Listado de criptomonedas=%{x}<br>Market Cap($)=%{y}<extra></extra>",
         "legendgroup": "Bitcoin",
         "marker": {
          "color": "#636efa",
          "pattern": {
           "shape": ""
          }
         },
         "name": "Bitcoin",
         "offsetgroup": "Bitcoin",
         "orientation": "v",
         "showlegend": true,
         "textposition": "auto",
         "type": "bar",
         "x": [
          "Bitcoin"
         ],
         "xaxis": "x",
         "y": [
          541628824546
         ],
         "yaxis": "y"
        },
        {
         "alignmentgroup": "True",
         "hovertemplate": "Listado de criptomonedas=%{x}<br>Market Cap($)=%{y}<extra></extra>",
         "legendgroup": "Ethereum",
         "marker": {
          "color": "#EF553B",
          "pattern": {
           "shape": ""
          }
         },
         "name": "Ethereum",
         "offsetgroup": "Ethereum",
         "orientation": "v",
         "showlegend": true,
         "textposition": "auto",
         "type": "bar",
         "x": [
          "Ethereum"
         ],
         "xaxis": "x",
         "y": [
          224892057319
         ],
         "yaxis": "y"
        },
        {
         "alignmentgroup": "True",
         "hovertemplate": "Listado de criptomonedas=%{x}<br>Market Cap($)=%{y}<extra></extra>",
         "legendgroup": "Tether",
         "marker": {
          "color": "#00cc96",
          "pattern": {
           "shape": ""
          }
         },
         "name": "Tether",
         "offsetgroup": "Tether",
         "orientation": "v",
         "showlegend": true,
         "textposition": "auto",
         "type": "bar",
         "x": [
          "Tether"
         ],
         "xaxis": "x",
         "y": [
          80273606417
         ],
         "yaxis": "y"
        },
        {
         "alignmentgroup": "True",
         "hovertemplate": "Listado de criptomonedas=%{x}<br>Market Cap($)=%{y}<extra></extra>",
         "legendgroup": "BNB",
         "marker": {
          "color": "#ab63fa",
          "pattern": {
           "shape": ""
          }
         },
         "name": "BNB",
         "offsetgroup": "BNB",
         "orientation": "v",
         "showlegend": true,
         "textposition": "auto",
         "type": "bar",
         "x": [
          "BNB"
         ],
         "xaxis": "x",
         "y": [
          49349370768
         ],
         "yaxis": "y"
        },
        {
         "alignmentgroup": "True",
         "hovertemplate": "Listado de criptomonedas=%{x}<br>Market Cap($)=%{y}<extra></extra>",
         "legendgroup": "USD Coin",
         "marker": {
          "color": "#FFA15A",
          "pattern": {
           "shape": ""
          }
         },
         "name": "USD Coin",
         "offsetgroup": "USD Coin",
         "orientation": "v",
         "showlegend": true,
         "textposition": "auto",
         "type": "bar",
         "x": [
          "USD Coin"
         ],
         "xaxis": "x",
         "y": [
          32614288443
         ],
         "yaxis": "y"
        },
        {
         "alignmentgroup": "True",
         "hovertemplate": "Listado de criptomonedas=%{x}<br>Market Cap($)=%{y}<extra></extra>",
         "legendgroup": "XRP",
         "marker": {
          "color": "#19d3f3",
          "pattern": {
           "shape": ""
          }
         },
         "name": "XRP",
         "offsetgroup": "XRP",
         "orientation": "v",
         "showlegend": true,
         "textposition": "auto",
         "type": "bar",
         "x": [
          "XRP"
         ],
         "xaxis": "x",
         "y": [
          26307437820
         ],
         "yaxis": "y"
        },
        {
         "alignmentgroup": "True",
         "hovertemplate": "Listado de criptomonedas=%{x}<br>Market Cap($)=%{y}<extra></extra>",
         "legendgroup": "Cardano",
         "marker": {
          "color": "#FF6692",
          "pattern": {
           "shape": ""
          }
         },
         "name": "Cardano",
         "offsetgroup": "Cardano",
         "orientation": "v",
         "showlegend": true,
         "textposition": "auto",
         "type": "bar",
         "x": [
          "Cardano"
         ],
         "xaxis": "x",
         "y": [
          13582375319
         ],
         "yaxis": "y"
        },
        {
         "alignmentgroup": "True",
         "hovertemplate": "Listado de criptomonedas=%{x}<br>Market Cap($)=%{y}<extra></extra>",
         "legendgroup": "Dogecoin",
         "marker": {
          "color": "#B6E880",
          "pattern": {
           "shape": ""
          }
         },
         "name": "Dogecoin",
         "offsetgroup": "Dogecoin",
         "orientation": "v",
         "showlegend": true,
         "textposition": "auto",
         "type": "bar",
         "x": [
          "Dogecoin"
         ],
         "xaxis": "x",
         "y": [
          11498152854
         ],
         "yaxis": "y"
        },
        {
         "alignmentgroup": "True",
         "hovertemplate": "Listado de criptomonedas=%{x}<br>Market Cap($)=%{y}<extra></extra>",
         "legendgroup": "Lido Staked Ether",
         "marker": {
          "color": "#FF97FF",
          "pattern": {
           "shape": ""
          }
         },
         "name": "Lido Staked Ether",
         "offsetgroup": "Lido Staked Ether",
         "orientation": "v",
         "showlegend": true,
         "textposition": "auto",
         "type": "bar",
         "x": [
          "Lido Staked Ether"
         ],
         "xaxis": "x",
         "y": [
          11023703902
         ],
         "yaxis": "y"
        },
        {
         "alignmentgroup": "True",
         "hovertemplate": "Listado de criptomonedas=%{x}<br>Market Cap($)=%{y}<extra></extra>",
         "legendgroup": "Polygon",
         "marker": {
          "color": "#FECB52",
          "pattern": {
           "shape": ""
          }
         },
         "name": "Polygon",
         "offsetgroup": "Polygon",
         "orientation": "v",
         "showlegend": true,
         "textposition": "auto",
         "type": "bar",
         "x": [
          "Polygon"
         ],
         "xaxis": "x",
         "y": [
          10191081071
         ],
         "yaxis": "y"
        },
        {
         "alignmentgroup": "True",
         "hovertemplate": "Listado de criptomonedas=%{x}<br>Market Cap($)=%{y}<extra></extra>",
         "legendgroup": "Solana",
         "marker": {
          "color": "#636efa",
          "pattern": {
           "shape": ""
          }
         },
         "name": "Solana",
         "offsetgroup": "Solana",
         "orientation": "v",
         "showlegend": true,
         "textposition": "auto",
         "type": "bar",
         "x": [
          "Solana"
         ],
         "xaxis": "x",
         "y": [
          7905835804
         ],
         "yaxis": "y"
        },
        {
         "alignmentgroup": "True",
         "hovertemplate": "Listado de criptomonedas=%{x}<br>Market Cap($)=%{y}<extra></extra>",
         "legendgroup": "Polkadot",
         "marker": {
          "color": "#EF553B",
          "pattern": {
           "shape": ""
          }
         },
         "name": "Polkadot",
         "offsetgroup": "Polkadot",
         "orientation": "v",
         "showlegend": true,
         "textposition": "auto",
         "type": "bar",
         "x": [
          "Polkadot"
         ],
         "xaxis": "x",
         "y": [
          7527072885
         ],
         "yaxis": "y"
        },
        {
         "alignmentgroup": "True",
         "hovertemplate": "Listado de criptomonedas=%{x}<br>Market Cap($)=%{y}<extra></extra>",
         "legendgroup": "Binance USD",
         "marker": {
          "color": "#00cc96",
          "pattern": {
           "shape": ""
          }
         },
         "name": "Binance USD",
         "offsetgroup": "Binance USD",
         "orientation": "v",
         "showlegend": true,
         "textposition": "auto",
         "type": "bar",
         "x": [
          "Binance USD"
         ],
         "xaxis": "x",
         "y": [
          7071052411
         ],
         "yaxis": "y"
        },
        {
         "alignmentgroup": "True",
         "hovertemplate": "Listado de criptomonedas=%{x}<br>Market Cap($)=%{y}<extra></extra>",
         "legendgroup": "Litecoin",
         "marker": {
          "color": "#ab63fa",
          "pattern": {
           "shape": ""
          }
         },
         "name": "Litecoin",
         "offsetgroup": "Litecoin",
         "orientation": "v",
         "showlegend": true,
         "textposition": "auto",
         "type": "bar",
         "x": [
          "Litecoin"
         ],
         "xaxis": "x",
         "y": [
          6563056198
         ],
         "yaxis": "y"
        },
        {
         "alignmentgroup": "True",
         "hovertemplate": "Listado de criptomonedas=%{x}<br>Market Cap($)=%{y}<extra></extra>",
         "legendgroup": "Shiba Inu",
         "marker": {
          "color": "#FFA15A",
          "pattern": {
           "shape": ""
          }
         },
         "name": "Shiba Inu",
         "offsetgroup": "Shiba Inu",
         "orientation": "v",
         "showlegend": true,
         "textposition": "auto",
         "type": "bar",
         "x": [
          "Shiba Inu"
         ],
         "xaxis": "x",
         "y": [
          6451440525
         ],
         "yaxis": "y"
        },
        {
         "alignmentgroup": "True",
         "hovertemplate": "Listado de criptomonedas=%{x}<br>Market Cap($)=%{y}<extra></extra>",
         "legendgroup": "TRON",
         "marker": {
          "color": "#19d3f3",
          "pattern": {
           "shape": ""
          }
         },
         "name": "TRON",
         "offsetgroup": "TRON",
         "orientation": "v",
         "showlegend": true,
         "textposition": "auto",
         "type": "bar",
         "x": [
          "TRON"
         ],
         "xaxis": "x",
         "y": [
          6022982559
         ],
         "yaxis": "y"
        },
        {
         "alignmentgroup": "True",
         "hovertemplate": "Listado de criptomonedas=%{x}<br>Market Cap($)=%{y}<extra></extra>",
         "legendgroup": "Avalanche",
         "marker": {
          "color": "#FF6692",
          "pattern": {
           "shape": ""
          }
         },
         "name": "Avalanche",
         "offsetgroup": "Avalanche",
         "orientation": "v",
         "showlegend": true,
         "textposition": "auto",
         "type": "bar",
         "x": [
          "Avalanche"
         ],
         "xaxis": "x",
         "y": [
          5748108674
         ],
         "yaxis": "y"
        },
        {
         "alignmentgroup": "True",
         "hovertemplate": "Listado de criptomonedas=%{x}<br>Market Cap($)=%{y}<extra></extra>",
         "legendgroup": "Dai",
         "marker": {
          "color": "#B6E880",
          "pattern": {
           "shape": ""
          }
         },
         "name": "Dai",
         "offsetgroup": "Dai",
         "orientation": "v",
         "showlegend": true,
         "textposition": "auto",
         "type": "bar",
         "x": [
          "Dai"
         ],
         "xaxis": "x",
         "y": [
          5081489591
         ],
         "yaxis": "y"
        },
        {
         "alignmentgroup": "True",
         "hovertemplate": "Listado de criptomonedas=%{x}<br>Market Cap($)=%{y}<extra></extra>",
         "legendgroup": "Uniswap",
         "marker": {
          "color": "#FF97FF",
          "pattern": {
           "shape": ""
          }
         },
         "name": "Uniswap",
         "offsetgroup": "Uniswap",
         "orientation": "v",
         "showlegend": true,
         "textposition": "auto",
         "type": "bar",
         "x": [
          "Uniswap"
         ],
         "xaxis": "x",
         "y": [
          4492962212
         ],
         "yaxis": "y"
        },
        {
         "alignmentgroup": "True",
         "hovertemplate": "Listado de criptomonedas=%{x}<br>Market Cap($)=%{y}<extra></extra>",
         "legendgroup": "Wrapped Bitcoin",
         "marker": {
          "color": "#FECB52",
          "pattern": {
           "shape": ""
          }
         },
         "name": "Wrapped Bitcoin",
         "offsetgroup": "Wrapped Bitcoin",
         "orientation": "v",
         "showlegend": true,
         "textposition": "auto",
         "type": "bar",
         "x": [
          "Wrapped Bitcoin"
         ],
         "xaxis": "x",
         "y": [
          4233009098
         ],
         "yaxis": "y"
        },
        {
         "alignmentgroup": "True",
         "hovertemplate": "Listado de criptomonedas=%{x}<br>Market Cap($)=%{y}<extra></extra>",
         "legendgroup": "Chainlink",
         "marker": {
          "color": "#636efa",
          "pattern": {
           "shape": ""
          }
         },
         "name": "Chainlink",
         "offsetgroup": "Chainlink",
         "orientation": "v",
         "showlegend": true,
         "textposition": "auto",
         "type": "bar",
         "x": [
          "Chainlink"
         ],
         "xaxis": "x",
         "y": [
          3719445880
         ],
         "yaxis": "y"
        },
        {
         "alignmentgroup": "True",
         "hovertemplate": "Listado de criptomonedas=%{x}<br>Market Cap($)=%{y}<extra></extra>",
         "legendgroup": "Toncoin",
         "marker": {
          "color": "#EF553B",
          "pattern": {
           "shape": ""
          }
         },
         "name": "Toncoin",
         "offsetgroup": "Toncoin",
         "orientation": "v",
         "showlegend": true,
         "textposition": "auto",
         "type": "bar",
         "x": [
          "Toncoin"
         ],
         "xaxis": "x",
         "y": [
          3316246785
         ],
         "yaxis": "y"
        },
        {
         "alignmentgroup": "True",
         "hovertemplate": "Listado de criptomonedas=%{x}<br>Market Cap($)=%{y}<extra></extra>",
         "legendgroup": "Cosmos Hub",
         "marker": {
          "color": "#00cc96",
          "pattern": {
           "shape": ""
          }
         },
         "name": "Cosmos Hub",
         "offsetgroup": "Cosmos Hub",
         "orientation": "v",
         "showlegend": true,
         "textposition": "auto",
         "type": "bar",
         "x": [
          "Cosmos Hub"
         ],
         "xaxis": "x",
         "y": [
          3225618228
         ],
         "yaxis": "y"
        },
        {
         "alignmentgroup": "True",
         "hovertemplate": "Listado de criptomonedas=%{x}<br>Market Cap($)=%{y}<extra></extra>",
         "legendgroup": "LEO Token",
         "marker": {
          "color": "#ab63fa",
          "pattern": {
           "shape": ""
          }
         },
         "name": "LEO Token",
         "offsetgroup": "LEO Token",
         "orientation": "v",
         "showlegend": true,
         "textposition": "auto",
         "type": "bar",
         "x": [
          "LEO Token"
         ],
         "xaxis": "x",
         "y": [
          3141139527
         ],
         "yaxis": "y"
        },
        {
         "alignmentgroup": "True",
         "hovertemplate": "Listado de criptomonedas=%{x}<br>Market Cap($)=%{y}<extra></extra>",
         "legendgroup": "Monero",
         "marker": {
          "color": "#FFA15A",
          "pattern": {
           "shape": ""
          }
         },
         "name": "Monero",
         "offsetgroup": "Monero",
         "orientation": "v",
         "showlegend": true,
         "textposition": "auto",
         "type": "bar",
         "x": [
          "Monero"
         ],
         "xaxis": "x",
         "y": [
          2885812581
         ],
         "yaxis": "y"
        },
        {
         "alignmentgroup": "True",
         "hovertemplate": "Listado de criptomonedas=%{x}<br>Market Cap($)=%{y}<extra></extra>",
         "legendgroup": "Ethereum Classic",
         "marker": {
          "color": "#19d3f3",
          "pattern": {
           "shape": ""
          }
         },
         "name": "Ethereum Classic",
         "offsetgroup": "Ethereum Classic",
         "orientation": "v",
         "showlegend": true,
         "textposition": "auto",
         "type": "bar",
         "x": [
          "Ethereum Classic"
         ],
         "xaxis": "x",
         "y": [
          2877020567
         ],
         "yaxis": "y"
        },
        {
         "alignmentgroup": "True",
         "hovertemplate": "Listado de criptomonedas=%{x}<br>Market Cap($)=%{y}<extra></extra>",
         "legendgroup": "Stellar",
         "marker": {
          "color": "#FF6692",
          "pattern": {
           "shape": ""
          }
         },
         "name": "Stellar",
         "offsetgroup": "Stellar",
         "orientation": "v",
         "showlegend": true,
         "textposition": "auto",
         "type": "bar",
         "x": [
          "Stellar"
         ],
         "xaxis": "x",
         "y": [
          2801894428
         ],
         "yaxis": "y"
        },
        {
         "alignmentgroup": "True",
         "hovertemplate": "Listado de criptomonedas=%{x}<br>Market Cap($)=%{y}<extra></extra>",
         "legendgroup": "OKB",
         "marker": {
          "color": "#B6E880",
          "pattern": {
           "shape": ""
          }
         },
         "name": "OKB",
         "offsetgroup": "OKB",
         "orientation": "v",
         "showlegend": true,
         "textposition": "auto",
         "type": "bar",
         "x": [
          "OKB"
         ],
         "xaxis": "x",
         "y": [
          2482894781
         ],
         "yaxis": "y"
        },
        {
         "alignmentgroup": "True",
         "hovertemplate": "Listado de criptomonedas=%{x}<br>Market Cap($)=%{y}<extra></extra>",
         "legendgroup": "Bitcoin Cash",
         "marker": {
          "color": "#FF97FF",
          "pattern": {
           "shape": ""
          }
         },
         "name": "Bitcoin Cash",
         "offsetgroup": "Bitcoin Cash",
         "orientation": "v",
         "showlegend": true,
         "textposition": "auto",
         "type": "bar",
         "x": [
          "Bitcoin Cash"
         ],
         "xaxis": "x",
         "y": [
          2410492334
         ],
         "yaxis": "y"
        },
        {
         "alignmentgroup": "True",
         "hovertemplate": "Listado de criptomonedas=%{x}<br>Market Cap($)=%{y}<extra></extra>",
         "legendgroup": "Filecoin",
         "marker": {
          "color": "#FECB52",
          "pattern": {
           "shape": ""
          }
         },
         "name": "Filecoin",
         "offsetgroup": "Filecoin",
         "orientation": "v",
         "showlegend": true,
         "textposition": "auto",
         "type": "bar",
         "x": [
          "Filecoin"
         ],
         "xaxis": "x",
         "y": [
          2398096123
         ],
         "yaxis": "y"
        },
        {
         "alignmentgroup": "True",
         "hovertemplate": "Listado de criptomonedas=%{x}<br>Market Cap($)=%{y}<extra></extra>",
         "legendgroup": "Lido DAO",
         "marker": {
          "color": "#636efa",
          "pattern": {
           "shape": ""
          }
         },
         "name": "Lido DAO",
         "offsetgroup": "Lido DAO",
         "orientation": "v",
         "showlegend": true,
         "textposition": "auto",
         "type": "bar",
         "x": [
          "Lido DAO"
         ],
         "xaxis": "x",
         "y": [
          2099703148
         ],
         "yaxis": "y"
        },
        {
         "alignmentgroup": "True",
         "hovertemplate": "Listado de criptomonedas=%{x}<br>Market Cap($)=%{y}<extra></extra>",
         "legendgroup": "TrueUSD",
         "marker": {
          "color": "#EF553B",
          "pattern": {
           "shape": ""
          }
         },
         "name": "TrueUSD",
         "offsetgroup": "TrueUSD",
         "orientation": "v",
         "showlegend": true,
         "textposition": "auto",
         "type": "bar",
         "x": [
          "TrueUSD"
         ],
         "xaxis": "x",
         "y": [
          2040527342
         ],
         "yaxis": "y"
        },
        {
         "alignmentgroup": "True",
         "hovertemplate": "Listado de criptomonedas=%{x}<br>Market Cap($)=%{y}<extra></extra>",
         "legendgroup": "Aptos",
         "marker": {
          "color": "#00cc96",
          "pattern": {
           "shape": ""
          }
         },
         "name": "Aptos",
         "offsetgroup": "Aptos",
         "orientation": "v",
         "showlegend": true,
         "textposition": "auto",
         "type": "bar",
         "x": [
          "Aptos"
         ],
         "xaxis": "x",
         "y": [
          2012063057
         ],
         "yaxis": "y"
        },
        {
         "alignmentgroup": "True",
         "hovertemplate": "Listado de criptomonedas=%{x}<br>Market Cap($)=%{y}<extra></extra>",
         "legendgroup": "Hedera",
         "marker": {
          "color": "#ab63fa",
          "pattern": {
           "shape": ""
          }
         },
         "name": "Hedera",
         "offsetgroup": "Hedera",
         "orientation": "v",
         "showlegend": true,
         "textposition": "auto",
         "type": "bar",
         "x": [
          "Hedera"
         ],
         "xaxis": "x",
         "y": [
          1999321844
         ],
         "yaxis": "y"
        },
        {
         "alignmentgroup": "True",
         "hovertemplate": "Listado de criptomonedas=%{x}<br>Market Cap($)=%{y}<extra></extra>",
         "legendgroup": "VeChain",
         "marker": {
          "color": "#FFA15A",
          "pattern": {
           "shape": ""
          }
         },
         "name": "VeChain",
         "offsetgroup": "VeChain",
         "orientation": "v",
         "showlegend": true,
         "textposition": "auto",
         "type": "bar",
         "x": [
          "VeChain"
         ],
         "xaxis": "x",
         "y": [
          1752500867
         ],
         "yaxis": "y"
        },
        {
         "alignmentgroup": "True",
         "hovertemplate": "Listado de criptomonedas=%{x}<br>Market Cap($)=%{y}<extra></extra>",
         "legendgroup": "Quant",
         "marker": {
          "color": "#19d3f3",
          "pattern": {
           "shape": ""
          }
         },
         "name": "Quant",
         "offsetgroup": "Quant",
         "orientation": "v",
         "showlegend": true,
         "textposition": "auto",
         "type": "bar",
         "x": [
          "Quant"
         ],
         "xaxis": "x",
         "y": [
          1748689458
         ],
         "yaxis": "y"
        },
        {
         "alignmentgroup": "True",
         "hovertemplate": "Listado de criptomonedas=%{x}<br>Market Cap($)=%{y}<extra></extra>",
         "legendgroup": "Cronos",
         "marker": {
          "color": "#FF6692",
          "pattern": {
           "shape": ""
          }
         },
         "name": "Cronos",
         "offsetgroup": "Cronos",
         "orientation": "v",
         "showlegend": true,
         "textposition": "auto",
         "type": "bar",
         "x": [
          "Cronos"
         ],
         "xaxis": "x",
         "y": [
          1737895235
         ],
         "yaxis": "y"
        },
        {
         "alignmentgroup": "True",
         "hovertemplate": "Listado de criptomonedas=%{x}<br>Market Cap($)=%{y}<extra></extra>",
         "legendgroup": "NEAR Protocol",
         "marker": {
          "color": "#B6E880",
          "pattern": {
           "shape": ""
          }
         },
         "name": "NEAR Protocol",
         "offsetgroup": "NEAR Protocol",
         "orientation": "v",
         "showlegend": true,
         "textposition": "auto",
         "type": "bar",
         "x": [
          "NEAR Protocol"
         ],
         "xaxis": "x",
         "y": [
          1726006647
         ],
         "yaxis": "y"
        },
        {
         "alignmentgroup": "True",
         "hovertemplate": "Listado de criptomonedas=%{x}<br>Market Cap($)=%{y}<extra></extra>",
         "legendgroup": "Algorand",
         "marker": {
          "color": "#FF97FF",
          "pattern": {
           "shape": ""
          }
         },
         "name": "Algorand",
         "offsetgroup": "Algorand",
         "orientation": "v",
         "showlegend": true,
         "textposition": "auto",
         "type": "bar",
         "x": [
          "Algorand"
         ],
         "xaxis": "x",
         "y": [
          1580704294
         ],
         "yaxis": "y"
        },
        {
         "alignmentgroup": "True",
         "hovertemplate": "Listado de criptomonedas=%{x}<br>Market Cap($)=%{y}<extra></extra>",
         "legendgroup": "ApeCoin",
         "marker": {
          "color": "#FECB52",
          "pattern": {
           "shape": ""
          }
         },
         "name": "ApeCoin",
         "offsetgroup": "ApeCoin",
         "orientation": "v",
         "showlegend": true,
         "textposition": "auto",
         "type": "bar",
         "x": [
          "ApeCoin"
         ],
         "xaxis": "x",
         "y": [
          1550724842
         ],
         "yaxis": "y"
        },
        {
         "alignmentgroup": "True",
         "hovertemplate": "Listado de criptomonedas=%{x}<br>Market Cap($)=%{y}<extra></extra>",
         "legendgroup": "Arbitrum",
         "marker": {
          "color": "#636efa",
          "pattern": {
           "shape": ""
          }
         },
         "name": "Arbitrum",
         "offsetgroup": "Arbitrum",
         "orientation": "v",
         "showlegend": true,
         "textposition": "auto",
         "type": "bar",
         "x": [
          "Arbitrum"
         ],
         "xaxis": "x",
         "y": [
          1511353188
         ],
         "yaxis": "y"
        },
        {
         "alignmentgroup": "True",
         "hovertemplate": "Listado de criptomonedas=%{x}<br>Market Cap($)=%{y}<extra></extra>",
         "legendgroup": "Internet Computer",
         "marker": {
          "color": "#EF553B",
          "pattern": {
           "shape": ""
          }
         },
         "name": "Internet Computer",
         "offsetgroup": "Internet Computer",
         "orientation": "v",
         "showlegend": true,
         "textposition": "auto",
         "type": "bar",
         "x": [
          "Internet Computer"
         ],
         "xaxis": "x",
         "y": [
          1478373985
         ],
         "yaxis": "y"
        },
        {
         "alignmentgroup": "True",
         "hovertemplate": "Listado de criptomonedas=%{x}<br>Market Cap($)=%{y}<extra></extra>",
         "legendgroup": "EOS",
         "marker": {
          "color": "#00cc96",
          "pattern": {
           "shape": ""
          }
         },
         "name": "EOS",
         "offsetgroup": "EOS",
         "orientation": "v",
         "showlegend": true,
         "textposition": "auto",
         "type": "bar",
         "x": [
          "EOS"
         ],
         "xaxis": "x",
         "y": [
          1348640225
         ],
         "yaxis": "y"
        },
        {
         "alignmentgroup": "True",
         "hovertemplate": "Listado de criptomonedas=%{x}<br>Market Cap($)=%{y}<extra></extra>",
         "legendgroup": "Fantom",
         "marker": {
          "color": "#ab63fa",
          "pattern": {
           "shape": ""
          }
         },
         "name": "Fantom",
         "offsetgroup": "Fantom",
         "orientation": "v",
         "showlegend": true,
         "textposition": "auto",
         "type": "bar",
         "x": [
          "Fantom"
         ],
         "xaxis": "x",
         "y": [
          1286380378
         ],
         "yaxis": "y"
        },
        {
         "alignmentgroup": "True",
         "hovertemplate": "Listado de criptomonedas=%{x}<br>Market Cap($)=%{y}<extra></extra>",
         "legendgroup": "The Graph",
         "marker": {
          "color": "#FFA15A",
          "pattern": {
           "shape": ""
          }
         },
         "name": "The Graph",
         "offsetgroup": "The Graph",
         "orientation": "v",
         "showlegend": true,
         "textposition": "auto",
         "type": "bar",
         "x": [
          "The Graph"
         ],
         "xaxis": "x",
         "y": [
          1279128731
         ],
         "yaxis": "y"
        },
        {
         "alignmentgroup": "True",
         "hovertemplate": "Listado de criptomonedas=%{x}<br>Market Cap($)=%{y}<extra></extra>",
         "legendgroup": "The Sandbox",
         "marker": {
          "color": "#19d3f3",
          "pattern": {
           "shape": ""
          }
         },
         "name": "The Sandbox",
         "offsetgroup": "The Sandbox",
         "orientation": "v",
         "showlegend": true,
         "textposition": "auto",
         "type": "bar",
         "x": [
          "The Sandbox"
         ],
         "xaxis": "x",
         "y": [
          1170811184
         ],
         "yaxis": "y"
        },
        {
         "alignmentgroup": "True",
         "hovertemplate": "Listado de criptomonedas=%{x}<br>Market Cap($)=%{y}<extra></extra>",
         "legendgroup": "Stacks",
         "marker": {
          "color": "#FF6692",
          "pattern": {
           "shape": ""
          }
         },
         "name": "Stacks",
         "offsetgroup": "Stacks",
         "orientation": "v",
         "showlegend": true,
         "textposition": "auto",
         "type": "bar",
         "x": [
          "Stacks"
         ],
         "xaxis": "x",
         "y": [
          1119883988
         ],
         "yaxis": "y"
        },
        {
         "alignmentgroup": "True",
         "hovertemplate": "Listado de criptomonedas=%{x}<br>Market Cap($)=%{y}<extra></extra>",
         "legendgroup": "Aave",
         "marker": {
          "color": "#B6E880",
          "pattern": {
           "shape": ""
          }
         },
         "name": "Aave",
         "offsetgroup": "Aave",
         "orientation": "v",
         "showlegend": true,
         "textposition": "auto",
         "type": "bar",
         "x": [
          "Aave"
         ],
         "xaxis": "x",
         "y": [
          1111653316
         ],
         "yaxis": "y"
        },
        {
         "alignmentgroup": "True",
         "hovertemplate": "Listado de criptomonedas=%{x}<br>Market Cap($)=%{y}<extra></extra>",
         "legendgroup": "Decentraland",
         "marker": {
          "color": "#FF97FF",
          "pattern": {
           "shape": ""
          }
         },
         "name": "Decentraland",
         "offsetgroup": "Decentraland",
         "orientation": "v",
         "showlegend": true,
         "textposition": "auto",
         "type": "bar",
         "x": [
          "Decentraland"
         ],
         "xaxis": "x",
         "y": [
          1102378397
         ],
         "yaxis": "y"
        },
        {
         "alignmentgroup": "True",
         "hovertemplate": "Listado de criptomonedas=%{x}<br>Market Cap($)=%{y}<extra></extra>",
         "legendgroup": "Theta Network",
         "marker": {
          "color": "#FECB52",
          "pattern": {
           "shape": ""
          }
         },
         "name": "Theta Network",
         "offsetgroup": "Theta Network",
         "orientation": "v",
         "showlegend": true,
         "textposition": "auto",
         "type": "bar",
         "x": [
          "Theta Network"
         ],
         "xaxis": "x",
         "y": [
          1062965906
         ],
         "yaxis": "y"
        },
        {
         "alignmentgroup": "True",
         "hovertemplate": "Listado de criptomonedas=%{x}<br>Market Cap($)=%{y}<extra></extra>",
         "legendgroup": "Frax",
         "marker": {
          "color": "#636efa",
          "pattern": {
           "shape": ""
          }
         },
         "name": "Frax",
         "offsetgroup": "Frax",
         "orientation": "v",
         "showlegend": true,
         "textposition": "auto",
         "type": "bar",
         "x": [
          "Frax"
         ],
         "xaxis": "x",
         "y": [
          1044443763
         ],
         "yaxis": "y"
        },
        {
         "alignmentgroup": "True",
         "hovertemplate": "Listado de criptomonedas=%{x}<br>Market Cap($)=%{y}<extra></extra>",
         "legendgroup": "Flow",
         "marker": {
          "color": "#EF553B",
          "pattern": {
           "shape": ""
          }
         },
         "name": "Flow",
         "offsetgroup": "Flow",
         "orientation": "v",
         "showlegend": true,
         "textposition": "auto",
         "type": "bar",
         "x": [
          "Flow"
         ],
         "xaxis": "x",
         "y": [
          1030729741
         ],
         "yaxis": "y"
        },
        {
         "alignmentgroup": "True",
         "hovertemplate": "Listado de criptomonedas=%{x}<br>Market Cap($)=%{y}<extra></extra>",
         "legendgroup": "MultiversX",
         "marker": {
          "color": "#00cc96",
          "pattern": {
           "shape": ""
          }
         },
         "name": "MultiversX",
         "offsetgroup": "MultiversX",
         "orientation": "v",
         "showlegend": true,
         "textposition": "auto",
         "type": "bar",
         "x": [
          "MultiversX"
         ],
         "xaxis": "x",
         "y": [
          1029883701
         ],
         "yaxis": "y"
        },
        {
         "alignmentgroup": "True",
         "hovertemplate": "Listado de criptomonedas=%{x}<br>Market Cap($)=%{y}<extra></extra>",
         "legendgroup": "Tezos",
         "marker": {
          "color": "#ab63fa",
          "pattern": {
           "shape": ""
          }
         },
         "name": "Tezos",
         "offsetgroup": "Tezos",
         "orientation": "v",
         "showlegend": true,
         "textposition": "auto",
         "type": "bar",
         "x": [
          "Tezos"
         ],
         "xaxis": "x",
         "y": [
          1023097235
         ],
         "yaxis": "y"
        },
        {
         "alignmentgroup": "True",
         "hovertemplate": "Listado de criptomonedas=%{x}<br>Market Cap($)=%{y}<extra></extra>",
         "legendgroup": "Edgecoin",
         "marker": {
          "color": "#FFA15A",
          "pattern": {
           "shape": ""
          }
         },
         "name": "Edgecoin",
         "offsetgroup": "Edgecoin",
         "orientation": "v",
         "showlegend": true,
         "textposition": "auto",
         "type": "bar",
         "x": [
          "Edgecoin"
         ],
         "xaxis": "x",
         "y": [
          1000367712
         ],
         "yaxis": "y"
        },
        {
         "alignmentgroup": "True",
         "hovertemplate": "Listado de criptomonedas=%{x}<br>Market Cap($)=%{y}<extra></extra>",
         "legendgroup": "Axie Infinity",
         "marker": {
          "color": "#19d3f3",
          "pattern": {
           "shape": ""
          }
         },
         "name": "Axie Infinity",
         "offsetgroup": "Axie Infinity",
         "orientation": "v",
         "showlegend": true,
         "textposition": "auto",
         "type": "bar",
         "x": [
          "Axie Infinity"
         ],
         "xaxis": "x",
         "y": [
          997596363
         ],
         "yaxis": "y"
        },
        {
         "alignmentgroup": "True",
         "hovertemplate": "Listado de criptomonedas=%{x}<br>Market Cap($)=%{y}<extra></extra>",
         "legendgroup": "ImmutableX",
         "marker": {
          "color": "#FF6692",
          "pattern": {
           "shape": ""
          }
         },
         "name": "ImmutableX",
         "offsetgroup": "ImmutableX",
         "orientation": "v",
         "showlegend": true,
         "textposition": "auto",
         "type": "bar",
         "x": [
          "ImmutableX"
         ],
         "xaxis": "x",
         "y": [
          939308724
         ],
         "yaxis": "y"
        },
        {
         "alignmentgroup": "True",
         "hovertemplate": "Listado de criptomonedas=%{x}<br>Market Cap($)=%{y}<extra></extra>",
         "legendgroup": "NEO",
         "marker": {
          "color": "#B6E880",
          "pattern": {
           "shape": ""
          }
         },
         "name": "NEO",
         "offsetgroup": "NEO",
         "orientation": "v",
         "showlegend": true,
         "textposition": "auto",
         "type": "bar",
         "x": [
          "NEO"
         ],
         "xaxis": "x",
         "y": [
          877682663
         ],
         "yaxis": "y"
        },
        {
         "alignmentgroup": "True",
         "hovertemplate": "Listado de criptomonedas=%{x}<br>Market Cap($)=%{y}<extra></extra>",
         "legendgroup": "Rocket Pool",
         "marker": {
          "color": "#FF97FF",
          "pattern": {
           "shape": ""
          }
         },
         "name": "Rocket Pool",
         "offsetgroup": "Rocket Pool",
         "orientation": "v",
         "showlegend": true,
         "textposition": "auto",
         "type": "bar",
         "x": [
          "Rocket Pool"
         ],
         "xaxis": "x",
         "y": [
          876082295
         ],
         "yaxis": "y"
        },
        {
         "alignmentgroup": "True",
         "hovertemplate": "Listado de criptomonedas=%{x}<br>Market Cap($)=%{y}<extra></extra>",
         "legendgroup": "Pax Dollar",
         "marker": {
          "color": "#FECB52",
          "pattern": {
           "shape": ""
          }
         },
         "name": "Pax Dollar",
         "offsetgroup": "Pax Dollar",
         "orientation": "v",
         "showlegend": true,
         "textposition": "auto",
         "type": "bar",
         "x": [
          "Pax Dollar"
         ],
         "xaxis": "x",
         "y": [
          843334488
         ],
         "yaxis": "y"
        },
        {
         "alignmentgroup": "True",
         "hovertemplate": "Listado de criptomonedas=%{x}<br>Market Cap($)=%{y}<extra></extra>",
         "legendgroup": "Synthetix Network",
         "marker": {
          "color": "#636efa",
          "pattern": {
           "shape": ""
          }
         },
         "name": "Synthetix Network",
         "offsetgroup": "Synthetix Network",
         "orientation": "v",
         "showlegend": true,
         "textposition": "auto",
         "type": "bar",
         "x": [
          "Synthetix Network"
         ],
         "xaxis": "x",
         "y": [
          835015267
         ],
         "yaxis": "y"
        },
        {
         "alignmentgroup": "True",
         "hovertemplate": "Listado de criptomonedas=%{x}<br>Market Cap($)=%{y}<extra></extra>",
         "legendgroup": "KuCoin",
         "marker": {
          "color": "#EF553B",
          "pattern": {
           "shape": ""
          }
         },
         "name": "KuCoin",
         "offsetgroup": "KuCoin",
         "orientation": "v",
         "showlegend": true,
         "textposition": "auto",
         "type": "bar",
         "x": [
          "KuCoin"
         ],
         "xaxis": "x",
         "y": [
          817602990
         ],
         "yaxis": "y"
        },
        {
         "alignmentgroup": "True",
         "hovertemplate": "Listado de criptomonedas=%{x}<br>Market Cap($)=%{y}<extra></extra>",
         "legendgroup": "Curve DAO",
         "marker": {
          "color": "#00cc96",
          "pattern": {
           "shape": ""
          }
         },
         "name": "Curve DAO",
         "offsetgroup": "Curve DAO",
         "orientation": "v",
         "showlegend": true,
         "textposition": "auto",
         "type": "bar",
         "x": [
          "Curve DAO"
         ],
         "xaxis": "x",
         "y": [
          817328160
         ],
         "yaxis": "y"
        },
        {
         "alignmentgroup": "True",
         "hovertemplate": "Listado de criptomonedas=%{x}<br>Market Cap($)=%{y}<extra></extra>",
         "legendgroup": "Conflux",
         "marker": {
          "color": "#ab63fa",
          "pattern": {
           "shape": ""
          }
         },
         "name": "Conflux",
         "offsetgroup": "Conflux",
         "orientation": "v",
         "showlegend": true,
         "textposition": "auto",
         "type": "bar",
         "x": [
          "Conflux"
         ],
         "xaxis": "x",
         "y": [
          793054021
         ],
         "yaxis": "y"
        },
        {
         "alignmentgroup": "True",
         "hovertemplate": "Listado de criptomonedas=%{x}<br>Market Cap($)=%{y}<extra></extra>",
         "legendgroup": "Gate",
         "marker": {
          "color": "#FFA15A",
          "pattern": {
           "shape": ""
          }
         },
         "name": "Gate",
         "offsetgroup": "Gate",
         "orientation": "v",
         "showlegend": true,
         "textposition": "auto",
         "type": "bar",
         "x": [
          "Gate"
         ],
         "xaxis": "x",
         "y": [
          752354206
         ],
         "yaxis": "y"
        },
        {
         "alignmentgroup": "True",
         "hovertemplate": "Listado de criptomonedas=%{x}<br>Market Cap($)=%{y}<extra></extra>",
         "legendgroup": "Chiliz",
         "marker": {
          "color": "#19d3f3",
          "pattern": {
           "shape": ""
          }
         },
         "name": "Chiliz",
         "offsetgroup": "Chiliz",
         "orientation": "v",
         "showlegend": true,
         "textposition": "auto",
         "type": "bar",
         "x": [
          "Chiliz"
         ],
         "xaxis": "x",
         "y": [
          749250411
         ],
         "yaxis": "y"
        },
        {
         "alignmentgroup": "True",
         "hovertemplate": "Listado de criptomonedas=%{x}<br>Market Cap($)=%{y}<extra></extra>",
         "legendgroup": "BitDAO",
         "marker": {
          "color": "#FF6692",
          "pattern": {
           "shape": ""
          }
         },
         "name": "BitDAO",
         "offsetgroup": "BitDAO",
         "orientation": "v",
         "showlegend": true,
         "textposition": "auto",
         "type": "bar",
         "x": [
          "BitDAO"
         ],
         "xaxis": "x",
         "y": [
          740306128
         ],
         "yaxis": "y"
        },
        {
         "alignmentgroup": "True",
         "hovertemplate": "Listado de criptomonedas=%{x}<br>Market Cap($)=%{y}<extra></extra>",
         "legendgroup": "Klaytn",
         "marker": {
          "color": "#B6E880",
          "pattern": {
           "shape": ""
          }
         },
         "name": "Klaytn",
         "offsetgroup": "Klaytn",
         "orientation": "v",
         "showlegend": true,
         "textposition": "auto",
         "type": "bar",
         "x": [
          "Klaytn"
         ],
         "xaxis": "x",
         "y": [
          729661671
         ],
         "yaxis": "y"
        },
        {
         "alignmentgroup": "True",
         "hovertemplate": "Listado de criptomonedas=%{x}<br>Market Cap($)=%{y}<extra></extra>",
         "legendgroup": "Terra Luna Classic",
         "marker": {
          "color": "#FF97FF",
          "pattern": {
           "shape": ""
          }
         },
         "name": "Terra Luna Classic",
         "offsetgroup": "Terra Luna Classic",
         "orientation": "v",
         "showlegend": true,
         "textposition": "auto",
         "type": "bar",
         "x": [
          "Terra Luna Classic"
         ],
         "xaxis": "x",
         "y": [
          728383758
         ],
         "yaxis": "y"
        },
        {
         "alignmentgroup": "True",
         "hovertemplate": "Listado de criptomonedas=%{x}<br>Market Cap($)=%{y}<extra></extra>",
         "legendgroup": "USDD",
         "marker": {
          "color": "#FECB52",
          "pattern": {
           "shape": ""
          }
         },
         "name": "USDD",
         "offsetgroup": "USDD",
         "orientation": "v",
         "showlegend": true,
         "textposition": "auto",
         "type": "bar",
         "x": [
          "USDD"
         ],
         "xaxis": "x",
         "y": [
          719510015
         ],
         "yaxis": "y"
        },
        {
         "alignmentgroup": "True",
         "hovertemplate": "Listado de criptomonedas=%{x}<br>Market Cap($)=%{y}<extra></extra>",
         "legendgroup": "Optimism",
         "marker": {
          "color": "#636efa",
          "pattern": {
           "shape": ""
          }
         },
         "name": "Optimism",
         "offsetgroup": "Optimism",
         "orientation": "v",
         "showlegend": true,
         "textposition": "auto",
         "type": "bar",
         "x": [
          "Optimism"
         ],
         "xaxis": "x",
         "y": [
          711218360
         ],
         "yaxis": "y"
        },
        {
         "alignmentgroup": "True",
         "hovertemplate": "Listado de criptomonedas=%{x}<br>Market Cap($)=%{y}<extra></extra>",
         "legendgroup": "WhiteBIT Token",
         "marker": {
          "color": "#EF553B",
          "pattern": {
           "shape": ""
          }
         },
         "name": "WhiteBIT Token",
         "offsetgroup": "WhiteBIT Token",
         "orientation": "v",
         "showlegend": true,
         "textposition": "auto",
         "type": "bar",
         "x": [
          "WhiteBIT Token"
         ],
         "xaxis": "x",
         "y": [
          708282088
         ],
         "yaxis": "y"
        },
        {
         "alignmentgroup": "True",
         "hovertemplate": "Listado de criptomonedas=%{x}<br>Market Cap($)=%{y}<extra></extra>",
         "legendgroup": "Bitcoin SV",
         "marker": {
          "color": "#00cc96",
          "pattern": {
           "shape": ""
          }
         },
         "name": "Bitcoin SV",
         "offsetgroup": "Bitcoin SV",
         "orientation": "v",
         "showlegend": true,
         "textposition": "auto",
         "type": "bar",
         "x": [
          "Bitcoin SV"
         ],
         "xaxis": "x",
         "y": [
          690777259
         ],
         "yaxis": "y"
        },
        {
         "alignmentgroup": "True",
         "hovertemplate": "Listado de criptomonedas=%{x}<br>Market Cap($)=%{y}<extra></extra>",
         "legendgroup": "PancakeSwap",
         "marker": {
          "color": "#ab63fa",
          "pattern": {
           "shape": ""
          }
         },
         "name": "PancakeSwap",
         "offsetgroup": "PancakeSwap",
         "orientation": "v",
         "showlegend": true,
         "textposition": "auto",
         "type": "bar",
         "x": [
          "PancakeSwap"
         ],
         "xaxis": "x",
         "y": [
          685988981
         ],
         "yaxis": "y"
        },
        {
         "alignmentgroup": "True",
         "hovertemplate": "Listado de criptomonedas=%{x}<br>Market Cap($)=%{y}<extra></extra>",
         "legendgroup": "GMX",
         "marker": {
          "color": "#FFA15A",
          "pattern": {
           "shape": ""
          }
         },
         "name": "GMX",
         "offsetgroup": "GMX",
         "orientation": "v",
         "showlegend": true,
         "textposition": "auto",
         "type": "bar",
         "x": [
          "GMX"
         ],
         "xaxis": "x",
         "y": [
          677273159
         ],
         "yaxis": "y"
        },
        {
         "alignmentgroup": "True",
         "hovertemplate": "Listado de criptomonedas=%{x}<br>Market Cap($)=%{y}<extra></extra>",
         "legendgroup": "Frax Share",
         "marker": {
          "color": "#19d3f3",
          "pattern": {
           "shape": ""
          }
         },
         "name": "Frax Share",
         "offsetgroup": "Frax Share",
         "orientation": "v",
         "showlegend": true,
         "textposition": "auto",
         "type": "bar",
         "x": [
          "Frax Share"
         ],
         "xaxis": "x",
         "y": [
          666974170
         ],
         "yaxis": "y"
        },
        {
         "alignmentgroup": "True",
         "hovertemplate": "Listado de criptomonedas=%{x}<br>Market Cap($)=%{y}<extra></extra>",
         "legendgroup": "Mina Protocol",
         "marker": {
          "color": "#FF6692",
          "pattern": {
           "shape": ""
          }
         },
         "name": "Mina Protocol",
         "offsetgroup": "Mina Protocol",
         "orientation": "v",
         "showlegend": true,
         "textposition": "auto",
         "type": "bar",
         "x": [
          "Mina Protocol"
         ],
         "xaxis": "x",
         "y": [
          642879329
         ],
         "yaxis": "y"
        },
        {
         "alignmentgroup": "True",
         "hovertemplate": "Listado de criptomonedas=%{x}<br>Market Cap($)=%{y}<extra></extra>",
         "legendgroup": "IOTA",
         "marker": {
          "color": "#B6E880",
          "pattern": {
           "shape": ""
          }
         },
         "name": "IOTA",
         "offsetgroup": "IOTA",
         "orientation": "v",
         "showlegend": true,
         "textposition": "auto",
         "type": "bar",
         "x": [
          "IOTA"
         ],
         "xaxis": "x",
         "y": [
          637173705
         ],
         "yaxis": "y"
        },
        {
         "alignmentgroup": "True",
         "hovertemplate": "Listado de criptomonedas=%{x}<br>Market Cap($)=%{y}<extra></extra>",
         "legendgroup": "Dash",
         "marker": {
          "color": "#FF97FF",
          "pattern": {
           "shape": ""
          }
         },
         "name": "Dash",
         "offsetgroup": "Dash",
         "orientation": "v",
         "showlegend": true,
         "textposition": "auto",
         "type": "bar",
         "x": [
          "Dash"
         ],
         "xaxis": "x",
         "y": [
          629179386
         ],
         "yaxis": "y"
        },
        {
         "alignmentgroup": "True",
         "hovertemplate": "Listado de criptomonedas=%{x}<br>Market Cap($)=%{y}<extra></extra>",
         "legendgroup": "Maker",
         "marker": {
          "color": "#FECB52",
          "pattern": {
           "shape": ""
          }
         },
         "name": "Maker",
         "offsetgroup": "Maker",
         "orientation": "v",
         "showlegend": true,
         "textposition": "auto",
         "type": "bar",
         "x": [
          "Maker"
         ],
         "xaxis": "x",
         "y": [
          620039265
         ],
         "yaxis": "y"
        },
        {
         "alignmentgroup": "True",
         "hovertemplate": "Listado de criptomonedas=%{x}<br>Market Cap($)=%{y}<extra></extra>",
         "legendgroup": "eCash",
         "marker": {
          "color": "#636efa",
          "pattern": {
           "shape": ""
          }
         },
         "name": "eCash",
         "offsetgroup": "eCash",
         "orientation": "v",
         "showlegend": true,
         "textposition": "auto",
         "type": "bar",
         "x": [
          "eCash"
         ],
         "xaxis": "x",
         "y": [
          616674355
         ],
         "yaxis": "y"
        },
        {
         "alignmentgroup": "True",
         "hovertemplate": "Listado de criptomonedas=%{x}<br>Market Cap($)=%{y}<extra></extra>",
         "legendgroup": "BitTorrent",
         "marker": {
          "color": "#EF553B",
          "pattern": {
           "shape": ""
          }
         },
         "name": "BitTorrent",
         "offsetgroup": "BitTorrent",
         "orientation": "v",
         "showlegend": true,
         "textposition": "auto",
         "type": "bar",
         "x": [
          "BitTorrent"
         ],
         "xaxis": "x",
         "y": [
          594953061
         ],
         "yaxis": "y"
        },
        {
         "alignmentgroup": "True",
         "hovertemplate": "Listado de criptomonedas=%{x}<br>Market Cap($)=%{y}<extra></extra>",
         "legendgroup": "Bitget Token",
         "marker": {
          "color": "#00cc96",
          "pattern": {
           "shape": ""
          }
         },
         "name": "Bitget Token",
         "offsetgroup": "Bitget Token",
         "orientation": "v",
         "showlegend": true,
         "textposition": "auto",
         "type": "bar",
         "x": [
          "Bitget Token"
         ],
         "xaxis": "x",
         "y": [
          584623309
         ],
         "yaxis": "y"
        },
        {
         "alignmentgroup": "True",
         "hovertemplate": "Listado de criptomonedas=%{x}<br>Market Cap($)=%{y}<extra></extra>",
         "legendgroup": "Huobi",
         "marker": {
          "color": "#ab63fa",
          "pattern": {
           "shape": ""
          }
         },
         "name": "Huobi",
         "offsetgroup": "Huobi",
         "orientation": "v",
         "showlegend": true,
         "textposition": "auto",
         "type": "bar",
         "x": [
          "Huobi"
         ],
         "xaxis": "x",
         "y": [
          581141481
         ],
         "yaxis": "y"
        },
        {
         "alignmentgroup": "True",
         "hovertemplate": "Listado de criptomonedas=%{x}<br>Market Cap($)=%{y}<extra></extra>",
         "legendgroup": "XDC Network",
         "marker": {
          "color": "#FFA15A",
          "pattern": {
           "shape": ""
          }
         },
         "name": "XDC Network",
         "offsetgroup": "XDC Network",
         "orientation": "v",
         "showlegend": true,
         "textposition": "auto",
         "type": "bar",
         "x": [
          "XDC Network"
         ],
         "xaxis": "x",
         "y": [
          553592506
         ],
         "yaxis": "y"
        },
        {
         "alignmentgroup": "True",
         "hovertemplate": "Listado de criptomonedas=%{x}<br>Market Cap($)=%{y}<extra></extra>",
         "legendgroup": "cETH",
         "marker": {
          "color": "#19d3f3",
          "pattern": {
           "shape": ""
          }
         },
         "name": "cETH",
         "offsetgroup": "cETH",
         "orientation": "v",
         "showlegend": true,
         "textposition": "auto",
         "type": "bar",
         "x": [
          "cETH"
         ],
         "xaxis": "x",
         "y": [
          546260015
         ],
         "yaxis": "y"
        },
        {
         "alignmentgroup": "True",
         "hovertemplate": "Listado de criptomonedas=%{x}<br>Market Cap($)=%{y}<extra></extra>",
         "legendgroup": "Kaspa",
         "marker": {
          "color": "#FF6692",
          "pattern": {
           "shape": ""
          }
         },
         "name": "Kaspa",
         "offsetgroup": "Kaspa",
         "orientation": "v",
         "showlegend": true,
         "textposition": "auto",
         "type": "bar",
         "x": [
          "Kaspa"
         ],
         "xaxis": "x",
         "y": [
          528690775
         ],
         "yaxis": "y"
        },
        {
         "alignmentgroup": "True",
         "hovertemplate": "Listado de criptomonedas=%{x}<br>Market Cap($)=%{y}<extra></extra>",
         "legendgroup": "Tokenize Xchange",
         "marker": {
          "color": "#B6E880",
          "pattern": {
           "shape": ""
          }
         },
         "name": "Tokenize Xchange",
         "offsetgroup": "Tokenize Xchange",
         "orientation": "v",
         "showlegend": true,
         "textposition": "auto",
         "type": "bar",
         "x": [
          "Tokenize Xchange"
         ],
         "xaxis": "x",
         "y": [
          527737034
         ],
         "yaxis": "y"
        },
        {
         "alignmentgroup": "True",
         "hovertemplate": "Listado de criptomonedas=%{x}<br>Market Cap($)=%{y}<extra></extra>",
         "legendgroup": "PAX Gold",
         "marker": {
          "color": "#FF97FF",
          "pattern": {
           "shape": ""
          }
         },
         "name": "PAX Gold",
         "offsetgroup": "PAX Gold",
         "orientation": "v",
         "showlegend": true,
         "textposition": "auto",
         "type": "bar",
         "x": [
          "PAX Gold"
         ],
         "xaxis": "x",
         "y": [
          518450064
         ],
         "yaxis": "y"
        },
        {
         "alignmentgroup": "True",
         "hovertemplate": "Listado de criptomonedas=%{x}<br>Market Cap($)=%{y}<extra></extra>",
         "legendgroup": "Radix",
         "marker": {
          "color": "#FECB52",
          "pattern": {
           "shape": ""
          }
         },
         "name": "Radix",
         "offsetgroup": "Radix",
         "orientation": "v",
         "showlegend": true,
         "textposition": "auto",
         "type": "bar",
         "x": [
          "Radix"
         ],
         "xaxis": "x",
         "y": [
          517176440
         ],
         "yaxis": "y"
        },
        {
         "alignmentgroup": "True",
         "hovertemplate": "Listado de criptomonedas=%{x}<br>Market Cap($)=%{y}<extra></extra>",
         "legendgroup": "Trust Wallet",
         "marker": {
          "color": "#636efa",
          "pattern": {
           "shape": ""
          }
         },
         "name": "Trust Wallet",
         "offsetgroup": "Trust Wallet",
         "orientation": "v",
         "showlegend": true,
         "textposition": "auto",
         "type": "bar",
         "x": [
          "Trust Wallet"
         ],
         "xaxis": "x",
         "y": [
          512243579
         ],
         "yaxis": "y"
        },
        {
         "alignmentgroup": "True",
         "hovertemplate": "Listado de criptomonedas=%{x}<br>Market Cap($)=%{y}<extra></extra>",
         "legendgroup": "Tether Gold",
         "marker": {
          "color": "#EF553B",
          "pattern": {
           "shape": ""
          }
         },
         "name": "Tether Gold",
         "offsetgroup": "Tether Gold",
         "orientation": "v",
         "showlegend": true,
         "textposition": "auto",
         "type": "bar",
         "x": [
          "Tether Gold"
         ],
         "xaxis": "x",
         "y": [
          496095443
         ],
         "yaxis": "y"
        },
        {
         "alignmentgroup": "True",
         "hovertemplate": "Listado de criptomonedas=%{x}<br>Market Cap($)=%{y}<extra></extra>",
         "legendgroup": "Zilliqa",
         "marker": {
          "color": "#00cc96",
          "pattern": {
           "shape": ""
          }
         },
         "name": "Zilliqa",
         "offsetgroup": "Zilliqa",
         "orientation": "v",
         "showlegend": true,
         "textposition": "auto",
         "type": "bar",
         "x": [
          "Zilliqa"
         ],
         "xaxis": "x",
         "y": [
          477886916
         ],
         "yaxis": "y"
        },
        {
         "alignmentgroup": "True",
         "hovertemplate": "Listado de criptomonedas=%{x}<br>Market Cap($)=%{y}<extra></extra>",
         "legendgroup": "cUSDC",
         "marker": {
          "color": "#ab63fa",
          "pattern": {
           "shape": ""
          }
         },
         "name": "cUSDC",
         "offsetgroup": "cUSDC",
         "orientation": "v",
         "showlegend": true,
         "textposition": "auto",
         "type": "bar",
         "x": [
          "cUSDC"
         ],
         "xaxis": "x",
         "y": [
          475951601
         ],
         "yaxis": "y"
        },
        {
         "alignmentgroup": "True",
         "hovertemplate": "Listado de criptomonedas=%{x}<br>Market Cap($)=%{y}<extra></extra>",
         "legendgroup": "SingularityNET",
         "marker": {
          "color": "#FFA15A",
          "pattern": {
           "shape": ""
          }
         },
         "name": "SingularityNET",
         "offsetgroup": "SingularityNET",
         "orientation": "v",
         "showlegend": true,
         "textposition": "auto",
         "type": "bar",
         "x": [
          "SingularityNET"
         ],
         "xaxis": "x",
         "y": [
          473959777
         ],
         "yaxis": "y"
        },
        {
         "alignmentgroup": "True",
         "hovertemplate": "Listado de criptomonedas=%{x}<br>Market Cap($)=%{y}<extra></extra>",
         "legendgroup": "THORChain",
         "marker": {
          "color": "#19d3f3",
          "pattern": {
           "shape": ""
          }
         },
         "name": "THORChain",
         "offsetgroup": "THORChain",
         "orientation": "v",
         "showlegend": true,
         "textposition": "auto",
         "type": "bar",
         "x": [
          "THORChain"
         ],
         "xaxis": "x",
         "y": [
          472240177
         ],
         "yaxis": "y"
        },
        {
         "alignmentgroup": "True",
         "hovertemplate": "Listado de criptomonedas=%{x}<br>Market Cap($)=%{y}<extra></extra>",
         "legendgroup": "Casper Network",
         "marker": {
          "color": "#FF6692",
          "pattern": {
           "shape": ""
          }
         },
         "name": "Casper Network",
         "offsetgroup": "Casper Network",
         "orientation": "v",
         "showlegend": true,
         "textposition": "auto",
         "type": "bar",
         "x": [
          "Casper Network"
         ],
         "xaxis": "x",
         "y": [
          467028211
         ],
         "yaxis": "y"
        },
        {
         "alignmentgroup": "True",
         "hovertemplate": "Listado de criptomonedas=%{x}<br>Market Cap($)=%{y}<extra></extra>",
         "legendgroup": "Render",
         "marker": {
          "color": "#B6E880",
          "pattern": {
           "shape": ""
          }
         },
         "name": "Render",
         "offsetgroup": "Render",
         "orientation": "v",
         "showlegend": true,
         "textposition": "auto",
         "type": "bar",
         "x": [
          "Render"
         ],
         "xaxis": "x",
         "y": [
          462994313
         ],
         "yaxis": "y"
        },
        {
         "alignmentgroup": "True",
         "hovertemplate": "Listado de criptomonedas=%{x}<br>Market Cap($)=%{y}<extra></extra>",
         "legendgroup": "Rocket Pool ETH",
         "marker": {
          "color": "#FF97FF",
          "pattern": {
           "shape": ""
          }
         },
         "name": "Rocket Pool ETH",
         "offsetgroup": "Rocket Pool ETH",
         "orientation": "v",
         "showlegend": true,
         "textposition": "auto",
         "type": "bar",
         "x": [
          "Rocket Pool ETH"
         ],
         "xaxis": "x",
         "y": [
          460481930
         ],
         "yaxis": "y"
        },
        {
         "alignmentgroup": "True",
         "hovertemplate": "Listado de criptomonedas=%{x}<br>Market Cap($)=%{y}<extra></extra>",
         "legendgroup": "Enjin Coin",
         "marker": {
          "color": "#FECB52",
          "pattern": {
           "shape": ""
          }
         },
         "name": "Enjin Coin",
         "offsetgroup": "Enjin Coin",
         "orientation": "v",
         "showlegend": true,
         "textposition": "auto",
         "type": "bar",
         "x": [
          "Enjin Coin"
         ],
         "xaxis": "x",
         "y": [
          457155679
         ],
         "yaxis": "y"
        }
       ],
       "layout": {
        "barmode": "relative",
        "height": 400,
        "legend": {
         "title": {
          "text": "Listado de criptomonedas"
         },
         "tracegroupgap": 0
        },
        "template": {
         "data": {
          "bar": [
           {
            "error_x": {
             "color": "#2a3f5f"
            },
            "error_y": {
             "color": "#2a3f5f"
            },
            "marker": {
             "line": {
              "color": "#E5ECF6",
              "width": 0.5
             },
             "pattern": {
              "fillmode": "overlay",
              "size": 10,
              "solidity": 0.2
             }
            },
            "type": "bar"
           }
          ],
          "barpolar": [
           {
            "marker": {
             "line": {
              "color": "#E5ECF6",
              "width": 0.5
             },
             "pattern": {
              "fillmode": "overlay",
              "size": 10,
              "solidity": 0.2
             }
            },
            "type": "barpolar"
           }
          ],
          "carpet": [
           {
            "aaxis": {
             "endlinecolor": "#2a3f5f",
             "gridcolor": "white",
             "linecolor": "white",
             "minorgridcolor": "white",
             "startlinecolor": "#2a3f5f"
            },
            "baxis": {
             "endlinecolor": "#2a3f5f",
             "gridcolor": "white",
             "linecolor": "white",
             "minorgridcolor": "white",
             "startlinecolor": "#2a3f5f"
            },
            "type": "carpet"
           }
          ],
          "choropleth": [
           {
            "colorbar": {
             "outlinewidth": 0,
             "ticks": ""
            },
            "type": "choropleth"
           }
          ],
          "contour": [
           {
            "colorbar": {
             "outlinewidth": 0,
             "ticks": ""
            },
            "colorscale": [
             [
              0,
              "#0d0887"
             ],
             [
              0.1111111111111111,
              "#46039f"
             ],
             [
              0.2222222222222222,
              "#7201a8"
             ],
             [
              0.3333333333333333,
              "#9c179e"
             ],
             [
              0.4444444444444444,
              "#bd3786"
             ],
             [
              0.5555555555555556,
              "#d8576b"
             ],
             [
              0.6666666666666666,
              "#ed7953"
             ],
             [
              0.7777777777777778,
              "#fb9f3a"
             ],
             [
              0.8888888888888888,
              "#fdca26"
             ],
             [
              1,
              "#f0f921"
             ]
            ],
            "type": "contour"
           }
          ],
          "contourcarpet": [
           {
            "colorbar": {
             "outlinewidth": 0,
             "ticks": ""
            },
            "type": "contourcarpet"
           }
          ],
          "heatmap": [
           {
            "colorbar": {
             "outlinewidth": 0,
             "ticks": ""
            },
            "colorscale": [
             [
              0,
              "#0d0887"
             ],
             [
              0.1111111111111111,
              "#46039f"
             ],
             [
              0.2222222222222222,
              "#7201a8"
             ],
             [
              0.3333333333333333,
              "#9c179e"
             ],
             [
              0.4444444444444444,
              "#bd3786"
             ],
             [
              0.5555555555555556,
              "#d8576b"
             ],
             [
              0.6666666666666666,
              "#ed7953"
             ],
             [
              0.7777777777777778,
              "#fb9f3a"
             ],
             [
              0.8888888888888888,
              "#fdca26"
             ],
             [
              1,
              "#f0f921"
             ]
            ],
            "type": "heatmap"
           }
          ],
          "heatmapgl": [
           {
            "colorbar": {
             "outlinewidth": 0,
             "ticks": ""
            },
            "colorscale": [
             [
              0,
              "#0d0887"
             ],
             [
              0.1111111111111111,
              "#46039f"
             ],
             [
              0.2222222222222222,
              "#7201a8"
             ],
             [
              0.3333333333333333,
              "#9c179e"
             ],
             [
              0.4444444444444444,
              "#bd3786"
             ],
             [
              0.5555555555555556,
              "#d8576b"
             ],
             [
              0.6666666666666666,
              "#ed7953"
             ],
             [
              0.7777777777777778,
              "#fb9f3a"
             ],
             [
              0.8888888888888888,
              "#fdca26"
             ],
             [
              1,
              "#f0f921"
             ]
            ],
            "type": "heatmapgl"
           }
          ],
          "histogram": [
           {
            "marker": {
             "pattern": {
              "fillmode": "overlay",
              "size": 10,
              "solidity": 0.2
             }
            },
            "type": "histogram"
           }
          ],
          "histogram2d": [
           {
            "colorbar": {
             "outlinewidth": 0,
             "ticks": ""
            },
            "colorscale": [
             [
              0,
              "#0d0887"
             ],
             [
              0.1111111111111111,
              "#46039f"
             ],
             [
              0.2222222222222222,
              "#7201a8"
             ],
             [
              0.3333333333333333,
              "#9c179e"
             ],
             [
              0.4444444444444444,
              "#bd3786"
             ],
             [
              0.5555555555555556,
              "#d8576b"
             ],
             [
              0.6666666666666666,
              "#ed7953"
             ],
             [
              0.7777777777777778,
              "#fb9f3a"
             ],
             [
              0.8888888888888888,
              "#fdca26"
             ],
             [
              1,
              "#f0f921"
             ]
            ],
            "type": "histogram2d"
           }
          ],
          "histogram2dcontour": [
           {
            "colorbar": {
             "outlinewidth": 0,
             "ticks": ""
            },
            "colorscale": [
             [
              0,
              "#0d0887"
             ],
             [
              0.1111111111111111,
              "#46039f"
             ],
             [
              0.2222222222222222,
              "#7201a8"
             ],
             [
              0.3333333333333333,
              "#9c179e"
             ],
             [
              0.4444444444444444,
              "#bd3786"
             ],
             [
              0.5555555555555556,
              "#d8576b"
             ],
             [
              0.6666666666666666,
              "#ed7953"
             ],
             [
              0.7777777777777778,
              "#fb9f3a"
             ],
             [
              0.8888888888888888,
              "#fdca26"
             ],
             [
              1,
              "#f0f921"
             ]
            ],
            "type": "histogram2dcontour"
           }
          ],
          "mesh3d": [
           {
            "colorbar": {
             "outlinewidth": 0,
             "ticks": ""
            },
            "type": "mesh3d"
           }
          ],
          "parcoords": [
           {
            "line": {
             "colorbar": {
              "outlinewidth": 0,
              "ticks": ""
             }
            },
            "type": "parcoords"
           }
          ],
          "pie": [
           {
            "automargin": true,
            "type": "pie"
           }
          ],
          "scatter": [
           {
            "fillpattern": {
             "fillmode": "overlay",
             "size": 10,
             "solidity": 0.2
            },
            "type": "scatter"
           }
          ],
          "scatter3d": [
           {
            "line": {
             "colorbar": {
              "outlinewidth": 0,
              "ticks": ""
             }
            },
            "marker": {
             "colorbar": {
              "outlinewidth": 0,
              "ticks": ""
             }
            },
            "type": "scatter3d"
           }
          ],
          "scattercarpet": [
           {
            "marker": {
             "colorbar": {
              "outlinewidth": 0,
              "ticks": ""
             }
            },
            "type": "scattercarpet"
           }
          ],
          "scattergeo": [
           {
            "marker": {
             "colorbar": {
              "outlinewidth": 0,
              "ticks": ""
             }
            },
            "type": "scattergeo"
           }
          ],
          "scattergl": [
           {
            "marker": {
             "colorbar": {
              "outlinewidth": 0,
              "ticks": ""
             }
            },
            "type": "scattergl"
           }
          ],
          "scattermapbox": [
           {
            "marker": {
             "colorbar": {
              "outlinewidth": 0,
              "ticks": ""
             }
            },
            "type": "scattermapbox"
           }
          ],
          "scatterpolar": [
           {
            "marker": {
             "colorbar": {
              "outlinewidth": 0,
              "ticks": ""
             }
            },
            "type": "scatterpolar"
           }
          ],
          "scatterpolargl": [
           {
            "marker": {
             "colorbar": {
              "outlinewidth": 0,
              "ticks": ""
             }
            },
            "type": "scatterpolargl"
           }
          ],
          "scatterternary": [
           {
            "marker": {
             "colorbar": {
              "outlinewidth": 0,
              "ticks": ""
             }
            },
            "type": "scatterternary"
           }
          ],
          "surface": [
           {
            "colorbar": {
             "outlinewidth": 0,
             "ticks": ""
            },
            "colorscale": [
             [
              0,
              "#0d0887"
             ],
             [
              0.1111111111111111,
              "#46039f"
             ],
             [
              0.2222222222222222,
              "#7201a8"
             ],
             [
              0.3333333333333333,
              "#9c179e"
             ],
             [
              0.4444444444444444,
              "#bd3786"
             ],
             [
              0.5555555555555556,
              "#d8576b"
             ],
             [
              0.6666666666666666,
              "#ed7953"
             ],
             [
              0.7777777777777778,
              "#fb9f3a"
             ],
             [
              0.8888888888888888,
              "#fdca26"
             ],
             [
              1,
              "#f0f921"
             ]
            ],
            "type": "surface"
           }
          ],
          "table": [
           {
            "cells": {
             "fill": {
              "color": "#EBF0F8"
             },
             "line": {
              "color": "white"
             }
            },
            "header": {
             "fill": {
              "color": "#C8D4E3"
             },
             "line": {
              "color": "white"
             }
            },
            "type": "table"
           }
          ]
         },
         "layout": {
          "annotationdefaults": {
           "arrowcolor": "#2a3f5f",
           "arrowhead": 0,
           "arrowwidth": 1
          },
          "autotypenumbers": "strict",
          "coloraxis": {
           "colorbar": {
            "outlinewidth": 0,
            "ticks": ""
           }
          },
          "colorscale": {
           "diverging": [
            [
             0,
             "#8e0152"
            ],
            [
             0.1,
             "#c51b7d"
            ],
            [
             0.2,
             "#de77ae"
            ],
            [
             0.3,
             "#f1b6da"
            ],
            [
             0.4,
             "#fde0ef"
            ],
            [
             0.5,
             "#f7f7f7"
            ],
            [
             0.6,
             "#e6f5d0"
            ],
            [
             0.7,
             "#b8e186"
            ],
            [
             0.8,
             "#7fbc41"
            ],
            [
             0.9,
             "#4d9221"
            ],
            [
             1,
             "#276419"
            ]
           ],
           "sequential": [
            [
             0,
             "#0d0887"
            ],
            [
             0.1111111111111111,
             "#46039f"
            ],
            [
             0.2222222222222222,
             "#7201a8"
            ],
            [
             0.3333333333333333,
             "#9c179e"
            ],
            [
             0.4444444444444444,
             "#bd3786"
            ],
            [
             0.5555555555555556,
             "#d8576b"
            ],
            [
             0.6666666666666666,
             "#ed7953"
            ],
            [
             0.7777777777777778,
             "#fb9f3a"
            ],
            [
             0.8888888888888888,
             "#fdca26"
            ],
            [
             1,
             "#f0f921"
            ]
           ],
           "sequentialminus": [
            [
             0,
             "#0d0887"
            ],
            [
             0.1111111111111111,
             "#46039f"
            ],
            [
             0.2222222222222222,
             "#7201a8"
            ],
            [
             0.3333333333333333,
             "#9c179e"
            ],
            [
             0.4444444444444444,
             "#bd3786"
            ],
            [
             0.5555555555555556,
             "#d8576b"
            ],
            [
             0.6666666666666666,
             "#ed7953"
            ],
            [
             0.7777777777777778,
             "#fb9f3a"
            ],
            [
             0.8888888888888888,
             "#fdca26"
            ],
            [
             1,
             "#f0f921"
            ]
           ]
          },
          "colorway": [
           "#636efa",
           "#EF553B",
           "#00cc96",
           "#ab63fa",
           "#FFA15A",
           "#19d3f3",
           "#FF6692",
           "#B6E880",
           "#FF97FF",
           "#FECB52"
          ],
          "font": {
           "color": "#2a3f5f"
          },
          "geo": {
           "bgcolor": "white",
           "lakecolor": "white",
           "landcolor": "#E5ECF6",
           "showlakes": true,
           "showland": true,
           "subunitcolor": "white"
          },
          "hoverlabel": {
           "align": "left"
          },
          "hovermode": "closest",
          "mapbox": {
           "style": "light"
          },
          "paper_bgcolor": "white",
          "plot_bgcolor": "#E5ECF6",
          "polar": {
           "angularaxis": {
            "gridcolor": "white",
            "linecolor": "white",
            "ticks": ""
           },
           "bgcolor": "#E5ECF6",
           "radialaxis": {
            "gridcolor": "white",
            "linecolor": "white",
            "ticks": ""
           }
          },
          "scene": {
           "xaxis": {
            "backgroundcolor": "#E5ECF6",
            "gridcolor": "white",
            "gridwidth": 2,
            "linecolor": "white",
            "showbackground": true,
            "ticks": "",
            "zerolinecolor": "white"
           },
           "yaxis": {
            "backgroundcolor": "#E5ECF6",
            "gridcolor": "white",
            "gridwidth": 2,
            "linecolor": "white",
            "showbackground": true,
            "ticks": "",
            "zerolinecolor": "white"
           },
           "zaxis": {
            "backgroundcolor": "#E5ECF6",
            "gridcolor": "white",
            "gridwidth": 2,
            "linecolor": "white",
            "showbackground": true,
            "ticks": "",
            "zerolinecolor": "white"
           }
          },
          "shapedefaults": {
           "line": {
            "color": "#2a3f5f"
           }
          },
          "ternary": {
           "aaxis": {
            "gridcolor": "white",
            "linecolor": "white",
            "ticks": ""
           },
           "baxis": {
            "gridcolor": "white",
            "linecolor": "white",
            "ticks": ""
           },
           "bgcolor": "#E5ECF6",
           "caxis": {
            "gridcolor": "white",
            "linecolor": "white",
            "ticks": ""
           }
          },
          "title": {
           "x": 0.05
          },
          "xaxis": {
           "automargin": true,
           "gridcolor": "white",
           "linecolor": "white",
           "ticks": "",
           "title": {
            "standoff": 15
           },
           "zerolinecolor": "white",
           "zerolinewidth": 2
          },
          "yaxis": {
           "automargin": true,
           "gridcolor": "white",
           "linecolor": "white",
           "ticks": "",
           "title": {
            "standoff": 15
           },
           "zerolinecolor": "white",
           "zerolinewidth": 2
          }
         }
        },
        "title": {
         "text": "Las 100 primera criptomonedas de coingecko"
        },
        "xaxis": {
         "anchor": "y",
         "categoryarray": [
          "Bitcoin",
          "Ethereum",
          "Tether",
          "BNB",
          "USD Coin",
          "XRP",
          "Cardano",
          "Dogecoin",
          "Lido Staked Ether",
          "Polygon",
          "Solana",
          "Polkadot",
          "Binance USD",
          "Litecoin",
          "Shiba Inu",
          "TRON",
          "Avalanche",
          "Dai",
          "Uniswap",
          "Wrapped Bitcoin",
          "Chainlink",
          "Toncoin",
          "Cosmos Hub",
          "LEO Token",
          "Monero",
          "Ethereum Classic",
          "Stellar",
          "OKB",
          "Bitcoin Cash",
          "Filecoin",
          "Lido DAO",
          "TrueUSD",
          "Aptos",
          "Hedera",
          "VeChain",
          "Quant",
          "Cronos",
          "NEAR Protocol",
          "Algorand",
          "ApeCoin",
          "Arbitrum",
          "Internet Computer",
          "EOS",
          "Fantom",
          "The Graph",
          "The Sandbox",
          "Stacks",
          "Aave",
          "Decentraland",
          "Theta Network",
          "Frax",
          "Flow",
          "MultiversX",
          "Tezos",
          "Edgecoin",
          "Axie Infinity",
          "ImmutableX",
          "NEO",
          "Rocket Pool",
          "Pax Dollar",
          "Synthetix Network",
          "KuCoin",
          "Curve DAO",
          "Conflux",
          "Gate",
          "Chiliz",
          "BitDAO",
          "Klaytn",
          "Terra Luna Classic",
          "USDD",
          "Optimism",
          "WhiteBIT Token",
          "Bitcoin SV",
          "PancakeSwap",
          "GMX",
          "Frax Share",
          "Mina Protocol",
          "IOTA",
          "Dash",
          "Maker",
          "eCash",
          "BitTorrent",
          "Bitget Token",
          "Huobi",
          "XDC Network",
          "cETH",
          "Kaspa",
          "Tokenize Xchange",
          "PAX Gold",
          "Radix",
          "Trust Wallet",
          "Tether Gold",
          "Zilliqa",
          "cUSDC",
          "SingularityNET",
          "THORChain",
          "Casper Network",
          "Render",
          "Rocket Pool ETH",
          "Enjin Coin"
         ],
         "categoryorder": "array",
         "domain": [
          0,
          1
         ],
         "title": {
          "text": "Listado de criptomonedas"
         }
        },
        "yaxis": {
         "anchor": "x",
         "domain": [
          0,
          1
         ],
         "title": {
          "text": "Market Cap($)"
         }
        }
       }
      },
      "text/html": [
       "<div>                            <div id=\"3fb7980d-d3df-4edc-94a8-7e46f51324e8\" class=\"plotly-graph-div\" style=\"height:400px; width:100%;\"></div>            <script type=\"text/javascript\">                require([\"plotly\"], function(Plotly) {                    window.PLOTLYENV=window.PLOTLYENV || {};                                    if (document.getElementById(\"3fb7980d-d3df-4edc-94a8-7e46f51324e8\")) {                    Plotly.newPlot(                        \"3fb7980d-d3df-4edc-94a8-7e46f51324e8\",                        [{\"alignmentgroup\":\"True\",\"hovertemplate\":\"Listado de criptomonedas=%{x}<br>Market Cap($)=%{y}<extra></extra>\",\"legendgroup\":\"Bitcoin\",\"marker\":{\"color\":\"#636efa\",\"pattern\":{\"shape\":\"\"}},\"name\":\"Bitcoin\",\"offsetgroup\":\"Bitcoin\",\"orientation\":\"v\",\"showlegend\":true,\"textposition\":\"auto\",\"x\":[\"Bitcoin\"],\"xaxis\":\"x\",\"y\":[541628824546],\"yaxis\":\"y\",\"type\":\"bar\"},{\"alignmentgroup\":\"True\",\"hovertemplate\":\"Listado de criptomonedas=%{x}<br>Market Cap($)=%{y}<extra></extra>\",\"legendgroup\":\"Ethereum\",\"marker\":{\"color\":\"#EF553B\",\"pattern\":{\"shape\":\"\"}},\"name\":\"Ethereum\",\"offsetgroup\":\"Ethereum\",\"orientation\":\"v\",\"showlegend\":true,\"textposition\":\"auto\",\"x\":[\"Ethereum\"],\"xaxis\":\"x\",\"y\":[224892057319],\"yaxis\":\"y\",\"type\":\"bar\"},{\"alignmentgroup\":\"True\",\"hovertemplate\":\"Listado de criptomonedas=%{x}<br>Market Cap($)=%{y}<extra></extra>\",\"legendgroup\":\"Tether\",\"marker\":{\"color\":\"#00cc96\",\"pattern\":{\"shape\":\"\"}},\"name\":\"Tether\",\"offsetgroup\":\"Tether\",\"orientation\":\"v\",\"showlegend\":true,\"textposition\":\"auto\",\"x\":[\"Tether\"],\"xaxis\":\"x\",\"y\":[80273606417],\"yaxis\":\"y\",\"type\":\"bar\"},{\"alignmentgroup\":\"True\",\"hovertemplate\":\"Listado de criptomonedas=%{x}<br>Market Cap($)=%{y}<extra></extra>\",\"legendgroup\":\"BNB\",\"marker\":{\"color\":\"#ab63fa\",\"pattern\":{\"shape\":\"\"}},\"name\":\"BNB\",\"offsetgroup\":\"BNB\",\"orientation\":\"v\",\"showlegend\":true,\"textposition\":\"auto\",\"x\":[\"BNB\"],\"xaxis\":\"x\",\"y\":[49349370768],\"yaxis\":\"y\",\"type\":\"bar\"},{\"alignmentgroup\":\"True\",\"hovertemplate\":\"Listado de criptomonedas=%{x}<br>Market Cap($)=%{y}<extra></extra>\",\"legendgroup\":\"USD Coin\",\"marker\":{\"color\":\"#FFA15A\",\"pattern\":{\"shape\":\"\"}},\"name\":\"USD Coin\",\"offsetgroup\":\"USD Coin\",\"orientation\":\"v\",\"showlegend\":true,\"textposition\":\"auto\",\"x\":[\"USD Coin\"],\"xaxis\":\"x\",\"y\":[32614288443],\"yaxis\":\"y\",\"type\":\"bar\"},{\"alignmentgroup\":\"True\",\"hovertemplate\":\"Listado de criptomonedas=%{x}<br>Market Cap($)=%{y}<extra></extra>\",\"legendgroup\":\"XRP\",\"marker\":{\"color\":\"#19d3f3\",\"pattern\":{\"shape\":\"\"}},\"name\":\"XRP\",\"offsetgroup\":\"XRP\",\"orientation\":\"v\",\"showlegend\":true,\"textposition\":\"auto\",\"x\":[\"XRP\"],\"xaxis\":\"x\",\"y\":[26307437820],\"yaxis\":\"y\",\"type\":\"bar\"},{\"alignmentgroup\":\"True\",\"hovertemplate\":\"Listado de criptomonedas=%{x}<br>Market Cap($)=%{y}<extra></extra>\",\"legendgroup\":\"Cardano\",\"marker\":{\"color\":\"#FF6692\",\"pattern\":{\"shape\":\"\"}},\"name\":\"Cardano\",\"offsetgroup\":\"Cardano\",\"orientation\":\"v\",\"showlegend\":true,\"textposition\":\"auto\",\"x\":[\"Cardano\"],\"xaxis\":\"x\",\"y\":[13582375319],\"yaxis\":\"y\",\"type\":\"bar\"},{\"alignmentgroup\":\"True\",\"hovertemplate\":\"Listado de criptomonedas=%{x}<br>Market Cap($)=%{y}<extra></extra>\",\"legendgroup\":\"Dogecoin\",\"marker\":{\"color\":\"#B6E880\",\"pattern\":{\"shape\":\"\"}},\"name\":\"Dogecoin\",\"offsetgroup\":\"Dogecoin\",\"orientation\":\"v\",\"showlegend\":true,\"textposition\":\"auto\",\"x\":[\"Dogecoin\"],\"xaxis\":\"x\",\"y\":[11498152854],\"yaxis\":\"y\",\"type\":\"bar\"},{\"alignmentgroup\":\"True\",\"hovertemplate\":\"Listado de criptomonedas=%{x}<br>Market Cap($)=%{y}<extra></extra>\",\"legendgroup\":\"Lido Staked Ether\",\"marker\":{\"color\":\"#FF97FF\",\"pattern\":{\"shape\":\"\"}},\"name\":\"Lido Staked Ether\",\"offsetgroup\":\"Lido Staked Ether\",\"orientation\":\"v\",\"showlegend\":true,\"textposition\":\"auto\",\"x\":[\"Lido Staked Ether\"],\"xaxis\":\"x\",\"y\":[11023703902],\"yaxis\":\"y\",\"type\":\"bar\"},{\"alignmentgroup\":\"True\",\"hovertemplate\":\"Listado de criptomonedas=%{x}<br>Market Cap($)=%{y}<extra></extra>\",\"legendgroup\":\"Polygon\",\"marker\":{\"color\":\"#FECB52\",\"pattern\":{\"shape\":\"\"}},\"name\":\"Polygon\",\"offsetgroup\":\"Polygon\",\"orientation\":\"v\",\"showlegend\":true,\"textposition\":\"auto\",\"x\":[\"Polygon\"],\"xaxis\":\"x\",\"y\":[10191081071],\"yaxis\":\"y\",\"type\":\"bar\"},{\"alignmentgroup\":\"True\",\"hovertemplate\":\"Listado de criptomonedas=%{x}<br>Market Cap($)=%{y}<extra></extra>\",\"legendgroup\":\"Solana\",\"marker\":{\"color\":\"#636efa\",\"pattern\":{\"shape\":\"\"}},\"name\":\"Solana\",\"offsetgroup\":\"Solana\",\"orientation\":\"v\",\"showlegend\":true,\"textposition\":\"auto\",\"x\":[\"Solana\"],\"xaxis\":\"x\",\"y\":[7905835804],\"yaxis\":\"y\",\"type\":\"bar\"},{\"alignmentgroup\":\"True\",\"hovertemplate\":\"Listado de criptomonedas=%{x}<br>Market Cap($)=%{y}<extra></extra>\",\"legendgroup\":\"Polkadot\",\"marker\":{\"color\":\"#EF553B\",\"pattern\":{\"shape\":\"\"}},\"name\":\"Polkadot\",\"offsetgroup\":\"Polkadot\",\"orientation\":\"v\",\"showlegend\":true,\"textposition\":\"auto\",\"x\":[\"Polkadot\"],\"xaxis\":\"x\",\"y\":[7527072885],\"yaxis\":\"y\",\"type\":\"bar\"},{\"alignmentgroup\":\"True\",\"hovertemplate\":\"Listado de criptomonedas=%{x}<br>Market Cap($)=%{y}<extra></extra>\",\"legendgroup\":\"Binance USD\",\"marker\":{\"color\":\"#00cc96\",\"pattern\":{\"shape\":\"\"}},\"name\":\"Binance USD\",\"offsetgroup\":\"Binance USD\",\"orientation\":\"v\",\"showlegend\":true,\"textposition\":\"auto\",\"x\":[\"Binance USD\"],\"xaxis\":\"x\",\"y\":[7071052411],\"yaxis\":\"y\",\"type\":\"bar\"},{\"alignmentgroup\":\"True\",\"hovertemplate\":\"Listado de criptomonedas=%{x}<br>Market Cap($)=%{y}<extra></extra>\",\"legendgroup\":\"Litecoin\",\"marker\":{\"color\":\"#ab63fa\",\"pattern\":{\"shape\":\"\"}},\"name\":\"Litecoin\",\"offsetgroup\":\"Litecoin\",\"orientation\":\"v\",\"showlegend\":true,\"textposition\":\"auto\",\"x\":[\"Litecoin\"],\"xaxis\":\"x\",\"y\":[6563056198],\"yaxis\":\"y\",\"type\":\"bar\"},{\"alignmentgroup\":\"True\",\"hovertemplate\":\"Listado de criptomonedas=%{x}<br>Market Cap($)=%{y}<extra></extra>\",\"legendgroup\":\"Shiba Inu\",\"marker\":{\"color\":\"#FFA15A\",\"pattern\":{\"shape\":\"\"}},\"name\":\"Shiba Inu\",\"offsetgroup\":\"Shiba Inu\",\"orientation\":\"v\",\"showlegend\":true,\"textposition\":\"auto\",\"x\":[\"Shiba Inu\"],\"xaxis\":\"x\",\"y\":[6451440525],\"yaxis\":\"y\",\"type\":\"bar\"},{\"alignmentgroup\":\"True\",\"hovertemplate\":\"Listado de criptomonedas=%{x}<br>Market Cap($)=%{y}<extra></extra>\",\"legendgroup\":\"TRON\",\"marker\":{\"color\":\"#19d3f3\",\"pattern\":{\"shape\":\"\"}},\"name\":\"TRON\",\"offsetgroup\":\"TRON\",\"orientation\":\"v\",\"showlegend\":true,\"textposition\":\"auto\",\"x\":[\"TRON\"],\"xaxis\":\"x\",\"y\":[6022982559],\"yaxis\":\"y\",\"type\":\"bar\"},{\"alignmentgroup\":\"True\",\"hovertemplate\":\"Listado de criptomonedas=%{x}<br>Market Cap($)=%{y}<extra></extra>\",\"legendgroup\":\"Avalanche\",\"marker\":{\"color\":\"#FF6692\",\"pattern\":{\"shape\":\"\"}},\"name\":\"Avalanche\",\"offsetgroup\":\"Avalanche\",\"orientation\":\"v\",\"showlegend\":true,\"textposition\":\"auto\",\"x\":[\"Avalanche\"],\"xaxis\":\"x\",\"y\":[5748108674],\"yaxis\":\"y\",\"type\":\"bar\"},{\"alignmentgroup\":\"True\",\"hovertemplate\":\"Listado de criptomonedas=%{x}<br>Market Cap($)=%{y}<extra></extra>\",\"legendgroup\":\"Dai\",\"marker\":{\"color\":\"#B6E880\",\"pattern\":{\"shape\":\"\"}},\"name\":\"Dai\",\"offsetgroup\":\"Dai\",\"orientation\":\"v\",\"showlegend\":true,\"textposition\":\"auto\",\"x\":[\"Dai\"],\"xaxis\":\"x\",\"y\":[5081489591],\"yaxis\":\"y\",\"type\":\"bar\"},{\"alignmentgroup\":\"True\",\"hovertemplate\":\"Listado de criptomonedas=%{x}<br>Market Cap($)=%{y}<extra></extra>\",\"legendgroup\":\"Uniswap\",\"marker\":{\"color\":\"#FF97FF\",\"pattern\":{\"shape\":\"\"}},\"name\":\"Uniswap\",\"offsetgroup\":\"Uniswap\",\"orientation\":\"v\",\"showlegend\":true,\"textposition\":\"auto\",\"x\":[\"Uniswap\"],\"xaxis\":\"x\",\"y\":[4492962212],\"yaxis\":\"y\",\"type\":\"bar\"},{\"alignmentgroup\":\"True\",\"hovertemplate\":\"Listado de criptomonedas=%{x}<br>Market Cap($)=%{y}<extra></extra>\",\"legendgroup\":\"Wrapped Bitcoin\",\"marker\":{\"color\":\"#FECB52\",\"pattern\":{\"shape\":\"\"}},\"name\":\"Wrapped Bitcoin\",\"offsetgroup\":\"Wrapped Bitcoin\",\"orientation\":\"v\",\"showlegend\":true,\"textposition\":\"auto\",\"x\":[\"Wrapped Bitcoin\"],\"xaxis\":\"x\",\"y\":[4233009098],\"yaxis\":\"y\",\"type\":\"bar\"},{\"alignmentgroup\":\"True\",\"hovertemplate\":\"Listado de criptomonedas=%{x}<br>Market Cap($)=%{y}<extra></extra>\",\"legendgroup\":\"Chainlink\",\"marker\":{\"color\":\"#636efa\",\"pattern\":{\"shape\":\"\"}},\"name\":\"Chainlink\",\"offsetgroup\":\"Chainlink\",\"orientation\":\"v\",\"showlegend\":true,\"textposition\":\"auto\",\"x\":[\"Chainlink\"],\"xaxis\":\"x\",\"y\":[3719445880],\"yaxis\":\"y\",\"type\":\"bar\"},{\"alignmentgroup\":\"True\",\"hovertemplate\":\"Listado de criptomonedas=%{x}<br>Market Cap($)=%{y}<extra></extra>\",\"legendgroup\":\"Toncoin\",\"marker\":{\"color\":\"#EF553B\",\"pattern\":{\"shape\":\"\"}},\"name\":\"Toncoin\",\"offsetgroup\":\"Toncoin\",\"orientation\":\"v\",\"showlegend\":true,\"textposition\":\"auto\",\"x\":[\"Toncoin\"],\"xaxis\":\"x\",\"y\":[3316246785],\"yaxis\":\"y\",\"type\":\"bar\"},{\"alignmentgroup\":\"True\",\"hovertemplate\":\"Listado de criptomonedas=%{x}<br>Market Cap($)=%{y}<extra></extra>\",\"legendgroup\":\"Cosmos Hub\",\"marker\":{\"color\":\"#00cc96\",\"pattern\":{\"shape\":\"\"}},\"name\":\"Cosmos Hub\",\"offsetgroup\":\"Cosmos Hub\",\"orientation\":\"v\",\"showlegend\":true,\"textposition\":\"auto\",\"x\":[\"Cosmos Hub\"],\"xaxis\":\"x\",\"y\":[3225618228],\"yaxis\":\"y\",\"type\":\"bar\"},{\"alignmentgroup\":\"True\",\"hovertemplate\":\"Listado de criptomonedas=%{x}<br>Market Cap($)=%{y}<extra></extra>\",\"legendgroup\":\"LEO Token\",\"marker\":{\"color\":\"#ab63fa\",\"pattern\":{\"shape\":\"\"}},\"name\":\"LEO Token\",\"offsetgroup\":\"LEO Token\",\"orientation\":\"v\",\"showlegend\":true,\"textposition\":\"auto\",\"x\":[\"LEO Token\"],\"xaxis\":\"x\",\"y\":[3141139527],\"yaxis\":\"y\",\"type\":\"bar\"},{\"alignmentgroup\":\"True\",\"hovertemplate\":\"Listado de criptomonedas=%{x}<br>Market Cap($)=%{y}<extra></extra>\",\"legendgroup\":\"Monero\",\"marker\":{\"color\":\"#FFA15A\",\"pattern\":{\"shape\":\"\"}},\"name\":\"Monero\",\"offsetgroup\":\"Monero\",\"orientation\":\"v\",\"showlegend\":true,\"textposition\":\"auto\",\"x\":[\"Monero\"],\"xaxis\":\"x\",\"y\":[2885812581],\"yaxis\":\"y\",\"type\":\"bar\"},{\"alignmentgroup\":\"True\",\"hovertemplate\":\"Listado de criptomonedas=%{x}<br>Market Cap($)=%{y}<extra></extra>\",\"legendgroup\":\"Ethereum Classic\",\"marker\":{\"color\":\"#19d3f3\",\"pattern\":{\"shape\":\"\"}},\"name\":\"Ethereum Classic\",\"offsetgroup\":\"Ethereum Classic\",\"orientation\":\"v\",\"showlegend\":true,\"textposition\":\"auto\",\"x\":[\"Ethereum Classic\"],\"xaxis\":\"x\",\"y\":[2877020567],\"yaxis\":\"y\",\"type\":\"bar\"},{\"alignmentgroup\":\"True\",\"hovertemplate\":\"Listado de criptomonedas=%{x}<br>Market Cap($)=%{y}<extra></extra>\",\"legendgroup\":\"Stellar\",\"marker\":{\"color\":\"#FF6692\",\"pattern\":{\"shape\":\"\"}},\"name\":\"Stellar\",\"offsetgroup\":\"Stellar\",\"orientation\":\"v\",\"showlegend\":true,\"textposition\":\"auto\",\"x\":[\"Stellar\"],\"xaxis\":\"x\",\"y\":[2801894428],\"yaxis\":\"y\",\"type\":\"bar\"},{\"alignmentgroup\":\"True\",\"hovertemplate\":\"Listado de criptomonedas=%{x}<br>Market Cap($)=%{y}<extra></extra>\",\"legendgroup\":\"OKB\",\"marker\":{\"color\":\"#B6E880\",\"pattern\":{\"shape\":\"\"}},\"name\":\"OKB\",\"offsetgroup\":\"OKB\",\"orientation\":\"v\",\"showlegend\":true,\"textposition\":\"auto\",\"x\":[\"OKB\"],\"xaxis\":\"x\",\"y\":[2482894781],\"yaxis\":\"y\",\"type\":\"bar\"},{\"alignmentgroup\":\"True\",\"hovertemplate\":\"Listado de criptomonedas=%{x}<br>Market Cap($)=%{y}<extra></extra>\",\"legendgroup\":\"Bitcoin Cash\",\"marker\":{\"color\":\"#FF97FF\",\"pattern\":{\"shape\":\"\"}},\"name\":\"Bitcoin Cash\",\"offsetgroup\":\"Bitcoin Cash\",\"orientation\":\"v\",\"showlegend\":true,\"textposition\":\"auto\",\"x\":[\"Bitcoin Cash\"],\"xaxis\":\"x\",\"y\":[2410492334],\"yaxis\":\"y\",\"type\":\"bar\"},{\"alignmentgroup\":\"True\",\"hovertemplate\":\"Listado de criptomonedas=%{x}<br>Market Cap($)=%{y}<extra></extra>\",\"legendgroup\":\"Filecoin\",\"marker\":{\"color\":\"#FECB52\",\"pattern\":{\"shape\":\"\"}},\"name\":\"Filecoin\",\"offsetgroup\":\"Filecoin\",\"orientation\":\"v\",\"showlegend\":true,\"textposition\":\"auto\",\"x\":[\"Filecoin\"],\"xaxis\":\"x\",\"y\":[2398096123],\"yaxis\":\"y\",\"type\":\"bar\"},{\"alignmentgroup\":\"True\",\"hovertemplate\":\"Listado de criptomonedas=%{x}<br>Market Cap($)=%{y}<extra></extra>\",\"legendgroup\":\"Lido DAO\",\"marker\":{\"color\":\"#636efa\",\"pattern\":{\"shape\":\"\"}},\"name\":\"Lido DAO\",\"offsetgroup\":\"Lido DAO\",\"orientation\":\"v\",\"showlegend\":true,\"textposition\":\"auto\",\"x\":[\"Lido DAO\"],\"xaxis\":\"x\",\"y\":[2099703148],\"yaxis\":\"y\",\"type\":\"bar\"},{\"alignmentgroup\":\"True\",\"hovertemplate\":\"Listado de criptomonedas=%{x}<br>Market Cap($)=%{y}<extra></extra>\",\"legendgroup\":\"TrueUSD\",\"marker\":{\"color\":\"#EF553B\",\"pattern\":{\"shape\":\"\"}},\"name\":\"TrueUSD\",\"offsetgroup\":\"TrueUSD\",\"orientation\":\"v\",\"showlegend\":true,\"textposition\":\"auto\",\"x\":[\"TrueUSD\"],\"xaxis\":\"x\",\"y\":[2040527342],\"yaxis\":\"y\",\"type\":\"bar\"},{\"alignmentgroup\":\"True\",\"hovertemplate\":\"Listado de criptomonedas=%{x}<br>Market Cap($)=%{y}<extra></extra>\",\"legendgroup\":\"Aptos\",\"marker\":{\"color\":\"#00cc96\",\"pattern\":{\"shape\":\"\"}},\"name\":\"Aptos\",\"offsetgroup\":\"Aptos\",\"orientation\":\"v\",\"showlegend\":true,\"textposition\":\"auto\",\"x\":[\"Aptos\"],\"xaxis\":\"x\",\"y\":[2012063057],\"yaxis\":\"y\",\"type\":\"bar\"},{\"alignmentgroup\":\"True\",\"hovertemplate\":\"Listado de criptomonedas=%{x}<br>Market Cap($)=%{y}<extra></extra>\",\"legendgroup\":\"Hedera\",\"marker\":{\"color\":\"#ab63fa\",\"pattern\":{\"shape\":\"\"}},\"name\":\"Hedera\",\"offsetgroup\":\"Hedera\",\"orientation\":\"v\",\"showlegend\":true,\"textposition\":\"auto\",\"x\":[\"Hedera\"],\"xaxis\":\"x\",\"y\":[1999321844],\"yaxis\":\"y\",\"type\":\"bar\"},{\"alignmentgroup\":\"True\",\"hovertemplate\":\"Listado de criptomonedas=%{x}<br>Market Cap($)=%{y}<extra></extra>\",\"legendgroup\":\"VeChain\",\"marker\":{\"color\":\"#FFA15A\",\"pattern\":{\"shape\":\"\"}},\"name\":\"VeChain\",\"offsetgroup\":\"VeChain\",\"orientation\":\"v\",\"showlegend\":true,\"textposition\":\"auto\",\"x\":[\"VeChain\"],\"xaxis\":\"x\",\"y\":[1752500867],\"yaxis\":\"y\",\"type\":\"bar\"},{\"alignmentgroup\":\"True\",\"hovertemplate\":\"Listado de criptomonedas=%{x}<br>Market Cap($)=%{y}<extra></extra>\",\"legendgroup\":\"Quant\",\"marker\":{\"color\":\"#19d3f3\",\"pattern\":{\"shape\":\"\"}},\"name\":\"Quant\",\"offsetgroup\":\"Quant\",\"orientation\":\"v\",\"showlegend\":true,\"textposition\":\"auto\",\"x\":[\"Quant\"],\"xaxis\":\"x\",\"y\":[1748689458],\"yaxis\":\"y\",\"type\":\"bar\"},{\"alignmentgroup\":\"True\",\"hovertemplate\":\"Listado de criptomonedas=%{x}<br>Market Cap($)=%{y}<extra></extra>\",\"legendgroup\":\"Cronos\",\"marker\":{\"color\":\"#FF6692\",\"pattern\":{\"shape\":\"\"}},\"name\":\"Cronos\",\"offsetgroup\":\"Cronos\",\"orientation\":\"v\",\"showlegend\":true,\"textposition\":\"auto\",\"x\":[\"Cronos\"],\"xaxis\":\"x\",\"y\":[1737895235],\"yaxis\":\"y\",\"type\":\"bar\"},{\"alignmentgroup\":\"True\",\"hovertemplate\":\"Listado de criptomonedas=%{x}<br>Market Cap($)=%{y}<extra></extra>\",\"legendgroup\":\"NEAR Protocol\",\"marker\":{\"color\":\"#B6E880\",\"pattern\":{\"shape\":\"\"}},\"name\":\"NEAR Protocol\",\"offsetgroup\":\"NEAR Protocol\",\"orientation\":\"v\",\"showlegend\":true,\"textposition\":\"auto\",\"x\":[\"NEAR Protocol\"],\"xaxis\":\"x\",\"y\":[1726006647],\"yaxis\":\"y\",\"type\":\"bar\"},{\"alignmentgroup\":\"True\",\"hovertemplate\":\"Listado de criptomonedas=%{x}<br>Market Cap($)=%{y}<extra></extra>\",\"legendgroup\":\"Algorand\",\"marker\":{\"color\":\"#FF97FF\",\"pattern\":{\"shape\":\"\"}},\"name\":\"Algorand\",\"offsetgroup\":\"Algorand\",\"orientation\":\"v\",\"showlegend\":true,\"textposition\":\"auto\",\"x\":[\"Algorand\"],\"xaxis\":\"x\",\"y\":[1580704294],\"yaxis\":\"y\",\"type\":\"bar\"},{\"alignmentgroup\":\"True\",\"hovertemplate\":\"Listado de criptomonedas=%{x}<br>Market Cap($)=%{y}<extra></extra>\",\"legendgroup\":\"ApeCoin\",\"marker\":{\"color\":\"#FECB52\",\"pattern\":{\"shape\":\"\"}},\"name\":\"ApeCoin\",\"offsetgroup\":\"ApeCoin\",\"orientation\":\"v\",\"showlegend\":true,\"textposition\":\"auto\",\"x\":[\"ApeCoin\"],\"xaxis\":\"x\",\"y\":[1550724842],\"yaxis\":\"y\",\"type\":\"bar\"},{\"alignmentgroup\":\"True\",\"hovertemplate\":\"Listado de criptomonedas=%{x}<br>Market Cap($)=%{y}<extra></extra>\",\"legendgroup\":\"Arbitrum\",\"marker\":{\"color\":\"#636efa\",\"pattern\":{\"shape\":\"\"}},\"name\":\"Arbitrum\",\"offsetgroup\":\"Arbitrum\",\"orientation\":\"v\",\"showlegend\":true,\"textposition\":\"auto\",\"x\":[\"Arbitrum\"],\"xaxis\":\"x\",\"y\":[1511353188],\"yaxis\":\"y\",\"type\":\"bar\"},{\"alignmentgroup\":\"True\",\"hovertemplate\":\"Listado de criptomonedas=%{x}<br>Market Cap($)=%{y}<extra></extra>\",\"legendgroup\":\"Internet Computer\",\"marker\":{\"color\":\"#EF553B\",\"pattern\":{\"shape\":\"\"}},\"name\":\"Internet Computer\",\"offsetgroup\":\"Internet Computer\",\"orientation\":\"v\",\"showlegend\":true,\"textposition\":\"auto\",\"x\":[\"Internet Computer\"],\"xaxis\":\"x\",\"y\":[1478373985],\"yaxis\":\"y\",\"type\":\"bar\"},{\"alignmentgroup\":\"True\",\"hovertemplate\":\"Listado de criptomonedas=%{x}<br>Market Cap($)=%{y}<extra></extra>\",\"legendgroup\":\"EOS\",\"marker\":{\"color\":\"#00cc96\",\"pattern\":{\"shape\":\"\"}},\"name\":\"EOS\",\"offsetgroup\":\"EOS\",\"orientation\":\"v\",\"showlegend\":true,\"textposition\":\"auto\",\"x\":[\"EOS\"],\"xaxis\":\"x\",\"y\":[1348640225],\"yaxis\":\"y\",\"type\":\"bar\"},{\"alignmentgroup\":\"True\",\"hovertemplate\":\"Listado de criptomonedas=%{x}<br>Market Cap($)=%{y}<extra></extra>\",\"legendgroup\":\"Fantom\",\"marker\":{\"color\":\"#ab63fa\",\"pattern\":{\"shape\":\"\"}},\"name\":\"Fantom\",\"offsetgroup\":\"Fantom\",\"orientation\":\"v\",\"showlegend\":true,\"textposition\":\"auto\",\"x\":[\"Fantom\"],\"xaxis\":\"x\",\"y\":[1286380378],\"yaxis\":\"y\",\"type\":\"bar\"},{\"alignmentgroup\":\"True\",\"hovertemplate\":\"Listado de criptomonedas=%{x}<br>Market Cap($)=%{y}<extra></extra>\",\"legendgroup\":\"The Graph\",\"marker\":{\"color\":\"#FFA15A\",\"pattern\":{\"shape\":\"\"}},\"name\":\"The Graph\",\"offsetgroup\":\"The Graph\",\"orientation\":\"v\",\"showlegend\":true,\"textposition\":\"auto\",\"x\":[\"The Graph\"],\"xaxis\":\"x\",\"y\":[1279128731],\"yaxis\":\"y\",\"type\":\"bar\"},{\"alignmentgroup\":\"True\",\"hovertemplate\":\"Listado de criptomonedas=%{x}<br>Market Cap($)=%{y}<extra></extra>\",\"legendgroup\":\"The Sandbox\",\"marker\":{\"color\":\"#19d3f3\",\"pattern\":{\"shape\":\"\"}},\"name\":\"The Sandbox\",\"offsetgroup\":\"The Sandbox\",\"orientation\":\"v\",\"showlegend\":true,\"textposition\":\"auto\",\"x\":[\"The Sandbox\"],\"xaxis\":\"x\",\"y\":[1170811184],\"yaxis\":\"y\",\"type\":\"bar\"},{\"alignmentgroup\":\"True\",\"hovertemplate\":\"Listado de criptomonedas=%{x}<br>Market Cap($)=%{y}<extra></extra>\",\"legendgroup\":\"Stacks\",\"marker\":{\"color\":\"#FF6692\",\"pattern\":{\"shape\":\"\"}},\"name\":\"Stacks\",\"offsetgroup\":\"Stacks\",\"orientation\":\"v\",\"showlegend\":true,\"textposition\":\"auto\",\"x\":[\"Stacks\"],\"xaxis\":\"x\",\"y\":[1119883988],\"yaxis\":\"y\",\"type\":\"bar\"},{\"alignmentgroup\":\"True\",\"hovertemplate\":\"Listado de criptomonedas=%{x}<br>Market Cap($)=%{y}<extra></extra>\",\"legendgroup\":\"Aave\",\"marker\":{\"color\":\"#B6E880\",\"pattern\":{\"shape\":\"\"}},\"name\":\"Aave\",\"offsetgroup\":\"Aave\",\"orientation\":\"v\",\"showlegend\":true,\"textposition\":\"auto\",\"x\":[\"Aave\"],\"xaxis\":\"x\",\"y\":[1111653316],\"yaxis\":\"y\",\"type\":\"bar\"},{\"alignmentgroup\":\"True\",\"hovertemplate\":\"Listado de criptomonedas=%{x}<br>Market Cap($)=%{y}<extra></extra>\",\"legendgroup\":\"Decentraland\",\"marker\":{\"color\":\"#FF97FF\",\"pattern\":{\"shape\":\"\"}},\"name\":\"Decentraland\",\"offsetgroup\":\"Decentraland\",\"orientation\":\"v\",\"showlegend\":true,\"textposition\":\"auto\",\"x\":[\"Decentraland\"],\"xaxis\":\"x\",\"y\":[1102378397],\"yaxis\":\"y\",\"type\":\"bar\"},{\"alignmentgroup\":\"True\",\"hovertemplate\":\"Listado de criptomonedas=%{x}<br>Market Cap($)=%{y}<extra></extra>\",\"legendgroup\":\"Theta Network\",\"marker\":{\"color\":\"#FECB52\",\"pattern\":{\"shape\":\"\"}},\"name\":\"Theta Network\",\"offsetgroup\":\"Theta Network\",\"orientation\":\"v\",\"showlegend\":true,\"textposition\":\"auto\",\"x\":[\"Theta Network\"],\"xaxis\":\"x\",\"y\":[1062965906],\"yaxis\":\"y\",\"type\":\"bar\"},{\"alignmentgroup\":\"True\",\"hovertemplate\":\"Listado de criptomonedas=%{x}<br>Market Cap($)=%{y}<extra></extra>\",\"legendgroup\":\"Frax\",\"marker\":{\"color\":\"#636efa\",\"pattern\":{\"shape\":\"\"}},\"name\":\"Frax\",\"offsetgroup\":\"Frax\",\"orientation\":\"v\",\"showlegend\":true,\"textposition\":\"auto\",\"x\":[\"Frax\"],\"xaxis\":\"x\",\"y\":[1044443763],\"yaxis\":\"y\",\"type\":\"bar\"},{\"alignmentgroup\":\"True\",\"hovertemplate\":\"Listado de criptomonedas=%{x}<br>Market Cap($)=%{y}<extra></extra>\",\"legendgroup\":\"Flow\",\"marker\":{\"color\":\"#EF553B\",\"pattern\":{\"shape\":\"\"}},\"name\":\"Flow\",\"offsetgroup\":\"Flow\",\"orientation\":\"v\",\"showlegend\":true,\"textposition\":\"auto\",\"x\":[\"Flow\"],\"xaxis\":\"x\",\"y\":[1030729741],\"yaxis\":\"y\",\"type\":\"bar\"},{\"alignmentgroup\":\"True\",\"hovertemplate\":\"Listado de criptomonedas=%{x}<br>Market Cap($)=%{y}<extra></extra>\",\"legendgroup\":\"MultiversX\",\"marker\":{\"color\":\"#00cc96\",\"pattern\":{\"shape\":\"\"}},\"name\":\"MultiversX\",\"offsetgroup\":\"MultiversX\",\"orientation\":\"v\",\"showlegend\":true,\"textposition\":\"auto\",\"x\":[\"MultiversX\"],\"xaxis\":\"x\",\"y\":[1029883701],\"yaxis\":\"y\",\"type\":\"bar\"},{\"alignmentgroup\":\"True\",\"hovertemplate\":\"Listado de criptomonedas=%{x}<br>Market Cap($)=%{y}<extra></extra>\",\"legendgroup\":\"Tezos\",\"marker\":{\"color\":\"#ab63fa\",\"pattern\":{\"shape\":\"\"}},\"name\":\"Tezos\",\"offsetgroup\":\"Tezos\",\"orientation\":\"v\",\"showlegend\":true,\"textposition\":\"auto\",\"x\":[\"Tezos\"],\"xaxis\":\"x\",\"y\":[1023097235],\"yaxis\":\"y\",\"type\":\"bar\"},{\"alignmentgroup\":\"True\",\"hovertemplate\":\"Listado de criptomonedas=%{x}<br>Market Cap($)=%{y}<extra></extra>\",\"legendgroup\":\"Edgecoin\",\"marker\":{\"color\":\"#FFA15A\",\"pattern\":{\"shape\":\"\"}},\"name\":\"Edgecoin\",\"offsetgroup\":\"Edgecoin\",\"orientation\":\"v\",\"showlegend\":true,\"textposition\":\"auto\",\"x\":[\"Edgecoin\"],\"xaxis\":\"x\",\"y\":[1000367712],\"yaxis\":\"y\",\"type\":\"bar\"},{\"alignmentgroup\":\"True\",\"hovertemplate\":\"Listado de criptomonedas=%{x}<br>Market Cap($)=%{y}<extra></extra>\",\"legendgroup\":\"Axie Infinity\",\"marker\":{\"color\":\"#19d3f3\",\"pattern\":{\"shape\":\"\"}},\"name\":\"Axie Infinity\",\"offsetgroup\":\"Axie Infinity\",\"orientation\":\"v\",\"showlegend\":true,\"textposition\":\"auto\",\"x\":[\"Axie Infinity\"],\"xaxis\":\"x\",\"y\":[997596363],\"yaxis\":\"y\",\"type\":\"bar\"},{\"alignmentgroup\":\"True\",\"hovertemplate\":\"Listado de criptomonedas=%{x}<br>Market Cap($)=%{y}<extra></extra>\",\"legendgroup\":\"ImmutableX\",\"marker\":{\"color\":\"#FF6692\",\"pattern\":{\"shape\":\"\"}},\"name\":\"ImmutableX\",\"offsetgroup\":\"ImmutableX\",\"orientation\":\"v\",\"showlegend\":true,\"textposition\":\"auto\",\"x\":[\"ImmutableX\"],\"xaxis\":\"x\",\"y\":[939308724],\"yaxis\":\"y\",\"type\":\"bar\"},{\"alignmentgroup\":\"True\",\"hovertemplate\":\"Listado de criptomonedas=%{x}<br>Market Cap($)=%{y}<extra></extra>\",\"legendgroup\":\"NEO\",\"marker\":{\"color\":\"#B6E880\",\"pattern\":{\"shape\":\"\"}},\"name\":\"NEO\",\"offsetgroup\":\"NEO\",\"orientation\":\"v\",\"showlegend\":true,\"textposition\":\"auto\",\"x\":[\"NEO\"],\"xaxis\":\"x\",\"y\":[877682663],\"yaxis\":\"y\",\"type\":\"bar\"},{\"alignmentgroup\":\"True\",\"hovertemplate\":\"Listado de criptomonedas=%{x}<br>Market Cap($)=%{y}<extra></extra>\",\"legendgroup\":\"Rocket Pool\",\"marker\":{\"color\":\"#FF97FF\",\"pattern\":{\"shape\":\"\"}},\"name\":\"Rocket Pool\",\"offsetgroup\":\"Rocket Pool\",\"orientation\":\"v\",\"showlegend\":true,\"textposition\":\"auto\",\"x\":[\"Rocket Pool\"],\"xaxis\":\"x\",\"y\":[876082295],\"yaxis\":\"y\",\"type\":\"bar\"},{\"alignmentgroup\":\"True\",\"hovertemplate\":\"Listado de criptomonedas=%{x}<br>Market Cap($)=%{y}<extra></extra>\",\"legendgroup\":\"Pax Dollar\",\"marker\":{\"color\":\"#FECB52\",\"pattern\":{\"shape\":\"\"}},\"name\":\"Pax Dollar\",\"offsetgroup\":\"Pax Dollar\",\"orientation\":\"v\",\"showlegend\":true,\"textposition\":\"auto\",\"x\":[\"Pax Dollar\"],\"xaxis\":\"x\",\"y\":[843334488],\"yaxis\":\"y\",\"type\":\"bar\"},{\"alignmentgroup\":\"True\",\"hovertemplate\":\"Listado de criptomonedas=%{x}<br>Market Cap($)=%{y}<extra></extra>\",\"legendgroup\":\"Synthetix Network\",\"marker\":{\"color\":\"#636efa\",\"pattern\":{\"shape\":\"\"}},\"name\":\"Synthetix Network\",\"offsetgroup\":\"Synthetix Network\",\"orientation\":\"v\",\"showlegend\":true,\"textposition\":\"auto\",\"x\":[\"Synthetix Network\"],\"xaxis\":\"x\",\"y\":[835015267],\"yaxis\":\"y\",\"type\":\"bar\"},{\"alignmentgroup\":\"True\",\"hovertemplate\":\"Listado de criptomonedas=%{x}<br>Market Cap($)=%{y}<extra></extra>\",\"legendgroup\":\"KuCoin\",\"marker\":{\"color\":\"#EF553B\",\"pattern\":{\"shape\":\"\"}},\"name\":\"KuCoin\",\"offsetgroup\":\"KuCoin\",\"orientation\":\"v\",\"showlegend\":true,\"textposition\":\"auto\",\"x\":[\"KuCoin\"],\"xaxis\":\"x\",\"y\":[817602990],\"yaxis\":\"y\",\"type\":\"bar\"},{\"alignmentgroup\":\"True\",\"hovertemplate\":\"Listado de criptomonedas=%{x}<br>Market Cap($)=%{y}<extra></extra>\",\"legendgroup\":\"Curve DAO\",\"marker\":{\"color\":\"#00cc96\",\"pattern\":{\"shape\":\"\"}},\"name\":\"Curve DAO\",\"offsetgroup\":\"Curve DAO\",\"orientation\":\"v\",\"showlegend\":true,\"textposition\":\"auto\",\"x\":[\"Curve DAO\"],\"xaxis\":\"x\",\"y\":[817328160],\"yaxis\":\"y\",\"type\":\"bar\"},{\"alignmentgroup\":\"True\",\"hovertemplate\":\"Listado de criptomonedas=%{x}<br>Market Cap($)=%{y}<extra></extra>\",\"legendgroup\":\"Conflux\",\"marker\":{\"color\":\"#ab63fa\",\"pattern\":{\"shape\":\"\"}},\"name\":\"Conflux\",\"offsetgroup\":\"Conflux\",\"orientation\":\"v\",\"showlegend\":true,\"textposition\":\"auto\",\"x\":[\"Conflux\"],\"xaxis\":\"x\",\"y\":[793054021],\"yaxis\":\"y\",\"type\":\"bar\"},{\"alignmentgroup\":\"True\",\"hovertemplate\":\"Listado de criptomonedas=%{x}<br>Market Cap($)=%{y}<extra></extra>\",\"legendgroup\":\"Gate\",\"marker\":{\"color\":\"#FFA15A\",\"pattern\":{\"shape\":\"\"}},\"name\":\"Gate\",\"offsetgroup\":\"Gate\",\"orientation\":\"v\",\"showlegend\":true,\"textposition\":\"auto\",\"x\":[\"Gate\"],\"xaxis\":\"x\",\"y\":[752354206],\"yaxis\":\"y\",\"type\":\"bar\"},{\"alignmentgroup\":\"True\",\"hovertemplate\":\"Listado de criptomonedas=%{x}<br>Market Cap($)=%{y}<extra></extra>\",\"legendgroup\":\"Chiliz\",\"marker\":{\"color\":\"#19d3f3\",\"pattern\":{\"shape\":\"\"}},\"name\":\"Chiliz\",\"offsetgroup\":\"Chiliz\",\"orientation\":\"v\",\"showlegend\":true,\"textposition\":\"auto\",\"x\":[\"Chiliz\"],\"xaxis\":\"x\",\"y\":[749250411],\"yaxis\":\"y\",\"type\":\"bar\"},{\"alignmentgroup\":\"True\",\"hovertemplate\":\"Listado de criptomonedas=%{x}<br>Market Cap($)=%{y}<extra></extra>\",\"legendgroup\":\"BitDAO\",\"marker\":{\"color\":\"#FF6692\",\"pattern\":{\"shape\":\"\"}},\"name\":\"BitDAO\",\"offsetgroup\":\"BitDAO\",\"orientation\":\"v\",\"showlegend\":true,\"textposition\":\"auto\",\"x\":[\"BitDAO\"],\"xaxis\":\"x\",\"y\":[740306128],\"yaxis\":\"y\",\"type\":\"bar\"},{\"alignmentgroup\":\"True\",\"hovertemplate\":\"Listado de criptomonedas=%{x}<br>Market Cap($)=%{y}<extra></extra>\",\"legendgroup\":\"Klaytn\",\"marker\":{\"color\":\"#B6E880\",\"pattern\":{\"shape\":\"\"}},\"name\":\"Klaytn\",\"offsetgroup\":\"Klaytn\",\"orientation\":\"v\",\"showlegend\":true,\"textposition\":\"auto\",\"x\":[\"Klaytn\"],\"xaxis\":\"x\",\"y\":[729661671],\"yaxis\":\"y\",\"type\":\"bar\"},{\"alignmentgroup\":\"True\",\"hovertemplate\":\"Listado de criptomonedas=%{x}<br>Market Cap($)=%{y}<extra></extra>\",\"legendgroup\":\"Terra Luna Classic\",\"marker\":{\"color\":\"#FF97FF\",\"pattern\":{\"shape\":\"\"}},\"name\":\"Terra Luna Classic\",\"offsetgroup\":\"Terra Luna Classic\",\"orientation\":\"v\",\"showlegend\":true,\"textposition\":\"auto\",\"x\":[\"Terra Luna Classic\"],\"xaxis\":\"x\",\"y\":[728383758],\"yaxis\":\"y\",\"type\":\"bar\"},{\"alignmentgroup\":\"True\",\"hovertemplate\":\"Listado de criptomonedas=%{x}<br>Market Cap($)=%{y}<extra></extra>\",\"legendgroup\":\"USDD\",\"marker\":{\"color\":\"#FECB52\",\"pattern\":{\"shape\":\"\"}},\"name\":\"USDD\",\"offsetgroup\":\"USDD\",\"orientation\":\"v\",\"showlegend\":true,\"textposition\":\"auto\",\"x\":[\"USDD\"],\"xaxis\":\"x\",\"y\":[719510015],\"yaxis\":\"y\",\"type\":\"bar\"},{\"alignmentgroup\":\"True\",\"hovertemplate\":\"Listado de criptomonedas=%{x}<br>Market Cap($)=%{y}<extra></extra>\",\"legendgroup\":\"Optimism\",\"marker\":{\"color\":\"#636efa\",\"pattern\":{\"shape\":\"\"}},\"name\":\"Optimism\",\"offsetgroup\":\"Optimism\",\"orientation\":\"v\",\"showlegend\":true,\"textposition\":\"auto\",\"x\":[\"Optimism\"],\"xaxis\":\"x\",\"y\":[711218360],\"yaxis\":\"y\",\"type\":\"bar\"},{\"alignmentgroup\":\"True\",\"hovertemplate\":\"Listado de criptomonedas=%{x}<br>Market Cap($)=%{y}<extra></extra>\",\"legendgroup\":\"WhiteBIT Token\",\"marker\":{\"color\":\"#EF553B\",\"pattern\":{\"shape\":\"\"}},\"name\":\"WhiteBIT Token\",\"offsetgroup\":\"WhiteBIT Token\",\"orientation\":\"v\",\"showlegend\":true,\"textposition\":\"auto\",\"x\":[\"WhiteBIT Token\"],\"xaxis\":\"x\",\"y\":[708282088],\"yaxis\":\"y\",\"type\":\"bar\"},{\"alignmentgroup\":\"True\",\"hovertemplate\":\"Listado de criptomonedas=%{x}<br>Market Cap($)=%{y}<extra></extra>\",\"legendgroup\":\"Bitcoin SV\",\"marker\":{\"color\":\"#00cc96\",\"pattern\":{\"shape\":\"\"}},\"name\":\"Bitcoin SV\",\"offsetgroup\":\"Bitcoin SV\",\"orientation\":\"v\",\"showlegend\":true,\"textposition\":\"auto\",\"x\":[\"Bitcoin SV\"],\"xaxis\":\"x\",\"y\":[690777259],\"yaxis\":\"y\",\"type\":\"bar\"},{\"alignmentgroup\":\"True\",\"hovertemplate\":\"Listado de criptomonedas=%{x}<br>Market Cap($)=%{y}<extra></extra>\",\"legendgroup\":\"PancakeSwap\",\"marker\":{\"color\":\"#ab63fa\",\"pattern\":{\"shape\":\"\"}},\"name\":\"PancakeSwap\",\"offsetgroup\":\"PancakeSwap\",\"orientation\":\"v\",\"showlegend\":true,\"textposition\":\"auto\",\"x\":[\"PancakeSwap\"],\"xaxis\":\"x\",\"y\":[685988981],\"yaxis\":\"y\",\"type\":\"bar\"},{\"alignmentgroup\":\"True\",\"hovertemplate\":\"Listado de criptomonedas=%{x}<br>Market Cap($)=%{y}<extra></extra>\",\"legendgroup\":\"GMX\",\"marker\":{\"color\":\"#FFA15A\",\"pattern\":{\"shape\":\"\"}},\"name\":\"GMX\",\"offsetgroup\":\"GMX\",\"orientation\":\"v\",\"showlegend\":true,\"textposition\":\"auto\",\"x\":[\"GMX\"],\"xaxis\":\"x\",\"y\":[677273159],\"yaxis\":\"y\",\"type\":\"bar\"},{\"alignmentgroup\":\"True\",\"hovertemplate\":\"Listado de criptomonedas=%{x}<br>Market Cap($)=%{y}<extra></extra>\",\"legendgroup\":\"Frax Share\",\"marker\":{\"color\":\"#19d3f3\",\"pattern\":{\"shape\":\"\"}},\"name\":\"Frax Share\",\"offsetgroup\":\"Frax Share\",\"orientation\":\"v\",\"showlegend\":true,\"textposition\":\"auto\",\"x\":[\"Frax Share\"],\"xaxis\":\"x\",\"y\":[666974170],\"yaxis\":\"y\",\"type\":\"bar\"},{\"alignmentgroup\":\"True\",\"hovertemplate\":\"Listado de criptomonedas=%{x}<br>Market Cap($)=%{y}<extra></extra>\",\"legendgroup\":\"Mina Protocol\",\"marker\":{\"color\":\"#FF6692\",\"pattern\":{\"shape\":\"\"}},\"name\":\"Mina Protocol\",\"offsetgroup\":\"Mina Protocol\",\"orientation\":\"v\",\"showlegend\":true,\"textposition\":\"auto\",\"x\":[\"Mina Protocol\"],\"xaxis\":\"x\",\"y\":[642879329],\"yaxis\":\"y\",\"type\":\"bar\"},{\"alignmentgroup\":\"True\",\"hovertemplate\":\"Listado de criptomonedas=%{x}<br>Market Cap($)=%{y}<extra></extra>\",\"legendgroup\":\"IOTA\",\"marker\":{\"color\":\"#B6E880\",\"pattern\":{\"shape\":\"\"}},\"name\":\"IOTA\",\"offsetgroup\":\"IOTA\",\"orientation\":\"v\",\"showlegend\":true,\"textposition\":\"auto\",\"x\":[\"IOTA\"],\"xaxis\":\"x\",\"y\":[637173705],\"yaxis\":\"y\",\"type\":\"bar\"},{\"alignmentgroup\":\"True\",\"hovertemplate\":\"Listado de criptomonedas=%{x}<br>Market Cap($)=%{y}<extra></extra>\",\"legendgroup\":\"Dash\",\"marker\":{\"color\":\"#FF97FF\",\"pattern\":{\"shape\":\"\"}},\"name\":\"Dash\",\"offsetgroup\":\"Dash\",\"orientation\":\"v\",\"showlegend\":true,\"textposition\":\"auto\",\"x\":[\"Dash\"],\"xaxis\":\"x\",\"y\":[629179386],\"yaxis\":\"y\",\"type\":\"bar\"},{\"alignmentgroup\":\"True\",\"hovertemplate\":\"Listado de criptomonedas=%{x}<br>Market Cap($)=%{y}<extra></extra>\",\"legendgroup\":\"Maker\",\"marker\":{\"color\":\"#FECB52\",\"pattern\":{\"shape\":\"\"}},\"name\":\"Maker\",\"offsetgroup\":\"Maker\",\"orientation\":\"v\",\"showlegend\":true,\"textposition\":\"auto\",\"x\":[\"Maker\"],\"xaxis\":\"x\",\"y\":[620039265],\"yaxis\":\"y\",\"type\":\"bar\"},{\"alignmentgroup\":\"True\",\"hovertemplate\":\"Listado de criptomonedas=%{x}<br>Market Cap($)=%{y}<extra></extra>\",\"legendgroup\":\"eCash\",\"marker\":{\"color\":\"#636efa\",\"pattern\":{\"shape\":\"\"}},\"name\":\"eCash\",\"offsetgroup\":\"eCash\",\"orientation\":\"v\",\"showlegend\":true,\"textposition\":\"auto\",\"x\":[\"eCash\"],\"xaxis\":\"x\",\"y\":[616674355],\"yaxis\":\"y\",\"type\":\"bar\"},{\"alignmentgroup\":\"True\",\"hovertemplate\":\"Listado de criptomonedas=%{x}<br>Market Cap($)=%{y}<extra></extra>\",\"legendgroup\":\"BitTorrent\",\"marker\":{\"color\":\"#EF553B\",\"pattern\":{\"shape\":\"\"}},\"name\":\"BitTorrent\",\"offsetgroup\":\"BitTorrent\",\"orientation\":\"v\",\"showlegend\":true,\"textposition\":\"auto\",\"x\":[\"BitTorrent\"],\"xaxis\":\"x\",\"y\":[594953061],\"yaxis\":\"y\",\"type\":\"bar\"},{\"alignmentgroup\":\"True\",\"hovertemplate\":\"Listado de criptomonedas=%{x}<br>Market Cap($)=%{y}<extra></extra>\",\"legendgroup\":\"Bitget Token\",\"marker\":{\"color\":\"#00cc96\",\"pattern\":{\"shape\":\"\"}},\"name\":\"Bitget Token\",\"offsetgroup\":\"Bitget Token\",\"orientation\":\"v\",\"showlegend\":true,\"textposition\":\"auto\",\"x\":[\"Bitget Token\"],\"xaxis\":\"x\",\"y\":[584623309],\"yaxis\":\"y\",\"type\":\"bar\"},{\"alignmentgroup\":\"True\",\"hovertemplate\":\"Listado de criptomonedas=%{x}<br>Market Cap($)=%{y}<extra></extra>\",\"legendgroup\":\"Huobi\",\"marker\":{\"color\":\"#ab63fa\",\"pattern\":{\"shape\":\"\"}},\"name\":\"Huobi\",\"offsetgroup\":\"Huobi\",\"orientation\":\"v\",\"showlegend\":true,\"textposition\":\"auto\",\"x\":[\"Huobi\"],\"xaxis\":\"x\",\"y\":[581141481],\"yaxis\":\"y\",\"type\":\"bar\"},{\"alignmentgroup\":\"True\",\"hovertemplate\":\"Listado de criptomonedas=%{x}<br>Market Cap($)=%{y}<extra></extra>\",\"legendgroup\":\"XDC Network\",\"marker\":{\"color\":\"#FFA15A\",\"pattern\":{\"shape\":\"\"}},\"name\":\"XDC Network\",\"offsetgroup\":\"XDC Network\",\"orientation\":\"v\",\"showlegend\":true,\"textposition\":\"auto\",\"x\":[\"XDC Network\"],\"xaxis\":\"x\",\"y\":[553592506],\"yaxis\":\"y\",\"type\":\"bar\"},{\"alignmentgroup\":\"True\",\"hovertemplate\":\"Listado de criptomonedas=%{x}<br>Market Cap($)=%{y}<extra></extra>\",\"legendgroup\":\"cETH\",\"marker\":{\"color\":\"#19d3f3\",\"pattern\":{\"shape\":\"\"}},\"name\":\"cETH\",\"offsetgroup\":\"cETH\",\"orientation\":\"v\",\"showlegend\":true,\"textposition\":\"auto\",\"x\":[\"cETH\"],\"xaxis\":\"x\",\"y\":[546260015],\"yaxis\":\"y\",\"type\":\"bar\"},{\"alignmentgroup\":\"True\",\"hovertemplate\":\"Listado de criptomonedas=%{x}<br>Market Cap($)=%{y}<extra></extra>\",\"legendgroup\":\"Kaspa\",\"marker\":{\"color\":\"#FF6692\",\"pattern\":{\"shape\":\"\"}},\"name\":\"Kaspa\",\"offsetgroup\":\"Kaspa\",\"orientation\":\"v\",\"showlegend\":true,\"textposition\":\"auto\",\"x\":[\"Kaspa\"],\"xaxis\":\"x\",\"y\":[528690775],\"yaxis\":\"y\",\"type\":\"bar\"},{\"alignmentgroup\":\"True\",\"hovertemplate\":\"Listado de criptomonedas=%{x}<br>Market Cap($)=%{y}<extra></extra>\",\"legendgroup\":\"Tokenize Xchange\",\"marker\":{\"color\":\"#B6E880\",\"pattern\":{\"shape\":\"\"}},\"name\":\"Tokenize Xchange\",\"offsetgroup\":\"Tokenize Xchange\",\"orientation\":\"v\",\"showlegend\":true,\"textposition\":\"auto\",\"x\":[\"Tokenize Xchange\"],\"xaxis\":\"x\",\"y\":[527737034],\"yaxis\":\"y\",\"type\":\"bar\"},{\"alignmentgroup\":\"True\",\"hovertemplate\":\"Listado de criptomonedas=%{x}<br>Market Cap($)=%{y}<extra></extra>\",\"legendgroup\":\"PAX Gold\",\"marker\":{\"color\":\"#FF97FF\",\"pattern\":{\"shape\":\"\"}},\"name\":\"PAX Gold\",\"offsetgroup\":\"PAX Gold\",\"orientation\":\"v\",\"showlegend\":true,\"textposition\":\"auto\",\"x\":[\"PAX Gold\"],\"xaxis\":\"x\",\"y\":[518450064],\"yaxis\":\"y\",\"type\":\"bar\"},{\"alignmentgroup\":\"True\",\"hovertemplate\":\"Listado de criptomonedas=%{x}<br>Market Cap($)=%{y}<extra></extra>\",\"legendgroup\":\"Radix\",\"marker\":{\"color\":\"#FECB52\",\"pattern\":{\"shape\":\"\"}},\"name\":\"Radix\",\"offsetgroup\":\"Radix\",\"orientation\":\"v\",\"showlegend\":true,\"textposition\":\"auto\",\"x\":[\"Radix\"],\"xaxis\":\"x\",\"y\":[517176440],\"yaxis\":\"y\",\"type\":\"bar\"},{\"alignmentgroup\":\"True\",\"hovertemplate\":\"Listado de criptomonedas=%{x}<br>Market Cap($)=%{y}<extra></extra>\",\"legendgroup\":\"Trust Wallet\",\"marker\":{\"color\":\"#636efa\",\"pattern\":{\"shape\":\"\"}},\"name\":\"Trust Wallet\",\"offsetgroup\":\"Trust Wallet\",\"orientation\":\"v\",\"showlegend\":true,\"textposition\":\"auto\",\"x\":[\"Trust Wallet\"],\"xaxis\":\"x\",\"y\":[512243579],\"yaxis\":\"y\",\"type\":\"bar\"},{\"alignmentgroup\":\"True\",\"hovertemplate\":\"Listado de criptomonedas=%{x}<br>Market Cap($)=%{y}<extra></extra>\",\"legendgroup\":\"Tether Gold\",\"marker\":{\"color\":\"#EF553B\",\"pattern\":{\"shape\":\"\"}},\"name\":\"Tether Gold\",\"offsetgroup\":\"Tether Gold\",\"orientation\":\"v\",\"showlegend\":true,\"textposition\":\"auto\",\"x\":[\"Tether Gold\"],\"xaxis\":\"x\",\"y\":[496095443],\"yaxis\":\"y\",\"type\":\"bar\"},{\"alignmentgroup\":\"True\",\"hovertemplate\":\"Listado de criptomonedas=%{x}<br>Market Cap($)=%{y}<extra></extra>\",\"legendgroup\":\"Zilliqa\",\"marker\":{\"color\":\"#00cc96\",\"pattern\":{\"shape\":\"\"}},\"name\":\"Zilliqa\",\"offsetgroup\":\"Zilliqa\",\"orientation\":\"v\",\"showlegend\":true,\"textposition\":\"auto\",\"x\":[\"Zilliqa\"],\"xaxis\":\"x\",\"y\":[477886916],\"yaxis\":\"y\",\"type\":\"bar\"},{\"alignmentgroup\":\"True\",\"hovertemplate\":\"Listado de criptomonedas=%{x}<br>Market Cap($)=%{y}<extra></extra>\",\"legendgroup\":\"cUSDC\",\"marker\":{\"color\":\"#ab63fa\",\"pattern\":{\"shape\":\"\"}},\"name\":\"cUSDC\",\"offsetgroup\":\"cUSDC\",\"orientation\":\"v\",\"showlegend\":true,\"textposition\":\"auto\",\"x\":[\"cUSDC\"],\"xaxis\":\"x\",\"y\":[475951601],\"yaxis\":\"y\",\"type\":\"bar\"},{\"alignmentgroup\":\"True\",\"hovertemplate\":\"Listado de criptomonedas=%{x}<br>Market Cap($)=%{y}<extra></extra>\",\"legendgroup\":\"SingularityNET\",\"marker\":{\"color\":\"#FFA15A\",\"pattern\":{\"shape\":\"\"}},\"name\":\"SingularityNET\",\"offsetgroup\":\"SingularityNET\",\"orientation\":\"v\",\"showlegend\":true,\"textposition\":\"auto\",\"x\":[\"SingularityNET\"],\"xaxis\":\"x\",\"y\":[473959777],\"yaxis\":\"y\",\"type\":\"bar\"},{\"alignmentgroup\":\"True\",\"hovertemplate\":\"Listado de criptomonedas=%{x}<br>Market Cap($)=%{y}<extra></extra>\",\"legendgroup\":\"THORChain\",\"marker\":{\"color\":\"#19d3f3\",\"pattern\":{\"shape\":\"\"}},\"name\":\"THORChain\",\"offsetgroup\":\"THORChain\",\"orientation\":\"v\",\"showlegend\":true,\"textposition\":\"auto\",\"x\":[\"THORChain\"],\"xaxis\":\"x\",\"y\":[472240177],\"yaxis\":\"y\",\"type\":\"bar\"},{\"alignmentgroup\":\"True\",\"hovertemplate\":\"Listado de criptomonedas=%{x}<br>Market Cap($)=%{y}<extra></extra>\",\"legendgroup\":\"Casper Network\",\"marker\":{\"color\":\"#FF6692\",\"pattern\":{\"shape\":\"\"}},\"name\":\"Casper Network\",\"offsetgroup\":\"Casper Network\",\"orientation\":\"v\",\"showlegend\":true,\"textposition\":\"auto\",\"x\":[\"Casper Network\"],\"xaxis\":\"x\",\"y\":[467028211],\"yaxis\":\"y\",\"type\":\"bar\"},{\"alignmentgroup\":\"True\",\"hovertemplate\":\"Listado de criptomonedas=%{x}<br>Market Cap($)=%{y}<extra></extra>\",\"legendgroup\":\"Render\",\"marker\":{\"color\":\"#B6E880\",\"pattern\":{\"shape\":\"\"}},\"name\":\"Render\",\"offsetgroup\":\"Render\",\"orientation\":\"v\",\"showlegend\":true,\"textposition\":\"auto\",\"x\":[\"Render\"],\"xaxis\":\"x\",\"y\":[462994313],\"yaxis\":\"y\",\"type\":\"bar\"},{\"alignmentgroup\":\"True\",\"hovertemplate\":\"Listado de criptomonedas=%{x}<br>Market Cap($)=%{y}<extra></extra>\",\"legendgroup\":\"Rocket Pool ETH\",\"marker\":{\"color\":\"#FF97FF\",\"pattern\":{\"shape\":\"\"}},\"name\":\"Rocket Pool ETH\",\"offsetgroup\":\"Rocket Pool ETH\",\"orientation\":\"v\",\"showlegend\":true,\"textposition\":\"auto\",\"x\":[\"Rocket Pool ETH\"],\"xaxis\":\"x\",\"y\":[460481930],\"yaxis\":\"y\",\"type\":\"bar\"},{\"alignmentgroup\":\"True\",\"hovertemplate\":\"Listado de criptomonedas=%{x}<br>Market Cap($)=%{y}<extra></extra>\",\"legendgroup\":\"Enjin Coin\",\"marker\":{\"color\":\"#FECB52\",\"pattern\":{\"shape\":\"\"}},\"name\":\"Enjin Coin\",\"offsetgroup\":\"Enjin Coin\",\"orientation\":\"v\",\"showlegend\":true,\"textposition\":\"auto\",\"x\":[\"Enjin Coin\"],\"xaxis\":\"x\",\"y\":[457155679],\"yaxis\":\"y\",\"type\":\"bar\"}],                        {\"template\":{\"data\":{\"histogram2dcontour\":[{\"type\":\"histogram2dcontour\",\"colorbar\":{\"outlinewidth\":0,\"ticks\":\"\"},\"colorscale\":[[0.0,\"#0d0887\"],[0.1111111111111111,\"#46039f\"],[0.2222222222222222,\"#7201a8\"],[0.3333333333333333,\"#9c179e\"],[0.4444444444444444,\"#bd3786\"],[0.5555555555555556,\"#d8576b\"],[0.6666666666666666,\"#ed7953\"],[0.7777777777777778,\"#fb9f3a\"],[0.8888888888888888,\"#fdca26\"],[1.0,\"#f0f921\"]]}],\"choropleth\":[{\"type\":\"choropleth\",\"colorbar\":{\"outlinewidth\":0,\"ticks\":\"\"}}],\"histogram2d\":[{\"type\":\"histogram2d\",\"colorbar\":{\"outlinewidth\":0,\"ticks\":\"\"},\"colorscale\":[[0.0,\"#0d0887\"],[0.1111111111111111,\"#46039f\"],[0.2222222222222222,\"#7201a8\"],[0.3333333333333333,\"#9c179e\"],[0.4444444444444444,\"#bd3786\"],[0.5555555555555556,\"#d8576b\"],[0.6666666666666666,\"#ed7953\"],[0.7777777777777778,\"#fb9f3a\"],[0.8888888888888888,\"#fdca26\"],[1.0,\"#f0f921\"]]}],\"heatmap\":[{\"type\":\"heatmap\",\"colorbar\":{\"outlinewidth\":0,\"ticks\":\"\"},\"colorscale\":[[0.0,\"#0d0887\"],[0.1111111111111111,\"#46039f\"],[0.2222222222222222,\"#7201a8\"],[0.3333333333333333,\"#9c179e\"],[0.4444444444444444,\"#bd3786\"],[0.5555555555555556,\"#d8576b\"],[0.6666666666666666,\"#ed7953\"],[0.7777777777777778,\"#fb9f3a\"],[0.8888888888888888,\"#fdca26\"],[1.0,\"#f0f921\"]]}],\"heatmapgl\":[{\"type\":\"heatmapgl\",\"colorbar\":{\"outlinewidth\":0,\"ticks\":\"\"},\"colorscale\":[[0.0,\"#0d0887\"],[0.1111111111111111,\"#46039f\"],[0.2222222222222222,\"#7201a8\"],[0.3333333333333333,\"#9c179e\"],[0.4444444444444444,\"#bd3786\"],[0.5555555555555556,\"#d8576b\"],[0.6666666666666666,\"#ed7953\"],[0.7777777777777778,\"#fb9f3a\"],[0.8888888888888888,\"#fdca26\"],[1.0,\"#f0f921\"]]}],\"contourcarpet\":[{\"type\":\"contourcarpet\",\"colorbar\":{\"outlinewidth\":0,\"ticks\":\"\"}}],\"contour\":[{\"type\":\"contour\",\"colorbar\":{\"outlinewidth\":0,\"ticks\":\"\"},\"colorscale\":[[0.0,\"#0d0887\"],[0.1111111111111111,\"#46039f\"],[0.2222222222222222,\"#7201a8\"],[0.3333333333333333,\"#9c179e\"],[0.4444444444444444,\"#bd3786\"],[0.5555555555555556,\"#d8576b\"],[0.6666666666666666,\"#ed7953\"],[0.7777777777777778,\"#fb9f3a\"],[0.8888888888888888,\"#fdca26\"],[1.0,\"#f0f921\"]]}],\"surface\":[{\"type\":\"surface\",\"colorbar\":{\"outlinewidth\":0,\"ticks\":\"\"},\"colorscale\":[[0.0,\"#0d0887\"],[0.1111111111111111,\"#46039f\"],[0.2222222222222222,\"#7201a8\"],[0.3333333333333333,\"#9c179e\"],[0.4444444444444444,\"#bd3786\"],[0.5555555555555556,\"#d8576b\"],[0.6666666666666666,\"#ed7953\"],[0.7777777777777778,\"#fb9f3a\"],[0.8888888888888888,\"#fdca26\"],[1.0,\"#f0f921\"]]}],\"mesh3d\":[{\"type\":\"mesh3d\",\"colorbar\":{\"outlinewidth\":0,\"ticks\":\"\"}}],\"scatter\":[{\"fillpattern\":{\"fillmode\":\"overlay\",\"size\":10,\"solidity\":0.2},\"type\":\"scatter\"}],\"parcoords\":[{\"type\":\"parcoords\",\"line\":{\"colorbar\":{\"outlinewidth\":0,\"ticks\":\"\"}}}],\"scatterpolargl\":[{\"type\":\"scatterpolargl\",\"marker\":{\"colorbar\":{\"outlinewidth\":0,\"ticks\":\"\"}}}],\"bar\":[{\"error_x\":{\"color\":\"#2a3f5f\"},\"error_y\":{\"color\":\"#2a3f5f\"},\"marker\":{\"line\":{\"color\":\"#E5ECF6\",\"width\":0.5},\"pattern\":{\"fillmode\":\"overlay\",\"size\":10,\"solidity\":0.2}},\"type\":\"bar\"}],\"scattergeo\":[{\"type\":\"scattergeo\",\"marker\":{\"colorbar\":{\"outlinewidth\":0,\"ticks\":\"\"}}}],\"scatterpolar\":[{\"type\":\"scatterpolar\",\"marker\":{\"colorbar\":{\"outlinewidth\":0,\"ticks\":\"\"}}}],\"histogram\":[{\"marker\":{\"pattern\":{\"fillmode\":\"overlay\",\"size\":10,\"solidity\":0.2}},\"type\":\"histogram\"}],\"scattergl\":[{\"type\":\"scattergl\",\"marker\":{\"colorbar\":{\"outlinewidth\":0,\"ticks\":\"\"}}}],\"scatter3d\":[{\"type\":\"scatter3d\",\"line\":{\"colorbar\":{\"outlinewidth\":0,\"ticks\":\"\"}},\"marker\":{\"colorbar\":{\"outlinewidth\":0,\"ticks\":\"\"}}}],\"scattermapbox\":[{\"type\":\"scattermapbox\",\"marker\":{\"colorbar\":{\"outlinewidth\":0,\"ticks\":\"\"}}}],\"scatterternary\":[{\"type\":\"scatterternary\",\"marker\":{\"colorbar\":{\"outlinewidth\":0,\"ticks\":\"\"}}}],\"scattercarpet\":[{\"type\":\"scattercarpet\",\"marker\":{\"colorbar\":{\"outlinewidth\":0,\"ticks\":\"\"}}}],\"carpet\":[{\"aaxis\":{\"endlinecolor\":\"#2a3f5f\",\"gridcolor\":\"white\",\"linecolor\":\"white\",\"minorgridcolor\":\"white\",\"startlinecolor\":\"#2a3f5f\"},\"baxis\":{\"endlinecolor\":\"#2a3f5f\",\"gridcolor\":\"white\",\"linecolor\":\"white\",\"minorgridcolor\":\"white\",\"startlinecolor\":\"#2a3f5f\"},\"type\":\"carpet\"}],\"table\":[{\"cells\":{\"fill\":{\"color\":\"#EBF0F8\"},\"line\":{\"color\":\"white\"}},\"header\":{\"fill\":{\"color\":\"#C8D4E3\"},\"line\":{\"color\":\"white\"}},\"type\":\"table\"}],\"barpolar\":[{\"marker\":{\"line\":{\"color\":\"#E5ECF6\",\"width\":0.5},\"pattern\":{\"fillmode\":\"overlay\",\"size\":10,\"solidity\":0.2}},\"type\":\"barpolar\"}],\"pie\":[{\"automargin\":true,\"type\":\"pie\"}]},\"layout\":{\"autotypenumbers\":\"strict\",\"colorway\":[\"#636efa\",\"#EF553B\",\"#00cc96\",\"#ab63fa\",\"#FFA15A\",\"#19d3f3\",\"#FF6692\",\"#B6E880\",\"#FF97FF\",\"#FECB52\"],\"font\":{\"color\":\"#2a3f5f\"},\"hovermode\":\"closest\",\"hoverlabel\":{\"align\":\"left\"},\"paper_bgcolor\":\"white\",\"plot_bgcolor\":\"#E5ECF6\",\"polar\":{\"bgcolor\":\"#E5ECF6\",\"angularaxis\":{\"gridcolor\":\"white\",\"linecolor\":\"white\",\"ticks\":\"\"},\"radialaxis\":{\"gridcolor\":\"white\",\"linecolor\":\"white\",\"ticks\":\"\"}},\"ternary\":{\"bgcolor\":\"#E5ECF6\",\"aaxis\":{\"gridcolor\":\"white\",\"linecolor\":\"white\",\"ticks\":\"\"},\"baxis\":{\"gridcolor\":\"white\",\"linecolor\":\"white\",\"ticks\":\"\"},\"caxis\":{\"gridcolor\":\"white\",\"linecolor\":\"white\",\"ticks\":\"\"}},\"coloraxis\":{\"colorbar\":{\"outlinewidth\":0,\"ticks\":\"\"}},\"colorscale\":{\"sequential\":[[0.0,\"#0d0887\"],[0.1111111111111111,\"#46039f\"],[0.2222222222222222,\"#7201a8\"],[0.3333333333333333,\"#9c179e\"],[0.4444444444444444,\"#bd3786\"],[0.5555555555555556,\"#d8576b\"],[0.6666666666666666,\"#ed7953\"],[0.7777777777777778,\"#fb9f3a\"],[0.8888888888888888,\"#fdca26\"],[1.0,\"#f0f921\"]],\"sequentialminus\":[[0.0,\"#0d0887\"],[0.1111111111111111,\"#46039f\"],[0.2222222222222222,\"#7201a8\"],[0.3333333333333333,\"#9c179e\"],[0.4444444444444444,\"#bd3786\"],[0.5555555555555556,\"#d8576b\"],[0.6666666666666666,\"#ed7953\"],[0.7777777777777778,\"#fb9f3a\"],[0.8888888888888888,\"#fdca26\"],[1.0,\"#f0f921\"]],\"diverging\":[[0,\"#8e0152\"],[0.1,\"#c51b7d\"],[0.2,\"#de77ae\"],[0.3,\"#f1b6da\"],[0.4,\"#fde0ef\"],[0.5,\"#f7f7f7\"],[0.6,\"#e6f5d0\"],[0.7,\"#b8e186\"],[0.8,\"#7fbc41\"],[0.9,\"#4d9221\"],[1,\"#276419\"]]},\"xaxis\":{\"gridcolor\":\"white\",\"linecolor\":\"white\",\"ticks\":\"\",\"title\":{\"standoff\":15},\"zerolinecolor\":\"white\",\"automargin\":true,\"zerolinewidth\":2},\"yaxis\":{\"gridcolor\":\"white\",\"linecolor\":\"white\",\"ticks\":\"\",\"title\":{\"standoff\":15},\"zerolinecolor\":\"white\",\"automargin\":true,\"zerolinewidth\":2},\"scene\":{\"xaxis\":{\"backgroundcolor\":\"#E5ECF6\",\"gridcolor\":\"white\",\"linecolor\":\"white\",\"showbackground\":true,\"ticks\":\"\",\"zerolinecolor\":\"white\",\"gridwidth\":2},\"yaxis\":{\"backgroundcolor\":\"#E5ECF6\",\"gridcolor\":\"white\",\"linecolor\":\"white\",\"showbackground\":true,\"ticks\":\"\",\"zerolinecolor\":\"white\",\"gridwidth\":2},\"zaxis\":{\"backgroundcolor\":\"#E5ECF6\",\"gridcolor\":\"white\",\"linecolor\":\"white\",\"showbackground\":true,\"ticks\":\"\",\"zerolinecolor\":\"white\",\"gridwidth\":2}},\"shapedefaults\":{\"line\":{\"color\":\"#2a3f5f\"}},\"annotationdefaults\":{\"arrowcolor\":\"#2a3f5f\",\"arrowhead\":0,\"arrowwidth\":1},\"geo\":{\"bgcolor\":\"white\",\"landcolor\":\"#E5ECF6\",\"subunitcolor\":\"white\",\"showland\":true,\"showlakes\":true,\"lakecolor\":\"white\"},\"title\":{\"x\":0.05},\"mapbox\":{\"style\":\"light\"}}},\"xaxis\":{\"anchor\":\"y\",\"domain\":[0.0,1.0],\"title\":{\"text\":\"Listado de criptomonedas\"},\"categoryorder\":\"array\",\"categoryarray\":[\"Bitcoin\",\"Ethereum\",\"Tether\",\"BNB\",\"USD Coin\",\"XRP\",\"Cardano\",\"Dogecoin\",\"Lido Staked Ether\",\"Polygon\",\"Solana\",\"Polkadot\",\"Binance USD\",\"Litecoin\",\"Shiba Inu\",\"TRON\",\"Avalanche\",\"Dai\",\"Uniswap\",\"Wrapped Bitcoin\",\"Chainlink\",\"Toncoin\",\"Cosmos Hub\",\"LEO Token\",\"Monero\",\"Ethereum Classic\",\"Stellar\",\"OKB\",\"Bitcoin Cash\",\"Filecoin\",\"Lido DAO\",\"TrueUSD\",\"Aptos\",\"Hedera\",\"VeChain\",\"Quant\",\"Cronos\",\"NEAR Protocol\",\"Algorand\",\"ApeCoin\",\"Arbitrum\",\"Internet Computer\",\"EOS\",\"Fantom\",\"The Graph\",\"The Sandbox\",\"Stacks\",\"Aave\",\"Decentraland\",\"Theta Network\",\"Frax\",\"Flow\",\"MultiversX\",\"Tezos\",\"Edgecoin\",\"Axie Infinity\",\"ImmutableX\",\"NEO\",\"Rocket Pool\",\"Pax Dollar\",\"Synthetix Network\",\"KuCoin\",\"Curve DAO\",\"Conflux\",\"Gate\",\"Chiliz\",\"BitDAO\",\"Klaytn\",\"Terra Luna Classic\",\"USDD\",\"Optimism\",\"WhiteBIT Token\",\"Bitcoin SV\",\"PancakeSwap\",\"GMX\",\"Frax Share\",\"Mina Protocol\",\"IOTA\",\"Dash\",\"Maker\",\"eCash\",\"BitTorrent\",\"Bitget Token\",\"Huobi\",\"XDC Network\",\"cETH\",\"Kaspa\",\"Tokenize Xchange\",\"PAX Gold\",\"Radix\",\"Trust Wallet\",\"Tether Gold\",\"Zilliqa\",\"cUSDC\",\"SingularityNET\",\"THORChain\",\"Casper Network\",\"Render\",\"Rocket Pool ETH\",\"Enjin Coin\"]},\"yaxis\":{\"anchor\":\"x\",\"domain\":[0.0,1.0],\"title\":{\"text\":\"Market Cap($)\"}},\"legend\":{\"title\":{\"text\":\"Listado de criptomonedas\"},\"tracegroupgap\":0},\"title\":{\"text\":\"Las 100 primera criptomonedas de coingecko\"},\"barmode\":\"relative\",\"height\":400},                        {\"responsive\": true}                    ).then(function(){\n",
       "                            \n",
       "var gd = document.getElementById('3fb7980d-d3df-4edc-94a8-7e46f51324e8');\n",
       "var x = new MutationObserver(function (mutations, observer) {{\n",
       "        var display = window.getComputedStyle(gd).display;\n",
       "        if (!display || display === 'none') {{\n",
       "            console.log([gd, 'removed!']);\n",
       "            Plotly.purge(gd);\n",
       "            observer.disconnect();\n",
       "        }}\n",
       "}});\n",
       "\n",
       "// Listen for the removal of the full notebook cells\n",
       "var notebookContainer = gd.closest('#notebook-container');\n",
       "if (notebookContainer) {{\n",
       "    x.observe(notebookContainer, {childList: true});\n",
       "}}\n",
       "\n",
       "// Listen for the clearing of the current output cell\n",
       "var outputEl = gd.closest('.output');\n",
       "if (outputEl) {{\n",
       "    x.observe(outputEl, {childList: true});\n",
       "}}\n",
       "\n",
       "                        })                };                });            </script>        </div>"
      ]
     },
     "metadata": {},
     "output_type": "display_data"
    }
   ],
   "source": [
    "# Crear el gráfico de barras para las primeras 100 posiciones\n",
    "fig = px.bar(result_df, x='Coin', y='Market Cap($)',\n",
    "             color='Coin',\n",
    "             template='plotly',\n",
    "             labels={'Coin':'Listado de criptomonedas'},\n",
    "             title='Las 100 primera criptomonedas de coingecko',\n",
    "             height=400)\n",
    "fig.show() "
   ]
  },
  {
   "cell_type": "markdown",
   "metadata": {},
   "source": [
    "## primeras 10 posicione de 100 criptomonedas\n",
    "El gráfico muestra la capitalización de mercado de las 10 principales criptomonedas en orden descendente.\n",
    "\n",
    "En la gráfica se puede observar que la criptomoneda con la mayor capitalización de mercado es Bitcoin (BTC), seguida por Ethereum (ETH) y Binance Coin (BNB). Las otras criptomonedas que se muestran en la gráfica también tienen una capitalización de mercado significativa, aunque menor en comparación con las tres primeras.\n",
    "\n",
    "Cada barra en el gráfico representa una criptomoneda y su altura representa la capitalización de mercado correspondiente. La leyenda del eje X muestra el nombre de la criptomoneda correspondiente a cada barra, y la leyenda del eje Y muestra la escala de la capitalización de mercado.\n",
    "\n",
    "En general, la gráfica proporciona una visualización clara y fácil de entender de las principales criptomonedas según su capitalización de mercado."
   ]
  },
  {
   "cell_type": "code",
   "execution_count": 28,
   "metadata": {
    "scrolled": true
   },
   "outputs": [
    {
     "data": {
      "application/vnd.plotly.v1+json": {
       "config": {
        "plotlyServerURL": "https://plot.ly"
       },
       "data": [
        {
         "alignmentgroup": "True",
         "hovertemplate": "Las 10 primeras posiciones=%{x}<br>Market Cap($)=%{text}<extra></extra>",
         "legendgroup": "Bitcoin",
         "marker": {
          "color": "#636efa",
          "pattern": {
           "shape": ""
          }
         },
         "name": "Bitcoin",
         "offsetgroup": "Bitcoin",
         "orientation": "v",
         "showlegend": true,
         "text": [
          541628824546
         ],
         "textposition": "auto",
         "type": "bar",
         "x": [
          "Bitcoin"
         ],
         "xaxis": "x",
         "y": [
          541628824546
         ],
         "yaxis": "y"
        },
        {
         "alignmentgroup": "True",
         "hovertemplate": "Las 10 primeras posiciones=%{x}<br>Market Cap($)=%{text}<extra></extra>",
         "legendgroup": "Ethereum",
         "marker": {
          "color": "#EF553B",
          "pattern": {
           "shape": ""
          }
         },
         "name": "Ethereum",
         "offsetgroup": "Ethereum",
         "orientation": "v",
         "showlegend": true,
         "text": [
          224892057319
         ],
         "textposition": "auto",
         "type": "bar",
         "x": [
          "Ethereum"
         ],
         "xaxis": "x",
         "y": [
          224892057319
         ],
         "yaxis": "y"
        },
        {
         "alignmentgroup": "True",
         "hovertemplate": "Las 10 primeras posiciones=%{x}<br>Market Cap($)=%{text}<extra></extra>",
         "legendgroup": "Tether",
         "marker": {
          "color": "#00cc96",
          "pattern": {
           "shape": ""
          }
         },
         "name": "Tether",
         "offsetgroup": "Tether",
         "orientation": "v",
         "showlegend": true,
         "text": [
          80273606417
         ],
         "textposition": "auto",
         "type": "bar",
         "x": [
          "Tether"
         ],
         "xaxis": "x",
         "y": [
          80273606417
         ],
         "yaxis": "y"
        },
        {
         "alignmentgroup": "True",
         "hovertemplate": "Las 10 primeras posiciones=%{x}<br>Market Cap($)=%{text}<extra></extra>",
         "legendgroup": "BNB",
         "marker": {
          "color": "#ab63fa",
          "pattern": {
           "shape": ""
          }
         },
         "name": "BNB",
         "offsetgroup": "BNB",
         "orientation": "v",
         "showlegend": true,
         "text": [
          49349370768
         ],
         "textposition": "auto",
         "type": "bar",
         "x": [
          "BNB"
         ],
         "xaxis": "x",
         "y": [
          49349370768
         ],
         "yaxis": "y"
        },
        {
         "alignmentgroup": "True",
         "hovertemplate": "Las 10 primeras posiciones=%{x}<br>Market Cap($)=%{text}<extra></extra>",
         "legendgroup": "USD Coin",
         "marker": {
          "color": "#FFA15A",
          "pattern": {
           "shape": ""
          }
         },
         "name": "USD Coin",
         "offsetgroup": "USD Coin",
         "orientation": "v",
         "showlegend": true,
         "text": [
          32614288443
         ],
         "textposition": "auto",
         "type": "bar",
         "x": [
          "USD Coin"
         ],
         "xaxis": "x",
         "y": [
          32614288443
         ],
         "yaxis": "y"
        },
        {
         "alignmentgroup": "True",
         "hovertemplate": "Las 10 primeras posiciones=%{x}<br>Market Cap($)=%{text}<extra></extra>",
         "legendgroup": "XRP",
         "marker": {
          "color": "#19d3f3",
          "pattern": {
           "shape": ""
          }
         },
         "name": "XRP",
         "offsetgroup": "XRP",
         "orientation": "v",
         "showlegend": true,
         "text": [
          26307437820
         ],
         "textposition": "auto",
         "type": "bar",
         "x": [
          "XRP"
         ],
         "xaxis": "x",
         "y": [
          26307437820
         ],
         "yaxis": "y"
        },
        {
         "alignmentgroup": "True",
         "hovertemplate": "Las 10 primeras posiciones=%{x}<br>Market Cap($)=%{text}<extra></extra>",
         "legendgroup": "Cardano",
         "marker": {
          "color": "#FF6692",
          "pattern": {
           "shape": ""
          }
         },
         "name": "Cardano",
         "offsetgroup": "Cardano",
         "orientation": "v",
         "showlegend": true,
         "text": [
          13582375319
         ],
         "textposition": "auto",
         "type": "bar",
         "x": [
          "Cardano"
         ],
         "xaxis": "x",
         "y": [
          13582375319
         ],
         "yaxis": "y"
        },
        {
         "alignmentgroup": "True",
         "hovertemplate": "Las 10 primeras posiciones=%{x}<br>Market Cap($)=%{text}<extra></extra>",
         "legendgroup": "Dogecoin",
         "marker": {
          "color": "#B6E880",
          "pattern": {
           "shape": ""
          }
         },
         "name": "Dogecoin",
         "offsetgroup": "Dogecoin",
         "orientation": "v",
         "showlegend": true,
         "text": [
          11498152854
         ],
         "textposition": "auto",
         "type": "bar",
         "x": [
          "Dogecoin"
         ],
         "xaxis": "x",
         "y": [
          11498152854
         ],
         "yaxis": "y"
        },
        {
         "alignmentgroup": "True",
         "hovertemplate": "Las 10 primeras posiciones=%{x}<br>Market Cap($)=%{text}<extra></extra>",
         "legendgroup": "Lido Staked Ether",
         "marker": {
          "color": "#FF97FF",
          "pattern": {
           "shape": ""
          }
         },
         "name": "Lido Staked Ether",
         "offsetgroup": "Lido Staked Ether",
         "orientation": "v",
         "showlegend": true,
         "text": [
          11023703902
         ],
         "textposition": "auto",
         "type": "bar",
         "x": [
          "Lido Staked Ether"
         ],
         "xaxis": "x",
         "y": [
          11023703902
         ],
         "yaxis": "y"
        },
        {
         "alignmentgroup": "True",
         "hovertemplate": "Las 10 primeras posiciones=%{x}<br>Market Cap($)=%{text}<extra></extra>",
         "legendgroup": "Polygon",
         "marker": {
          "color": "#FECB52",
          "pattern": {
           "shape": ""
          }
         },
         "name": "Polygon",
         "offsetgroup": "Polygon",
         "orientation": "v",
         "showlegend": true,
         "text": [
          10191081071
         ],
         "textposition": "auto",
         "type": "bar",
         "x": [
          "Polygon"
         ],
         "xaxis": "x",
         "y": [
          10191081071
         ],
         "yaxis": "y"
        }
       ],
       "layout": {
        "barmode": "relative",
        "height": 400,
        "legend": {
         "title": {
          "text": "Las 10 primeras posiciones"
         },
         "tracegroupgap": 0
        },
        "template": {
         "data": {
          "bar": [
           {
            "error_x": {
             "color": "#f2f5fa"
            },
            "error_y": {
             "color": "#f2f5fa"
            },
            "marker": {
             "line": {
              "color": "rgb(17,17,17)",
              "width": 0.5
             },
             "pattern": {
              "fillmode": "overlay",
              "size": 10,
              "solidity": 0.2
             }
            },
            "type": "bar"
           }
          ],
          "barpolar": [
           {
            "marker": {
             "line": {
              "color": "rgb(17,17,17)",
              "width": 0.5
             },
             "pattern": {
              "fillmode": "overlay",
              "size": 10,
              "solidity": 0.2
             }
            },
            "type": "barpolar"
           }
          ],
          "carpet": [
           {
            "aaxis": {
             "endlinecolor": "#A2B1C6",
             "gridcolor": "#506784",
             "linecolor": "#506784",
             "minorgridcolor": "#506784",
             "startlinecolor": "#A2B1C6"
            },
            "baxis": {
             "endlinecolor": "#A2B1C6",
             "gridcolor": "#506784",
             "linecolor": "#506784",
             "minorgridcolor": "#506784",
             "startlinecolor": "#A2B1C6"
            },
            "type": "carpet"
           }
          ],
          "choropleth": [
           {
            "colorbar": {
             "outlinewidth": 0,
             "ticks": ""
            },
            "type": "choropleth"
           }
          ],
          "contour": [
           {
            "colorbar": {
             "outlinewidth": 0,
             "ticks": ""
            },
            "colorscale": [
             [
              0,
              "#0d0887"
             ],
             [
              0.1111111111111111,
              "#46039f"
             ],
             [
              0.2222222222222222,
              "#7201a8"
             ],
             [
              0.3333333333333333,
              "#9c179e"
             ],
             [
              0.4444444444444444,
              "#bd3786"
             ],
             [
              0.5555555555555556,
              "#d8576b"
             ],
             [
              0.6666666666666666,
              "#ed7953"
             ],
             [
              0.7777777777777778,
              "#fb9f3a"
             ],
             [
              0.8888888888888888,
              "#fdca26"
             ],
             [
              1,
              "#f0f921"
             ]
            ],
            "type": "contour"
           }
          ],
          "contourcarpet": [
           {
            "colorbar": {
             "outlinewidth": 0,
             "ticks": ""
            },
            "type": "contourcarpet"
           }
          ],
          "heatmap": [
           {
            "colorbar": {
             "outlinewidth": 0,
             "ticks": ""
            },
            "colorscale": [
             [
              0,
              "#0d0887"
             ],
             [
              0.1111111111111111,
              "#46039f"
             ],
             [
              0.2222222222222222,
              "#7201a8"
             ],
             [
              0.3333333333333333,
              "#9c179e"
             ],
             [
              0.4444444444444444,
              "#bd3786"
             ],
             [
              0.5555555555555556,
              "#d8576b"
             ],
             [
              0.6666666666666666,
              "#ed7953"
             ],
             [
              0.7777777777777778,
              "#fb9f3a"
             ],
             [
              0.8888888888888888,
              "#fdca26"
             ],
             [
              1,
              "#f0f921"
             ]
            ],
            "type": "heatmap"
           }
          ],
          "heatmapgl": [
           {
            "colorbar": {
             "outlinewidth": 0,
             "ticks": ""
            },
            "colorscale": [
             [
              0,
              "#0d0887"
             ],
             [
              0.1111111111111111,
              "#46039f"
             ],
             [
              0.2222222222222222,
              "#7201a8"
             ],
             [
              0.3333333333333333,
              "#9c179e"
             ],
             [
              0.4444444444444444,
              "#bd3786"
             ],
             [
              0.5555555555555556,
              "#d8576b"
             ],
             [
              0.6666666666666666,
              "#ed7953"
             ],
             [
              0.7777777777777778,
              "#fb9f3a"
             ],
             [
              0.8888888888888888,
              "#fdca26"
             ],
             [
              1,
              "#f0f921"
             ]
            ],
            "type": "heatmapgl"
           }
          ],
          "histogram": [
           {
            "marker": {
             "pattern": {
              "fillmode": "overlay",
              "size": 10,
              "solidity": 0.2
             }
            },
            "type": "histogram"
           }
          ],
          "histogram2d": [
           {
            "colorbar": {
             "outlinewidth": 0,
             "ticks": ""
            },
            "colorscale": [
             [
              0,
              "#0d0887"
             ],
             [
              0.1111111111111111,
              "#46039f"
             ],
             [
              0.2222222222222222,
              "#7201a8"
             ],
             [
              0.3333333333333333,
              "#9c179e"
             ],
             [
              0.4444444444444444,
              "#bd3786"
             ],
             [
              0.5555555555555556,
              "#d8576b"
             ],
             [
              0.6666666666666666,
              "#ed7953"
             ],
             [
              0.7777777777777778,
              "#fb9f3a"
             ],
             [
              0.8888888888888888,
              "#fdca26"
             ],
             [
              1,
              "#f0f921"
             ]
            ],
            "type": "histogram2d"
           }
          ],
          "histogram2dcontour": [
           {
            "colorbar": {
             "outlinewidth": 0,
             "ticks": ""
            },
            "colorscale": [
             [
              0,
              "#0d0887"
             ],
             [
              0.1111111111111111,
              "#46039f"
             ],
             [
              0.2222222222222222,
              "#7201a8"
             ],
             [
              0.3333333333333333,
              "#9c179e"
             ],
             [
              0.4444444444444444,
              "#bd3786"
             ],
             [
              0.5555555555555556,
              "#d8576b"
             ],
             [
              0.6666666666666666,
              "#ed7953"
             ],
             [
              0.7777777777777778,
              "#fb9f3a"
             ],
             [
              0.8888888888888888,
              "#fdca26"
             ],
             [
              1,
              "#f0f921"
             ]
            ],
            "type": "histogram2dcontour"
           }
          ],
          "mesh3d": [
           {
            "colorbar": {
             "outlinewidth": 0,
             "ticks": ""
            },
            "type": "mesh3d"
           }
          ],
          "parcoords": [
           {
            "line": {
             "colorbar": {
              "outlinewidth": 0,
              "ticks": ""
             }
            },
            "type": "parcoords"
           }
          ],
          "pie": [
           {
            "automargin": true,
            "type": "pie"
           }
          ],
          "scatter": [
           {
            "marker": {
             "line": {
              "color": "#283442"
             }
            },
            "type": "scatter"
           }
          ],
          "scatter3d": [
           {
            "line": {
             "colorbar": {
              "outlinewidth": 0,
              "ticks": ""
             }
            },
            "marker": {
             "colorbar": {
              "outlinewidth": 0,
              "ticks": ""
             }
            },
            "type": "scatter3d"
           }
          ],
          "scattercarpet": [
           {
            "marker": {
             "colorbar": {
              "outlinewidth": 0,
              "ticks": ""
             }
            },
            "type": "scattercarpet"
           }
          ],
          "scattergeo": [
           {
            "marker": {
             "colorbar": {
              "outlinewidth": 0,
              "ticks": ""
             }
            },
            "type": "scattergeo"
           }
          ],
          "scattergl": [
           {
            "marker": {
             "line": {
              "color": "#283442"
             }
            },
            "type": "scattergl"
           }
          ],
          "scattermapbox": [
           {
            "marker": {
             "colorbar": {
              "outlinewidth": 0,
              "ticks": ""
             }
            },
            "type": "scattermapbox"
           }
          ],
          "scatterpolar": [
           {
            "marker": {
             "colorbar": {
              "outlinewidth": 0,
              "ticks": ""
             }
            },
            "type": "scatterpolar"
           }
          ],
          "scatterpolargl": [
           {
            "marker": {
             "colorbar": {
              "outlinewidth": 0,
              "ticks": ""
             }
            },
            "type": "scatterpolargl"
           }
          ],
          "scatterternary": [
           {
            "marker": {
             "colorbar": {
              "outlinewidth": 0,
              "ticks": ""
             }
            },
            "type": "scatterternary"
           }
          ],
          "surface": [
           {
            "colorbar": {
             "outlinewidth": 0,
             "ticks": ""
            },
            "colorscale": [
             [
              0,
              "#0d0887"
             ],
             [
              0.1111111111111111,
              "#46039f"
             ],
             [
              0.2222222222222222,
              "#7201a8"
             ],
             [
              0.3333333333333333,
              "#9c179e"
             ],
             [
              0.4444444444444444,
              "#bd3786"
             ],
             [
              0.5555555555555556,
              "#d8576b"
             ],
             [
              0.6666666666666666,
              "#ed7953"
             ],
             [
              0.7777777777777778,
              "#fb9f3a"
             ],
             [
              0.8888888888888888,
              "#fdca26"
             ],
             [
              1,
              "#f0f921"
             ]
            ],
            "type": "surface"
           }
          ],
          "table": [
           {
            "cells": {
             "fill": {
              "color": "#506784"
             },
             "line": {
              "color": "rgb(17,17,17)"
             }
            },
            "header": {
             "fill": {
              "color": "#2a3f5f"
             },
             "line": {
              "color": "rgb(17,17,17)"
             }
            },
            "type": "table"
           }
          ]
         },
         "layout": {
          "annotationdefaults": {
           "arrowcolor": "#f2f5fa",
           "arrowhead": 0,
           "arrowwidth": 1
          },
          "autotypenumbers": "strict",
          "coloraxis": {
           "colorbar": {
            "outlinewidth": 0,
            "ticks": ""
           }
          },
          "colorscale": {
           "diverging": [
            [
             0,
             "#8e0152"
            ],
            [
             0.1,
             "#c51b7d"
            ],
            [
             0.2,
             "#de77ae"
            ],
            [
             0.3,
             "#f1b6da"
            ],
            [
             0.4,
             "#fde0ef"
            ],
            [
             0.5,
             "#f7f7f7"
            ],
            [
             0.6,
             "#e6f5d0"
            ],
            [
             0.7,
             "#b8e186"
            ],
            [
             0.8,
             "#7fbc41"
            ],
            [
             0.9,
             "#4d9221"
            ],
            [
             1,
             "#276419"
            ]
           ],
           "sequential": [
            [
             0,
             "#0d0887"
            ],
            [
             0.1111111111111111,
             "#46039f"
            ],
            [
             0.2222222222222222,
             "#7201a8"
            ],
            [
             0.3333333333333333,
             "#9c179e"
            ],
            [
             0.4444444444444444,
             "#bd3786"
            ],
            [
             0.5555555555555556,
             "#d8576b"
            ],
            [
             0.6666666666666666,
             "#ed7953"
            ],
            [
             0.7777777777777778,
             "#fb9f3a"
            ],
            [
             0.8888888888888888,
             "#fdca26"
            ],
            [
             1,
             "#f0f921"
            ]
           ],
           "sequentialminus": [
            [
             0,
             "#0d0887"
            ],
            [
             0.1111111111111111,
             "#46039f"
            ],
            [
             0.2222222222222222,
             "#7201a8"
            ],
            [
             0.3333333333333333,
             "#9c179e"
            ],
            [
             0.4444444444444444,
             "#bd3786"
            ],
            [
             0.5555555555555556,
             "#d8576b"
            ],
            [
             0.6666666666666666,
             "#ed7953"
            ],
            [
             0.7777777777777778,
             "#fb9f3a"
            ],
            [
             0.8888888888888888,
             "#fdca26"
            ],
            [
             1,
             "#f0f921"
            ]
           ]
          },
          "colorway": [
           "#636efa",
           "#EF553B",
           "#00cc96",
           "#ab63fa",
           "#FFA15A",
           "#19d3f3",
           "#FF6692",
           "#B6E880",
           "#FF97FF",
           "#FECB52"
          ],
          "font": {
           "color": "#f2f5fa"
          },
          "geo": {
           "bgcolor": "rgb(17,17,17)",
           "lakecolor": "rgb(17,17,17)",
           "landcolor": "rgb(17,17,17)",
           "showlakes": true,
           "showland": true,
           "subunitcolor": "#506784"
          },
          "hoverlabel": {
           "align": "left"
          },
          "hovermode": "closest",
          "mapbox": {
           "style": "dark"
          },
          "paper_bgcolor": "rgb(17,17,17)",
          "plot_bgcolor": "rgb(17,17,17)",
          "polar": {
           "angularaxis": {
            "gridcolor": "#506784",
            "linecolor": "#506784",
            "ticks": ""
           },
           "bgcolor": "rgb(17,17,17)",
           "radialaxis": {
            "gridcolor": "#506784",
            "linecolor": "#506784",
            "ticks": ""
           }
          },
          "scene": {
           "xaxis": {
            "backgroundcolor": "rgb(17,17,17)",
            "gridcolor": "#506784",
            "gridwidth": 2,
            "linecolor": "#506784",
            "showbackground": true,
            "ticks": "",
            "zerolinecolor": "#C8D4E3"
           },
           "yaxis": {
            "backgroundcolor": "rgb(17,17,17)",
            "gridcolor": "#506784",
            "gridwidth": 2,
            "linecolor": "#506784",
            "showbackground": true,
            "ticks": "",
            "zerolinecolor": "#C8D4E3"
           },
           "zaxis": {
            "backgroundcolor": "rgb(17,17,17)",
            "gridcolor": "#506784",
            "gridwidth": 2,
            "linecolor": "#506784",
            "showbackground": true,
            "ticks": "",
            "zerolinecolor": "#C8D4E3"
           }
          },
          "shapedefaults": {
           "line": {
            "color": "#f2f5fa"
           }
          },
          "sliderdefaults": {
           "bgcolor": "#C8D4E3",
           "bordercolor": "rgb(17,17,17)",
           "borderwidth": 1,
           "tickwidth": 0
          },
          "ternary": {
           "aaxis": {
            "gridcolor": "#506784",
            "linecolor": "#506784",
            "ticks": ""
           },
           "baxis": {
            "gridcolor": "#506784",
            "linecolor": "#506784",
            "ticks": ""
           },
           "bgcolor": "rgb(17,17,17)",
           "caxis": {
            "gridcolor": "#506784",
            "linecolor": "#506784",
            "ticks": ""
           }
          },
          "title": {
           "x": 0.05
          },
          "updatemenudefaults": {
           "bgcolor": "#506784",
           "borderwidth": 0
          },
          "xaxis": {
           "automargin": true,
           "gridcolor": "#283442",
           "linecolor": "#506784",
           "ticks": "",
           "title": {
            "standoff": 15
           },
           "zerolinecolor": "#283442",
           "zerolinewidth": 2
          },
          "yaxis": {
           "automargin": true,
           "gridcolor": "#283442",
           "linecolor": "#506784",
           "ticks": "",
           "title": {
            "standoff": 15
           },
           "zerolinecolor": "#283442",
           "zerolinewidth": 2
          }
         }
        },
        "title": {
         "text": "Las 10 principales criptomonedas por capitalización de mercado"
        },
        "xaxis": {
         "anchor": "y",
         "categoryarray": [
          "Bitcoin",
          "Ethereum",
          "Tether",
          "BNB",
          "USD Coin",
          "XRP",
          "Cardano",
          "Dogecoin",
          "Lido Staked Ether",
          "Polygon"
         ],
         "categoryorder": "array",
         "domain": [
          0,
          1
         ],
         "title": {
          "text": "Las 10 primeras posiciones"
         }
        },
        "yaxis": {
         "anchor": "x",
         "domain": [
          0,
          1
         ],
         "title": {
          "text": "Market Cap($)"
         }
        }
       }
      },
      "text/html": [
       "<div>                            <div id=\"edd57b2e-78b8-4003-bfdb-dae7716dbd00\" class=\"plotly-graph-div\" style=\"height:400px; width:100%;\"></div>            <script type=\"text/javascript\">                require([\"plotly\"], function(Plotly) {                    window.PLOTLYENV=window.PLOTLYENV || {};                                    if (document.getElementById(\"edd57b2e-78b8-4003-bfdb-dae7716dbd00\")) {                    Plotly.newPlot(                        \"edd57b2e-78b8-4003-bfdb-dae7716dbd00\",                        [{\"alignmentgroup\":\"True\",\"hovertemplate\":\"Las 10 primeras posiciones=%{x}<br>Market Cap($)=%{text}<extra></extra>\",\"legendgroup\":\"Bitcoin\",\"marker\":{\"color\":\"#636efa\",\"pattern\":{\"shape\":\"\"}},\"name\":\"Bitcoin\",\"offsetgroup\":\"Bitcoin\",\"orientation\":\"v\",\"showlegend\":true,\"text\":[541628824546.0],\"textposition\":\"auto\",\"x\":[\"Bitcoin\"],\"xaxis\":\"x\",\"y\":[541628824546],\"yaxis\":\"y\",\"type\":\"bar\"},{\"alignmentgroup\":\"True\",\"hovertemplate\":\"Las 10 primeras posiciones=%{x}<br>Market Cap($)=%{text}<extra></extra>\",\"legendgroup\":\"Ethereum\",\"marker\":{\"color\":\"#EF553B\",\"pattern\":{\"shape\":\"\"}},\"name\":\"Ethereum\",\"offsetgroup\":\"Ethereum\",\"orientation\":\"v\",\"showlegend\":true,\"text\":[224892057319.0],\"textposition\":\"auto\",\"x\":[\"Ethereum\"],\"xaxis\":\"x\",\"y\":[224892057319],\"yaxis\":\"y\",\"type\":\"bar\"},{\"alignmentgroup\":\"True\",\"hovertemplate\":\"Las 10 primeras posiciones=%{x}<br>Market Cap($)=%{text}<extra></extra>\",\"legendgroup\":\"Tether\",\"marker\":{\"color\":\"#00cc96\",\"pattern\":{\"shape\":\"\"}},\"name\":\"Tether\",\"offsetgroup\":\"Tether\",\"orientation\":\"v\",\"showlegend\":true,\"text\":[80273606417.0],\"textposition\":\"auto\",\"x\":[\"Tether\"],\"xaxis\":\"x\",\"y\":[80273606417],\"yaxis\":\"y\",\"type\":\"bar\"},{\"alignmentgroup\":\"True\",\"hovertemplate\":\"Las 10 primeras posiciones=%{x}<br>Market Cap($)=%{text}<extra></extra>\",\"legendgroup\":\"BNB\",\"marker\":{\"color\":\"#ab63fa\",\"pattern\":{\"shape\":\"\"}},\"name\":\"BNB\",\"offsetgroup\":\"BNB\",\"orientation\":\"v\",\"showlegend\":true,\"text\":[49349370768.0],\"textposition\":\"auto\",\"x\":[\"BNB\"],\"xaxis\":\"x\",\"y\":[49349370768],\"yaxis\":\"y\",\"type\":\"bar\"},{\"alignmentgroup\":\"True\",\"hovertemplate\":\"Las 10 primeras posiciones=%{x}<br>Market Cap($)=%{text}<extra></extra>\",\"legendgroup\":\"USD Coin\",\"marker\":{\"color\":\"#FFA15A\",\"pattern\":{\"shape\":\"\"}},\"name\":\"USD Coin\",\"offsetgroup\":\"USD Coin\",\"orientation\":\"v\",\"showlegend\":true,\"text\":[32614288443.0],\"textposition\":\"auto\",\"x\":[\"USD Coin\"],\"xaxis\":\"x\",\"y\":[32614288443],\"yaxis\":\"y\",\"type\":\"bar\"},{\"alignmentgroup\":\"True\",\"hovertemplate\":\"Las 10 primeras posiciones=%{x}<br>Market Cap($)=%{text}<extra></extra>\",\"legendgroup\":\"XRP\",\"marker\":{\"color\":\"#19d3f3\",\"pattern\":{\"shape\":\"\"}},\"name\":\"XRP\",\"offsetgroup\":\"XRP\",\"orientation\":\"v\",\"showlegend\":true,\"text\":[26307437820.0],\"textposition\":\"auto\",\"x\":[\"XRP\"],\"xaxis\":\"x\",\"y\":[26307437820],\"yaxis\":\"y\",\"type\":\"bar\"},{\"alignmentgroup\":\"True\",\"hovertemplate\":\"Las 10 primeras posiciones=%{x}<br>Market Cap($)=%{text}<extra></extra>\",\"legendgroup\":\"Cardano\",\"marker\":{\"color\":\"#FF6692\",\"pattern\":{\"shape\":\"\"}},\"name\":\"Cardano\",\"offsetgroup\":\"Cardano\",\"orientation\":\"v\",\"showlegend\":true,\"text\":[13582375319.0],\"textposition\":\"auto\",\"x\":[\"Cardano\"],\"xaxis\":\"x\",\"y\":[13582375319],\"yaxis\":\"y\",\"type\":\"bar\"},{\"alignmentgroup\":\"True\",\"hovertemplate\":\"Las 10 primeras posiciones=%{x}<br>Market Cap($)=%{text}<extra></extra>\",\"legendgroup\":\"Dogecoin\",\"marker\":{\"color\":\"#B6E880\",\"pattern\":{\"shape\":\"\"}},\"name\":\"Dogecoin\",\"offsetgroup\":\"Dogecoin\",\"orientation\":\"v\",\"showlegend\":true,\"text\":[11498152854.0],\"textposition\":\"auto\",\"x\":[\"Dogecoin\"],\"xaxis\":\"x\",\"y\":[11498152854],\"yaxis\":\"y\",\"type\":\"bar\"},{\"alignmentgroup\":\"True\",\"hovertemplate\":\"Las 10 primeras posiciones=%{x}<br>Market Cap($)=%{text}<extra></extra>\",\"legendgroup\":\"Lido Staked Ether\",\"marker\":{\"color\":\"#FF97FF\",\"pattern\":{\"shape\":\"\"}},\"name\":\"Lido Staked Ether\",\"offsetgroup\":\"Lido Staked Ether\",\"orientation\":\"v\",\"showlegend\":true,\"text\":[11023703902.0],\"textposition\":\"auto\",\"x\":[\"Lido Staked Ether\"],\"xaxis\":\"x\",\"y\":[11023703902],\"yaxis\":\"y\",\"type\":\"bar\"},{\"alignmentgroup\":\"True\",\"hovertemplate\":\"Las 10 primeras posiciones=%{x}<br>Market Cap($)=%{text}<extra></extra>\",\"legendgroup\":\"Polygon\",\"marker\":{\"color\":\"#FECB52\",\"pattern\":{\"shape\":\"\"}},\"name\":\"Polygon\",\"offsetgroup\":\"Polygon\",\"orientation\":\"v\",\"showlegend\":true,\"text\":[10191081071.0],\"textposition\":\"auto\",\"x\":[\"Polygon\"],\"xaxis\":\"x\",\"y\":[10191081071],\"yaxis\":\"y\",\"type\":\"bar\"}],                        {\"template\":{\"data\":{\"barpolar\":[{\"marker\":{\"line\":{\"color\":\"rgb(17,17,17)\",\"width\":0.5},\"pattern\":{\"fillmode\":\"overlay\",\"size\":10,\"solidity\":0.2}},\"type\":\"barpolar\"}],\"bar\":[{\"error_x\":{\"color\":\"#f2f5fa\"},\"error_y\":{\"color\":\"#f2f5fa\"},\"marker\":{\"line\":{\"color\":\"rgb(17,17,17)\",\"width\":0.5},\"pattern\":{\"fillmode\":\"overlay\",\"size\":10,\"solidity\":0.2}},\"type\":\"bar\"}],\"carpet\":[{\"aaxis\":{\"endlinecolor\":\"#A2B1C6\",\"gridcolor\":\"#506784\",\"linecolor\":\"#506784\",\"minorgridcolor\":\"#506784\",\"startlinecolor\":\"#A2B1C6\"},\"baxis\":{\"endlinecolor\":\"#A2B1C6\",\"gridcolor\":\"#506784\",\"linecolor\":\"#506784\",\"minorgridcolor\":\"#506784\",\"startlinecolor\":\"#A2B1C6\"},\"type\":\"carpet\"}],\"choropleth\":[{\"colorbar\":{\"outlinewidth\":0,\"ticks\":\"\"},\"type\":\"choropleth\"}],\"contourcarpet\":[{\"colorbar\":{\"outlinewidth\":0,\"ticks\":\"\"},\"type\":\"contourcarpet\"}],\"contour\":[{\"colorbar\":{\"outlinewidth\":0,\"ticks\":\"\"},\"colorscale\":[[0.0,\"#0d0887\"],[0.1111111111111111,\"#46039f\"],[0.2222222222222222,\"#7201a8\"],[0.3333333333333333,\"#9c179e\"],[0.4444444444444444,\"#bd3786\"],[0.5555555555555556,\"#d8576b\"],[0.6666666666666666,\"#ed7953\"],[0.7777777777777778,\"#fb9f3a\"],[0.8888888888888888,\"#fdca26\"],[1.0,\"#f0f921\"]],\"type\":\"contour\"}],\"heatmapgl\":[{\"colorbar\":{\"outlinewidth\":0,\"ticks\":\"\"},\"colorscale\":[[0.0,\"#0d0887\"],[0.1111111111111111,\"#46039f\"],[0.2222222222222222,\"#7201a8\"],[0.3333333333333333,\"#9c179e\"],[0.4444444444444444,\"#bd3786\"],[0.5555555555555556,\"#d8576b\"],[0.6666666666666666,\"#ed7953\"],[0.7777777777777778,\"#fb9f3a\"],[0.8888888888888888,\"#fdca26\"],[1.0,\"#f0f921\"]],\"type\":\"heatmapgl\"}],\"heatmap\":[{\"colorbar\":{\"outlinewidth\":0,\"ticks\":\"\"},\"colorscale\":[[0.0,\"#0d0887\"],[0.1111111111111111,\"#46039f\"],[0.2222222222222222,\"#7201a8\"],[0.3333333333333333,\"#9c179e\"],[0.4444444444444444,\"#bd3786\"],[0.5555555555555556,\"#d8576b\"],[0.6666666666666666,\"#ed7953\"],[0.7777777777777778,\"#fb9f3a\"],[0.8888888888888888,\"#fdca26\"],[1.0,\"#f0f921\"]],\"type\":\"heatmap\"}],\"histogram2dcontour\":[{\"colorbar\":{\"outlinewidth\":0,\"ticks\":\"\"},\"colorscale\":[[0.0,\"#0d0887\"],[0.1111111111111111,\"#46039f\"],[0.2222222222222222,\"#7201a8\"],[0.3333333333333333,\"#9c179e\"],[0.4444444444444444,\"#bd3786\"],[0.5555555555555556,\"#d8576b\"],[0.6666666666666666,\"#ed7953\"],[0.7777777777777778,\"#fb9f3a\"],[0.8888888888888888,\"#fdca26\"],[1.0,\"#f0f921\"]],\"type\":\"histogram2dcontour\"}],\"histogram2d\":[{\"colorbar\":{\"outlinewidth\":0,\"ticks\":\"\"},\"colorscale\":[[0.0,\"#0d0887\"],[0.1111111111111111,\"#46039f\"],[0.2222222222222222,\"#7201a8\"],[0.3333333333333333,\"#9c179e\"],[0.4444444444444444,\"#bd3786\"],[0.5555555555555556,\"#d8576b\"],[0.6666666666666666,\"#ed7953\"],[0.7777777777777778,\"#fb9f3a\"],[0.8888888888888888,\"#fdca26\"],[1.0,\"#f0f921\"]],\"type\":\"histogram2d\"}],\"histogram\":[{\"marker\":{\"pattern\":{\"fillmode\":\"overlay\",\"size\":10,\"solidity\":0.2}},\"type\":\"histogram\"}],\"mesh3d\":[{\"colorbar\":{\"outlinewidth\":0,\"ticks\":\"\"},\"type\":\"mesh3d\"}],\"parcoords\":[{\"line\":{\"colorbar\":{\"outlinewidth\":0,\"ticks\":\"\"}},\"type\":\"parcoords\"}],\"pie\":[{\"automargin\":true,\"type\":\"pie\"}],\"scatter3d\":[{\"line\":{\"colorbar\":{\"outlinewidth\":0,\"ticks\":\"\"}},\"marker\":{\"colorbar\":{\"outlinewidth\":0,\"ticks\":\"\"}},\"type\":\"scatter3d\"}],\"scattercarpet\":[{\"marker\":{\"colorbar\":{\"outlinewidth\":0,\"ticks\":\"\"}},\"type\":\"scattercarpet\"}],\"scattergeo\":[{\"marker\":{\"colorbar\":{\"outlinewidth\":0,\"ticks\":\"\"}},\"type\":\"scattergeo\"}],\"scattergl\":[{\"marker\":{\"line\":{\"color\":\"#283442\"}},\"type\":\"scattergl\"}],\"scattermapbox\":[{\"marker\":{\"colorbar\":{\"outlinewidth\":0,\"ticks\":\"\"}},\"type\":\"scattermapbox\"}],\"scatterpolargl\":[{\"marker\":{\"colorbar\":{\"outlinewidth\":0,\"ticks\":\"\"}},\"type\":\"scatterpolargl\"}],\"scatterpolar\":[{\"marker\":{\"colorbar\":{\"outlinewidth\":0,\"ticks\":\"\"}},\"type\":\"scatterpolar\"}],\"scatter\":[{\"marker\":{\"line\":{\"color\":\"#283442\"}},\"type\":\"scatter\"}],\"scatterternary\":[{\"marker\":{\"colorbar\":{\"outlinewidth\":0,\"ticks\":\"\"}},\"type\":\"scatterternary\"}],\"surface\":[{\"colorbar\":{\"outlinewidth\":0,\"ticks\":\"\"},\"colorscale\":[[0.0,\"#0d0887\"],[0.1111111111111111,\"#46039f\"],[0.2222222222222222,\"#7201a8\"],[0.3333333333333333,\"#9c179e\"],[0.4444444444444444,\"#bd3786\"],[0.5555555555555556,\"#d8576b\"],[0.6666666666666666,\"#ed7953\"],[0.7777777777777778,\"#fb9f3a\"],[0.8888888888888888,\"#fdca26\"],[1.0,\"#f0f921\"]],\"type\":\"surface\"}],\"table\":[{\"cells\":{\"fill\":{\"color\":\"#506784\"},\"line\":{\"color\":\"rgb(17,17,17)\"}},\"header\":{\"fill\":{\"color\":\"#2a3f5f\"},\"line\":{\"color\":\"rgb(17,17,17)\"}},\"type\":\"table\"}]},\"layout\":{\"annotationdefaults\":{\"arrowcolor\":\"#f2f5fa\",\"arrowhead\":0,\"arrowwidth\":1},\"autotypenumbers\":\"strict\",\"coloraxis\":{\"colorbar\":{\"outlinewidth\":0,\"ticks\":\"\"}},\"colorscale\":{\"diverging\":[[0,\"#8e0152\"],[0.1,\"#c51b7d\"],[0.2,\"#de77ae\"],[0.3,\"#f1b6da\"],[0.4,\"#fde0ef\"],[0.5,\"#f7f7f7\"],[0.6,\"#e6f5d0\"],[0.7,\"#b8e186\"],[0.8,\"#7fbc41\"],[0.9,\"#4d9221\"],[1,\"#276419\"]],\"sequential\":[[0.0,\"#0d0887\"],[0.1111111111111111,\"#46039f\"],[0.2222222222222222,\"#7201a8\"],[0.3333333333333333,\"#9c179e\"],[0.4444444444444444,\"#bd3786\"],[0.5555555555555556,\"#d8576b\"],[0.6666666666666666,\"#ed7953\"],[0.7777777777777778,\"#fb9f3a\"],[0.8888888888888888,\"#fdca26\"],[1.0,\"#f0f921\"]],\"sequentialminus\":[[0.0,\"#0d0887\"],[0.1111111111111111,\"#46039f\"],[0.2222222222222222,\"#7201a8\"],[0.3333333333333333,\"#9c179e\"],[0.4444444444444444,\"#bd3786\"],[0.5555555555555556,\"#d8576b\"],[0.6666666666666666,\"#ed7953\"],[0.7777777777777778,\"#fb9f3a\"],[0.8888888888888888,\"#fdca26\"],[1.0,\"#f0f921\"]]},\"colorway\":[\"#636efa\",\"#EF553B\",\"#00cc96\",\"#ab63fa\",\"#FFA15A\",\"#19d3f3\",\"#FF6692\",\"#B6E880\",\"#FF97FF\",\"#FECB52\"],\"font\":{\"color\":\"#f2f5fa\"},\"geo\":{\"bgcolor\":\"rgb(17,17,17)\",\"lakecolor\":\"rgb(17,17,17)\",\"landcolor\":\"rgb(17,17,17)\",\"showlakes\":true,\"showland\":true,\"subunitcolor\":\"#506784\"},\"hoverlabel\":{\"align\":\"left\"},\"hovermode\":\"closest\",\"mapbox\":{\"style\":\"dark\"},\"paper_bgcolor\":\"rgb(17,17,17)\",\"plot_bgcolor\":\"rgb(17,17,17)\",\"polar\":{\"angularaxis\":{\"gridcolor\":\"#506784\",\"linecolor\":\"#506784\",\"ticks\":\"\"},\"bgcolor\":\"rgb(17,17,17)\",\"radialaxis\":{\"gridcolor\":\"#506784\",\"linecolor\":\"#506784\",\"ticks\":\"\"}},\"scene\":{\"xaxis\":{\"backgroundcolor\":\"rgb(17,17,17)\",\"gridcolor\":\"#506784\",\"gridwidth\":2,\"linecolor\":\"#506784\",\"showbackground\":true,\"ticks\":\"\",\"zerolinecolor\":\"#C8D4E3\"},\"yaxis\":{\"backgroundcolor\":\"rgb(17,17,17)\",\"gridcolor\":\"#506784\",\"gridwidth\":2,\"linecolor\":\"#506784\",\"showbackground\":true,\"ticks\":\"\",\"zerolinecolor\":\"#C8D4E3\"},\"zaxis\":{\"backgroundcolor\":\"rgb(17,17,17)\",\"gridcolor\":\"#506784\",\"gridwidth\":2,\"linecolor\":\"#506784\",\"showbackground\":true,\"ticks\":\"\",\"zerolinecolor\":\"#C8D4E3\"}},\"shapedefaults\":{\"line\":{\"color\":\"#f2f5fa\"}},\"sliderdefaults\":{\"bgcolor\":\"#C8D4E3\",\"bordercolor\":\"rgb(17,17,17)\",\"borderwidth\":1,\"tickwidth\":0},\"ternary\":{\"aaxis\":{\"gridcolor\":\"#506784\",\"linecolor\":\"#506784\",\"ticks\":\"\"},\"baxis\":{\"gridcolor\":\"#506784\",\"linecolor\":\"#506784\",\"ticks\":\"\"},\"bgcolor\":\"rgb(17,17,17)\",\"caxis\":{\"gridcolor\":\"#506784\",\"linecolor\":\"#506784\",\"ticks\":\"\"}},\"title\":{\"x\":0.05},\"updatemenudefaults\":{\"bgcolor\":\"#506784\",\"borderwidth\":0},\"xaxis\":{\"automargin\":true,\"gridcolor\":\"#283442\",\"linecolor\":\"#506784\",\"ticks\":\"\",\"title\":{\"standoff\":15},\"zerolinecolor\":\"#283442\",\"zerolinewidth\":2},\"yaxis\":{\"automargin\":true,\"gridcolor\":\"#283442\",\"linecolor\":\"#506784\",\"ticks\":\"\",\"title\":{\"standoff\":15},\"zerolinecolor\":\"#283442\",\"zerolinewidth\":2}}},\"xaxis\":{\"anchor\":\"y\",\"domain\":[0.0,1.0],\"title\":{\"text\":\"Las 10 primeras posiciones\"},\"categoryorder\":\"array\",\"categoryarray\":[\"Bitcoin\",\"Ethereum\",\"Tether\",\"BNB\",\"USD Coin\",\"XRP\",\"Cardano\",\"Dogecoin\",\"Lido Staked Ether\",\"Polygon\"]},\"yaxis\":{\"anchor\":\"x\",\"domain\":[0.0,1.0],\"title\":{\"text\":\"Market Cap($)\"}},\"legend\":{\"title\":{\"text\":\"Las 10 primeras posiciones\"},\"tracegroupgap\":0},\"title\":{\"text\":\"Las 10 principales criptomonedas por capitalizaci\\u00f3n de mercado\"},\"barmode\":\"relative\",\"height\":400},                        {\"responsive\": true}                    ).then(function(){\n",
       "                            \n",
       "var gd = document.getElementById('edd57b2e-78b8-4003-bfdb-dae7716dbd00');\n",
       "var x = new MutationObserver(function (mutations, observer) {{\n",
       "        var display = window.getComputedStyle(gd).display;\n",
       "        if (!display || display === 'none') {{\n",
       "            console.log([gd, 'removed!']);\n",
       "            Plotly.purge(gd);\n",
       "            observer.disconnect();\n",
       "        }}\n",
       "}});\n",
       "\n",
       "// Listen for the removal of the full notebook cells\n",
       "var notebookContainer = gd.closest('#notebook-container');\n",
       "if (notebookContainer) {{\n",
       "    x.observe(notebookContainer, {childList: true});\n",
       "}}\n",
       "\n",
       "// Listen for the clearing of the current output cell\n",
       "var outputEl = gd.closest('.output');\n",
       "if (outputEl) {{\n",
       "    x.observe(outputEl, {childList: true});\n",
       "}}\n",
       "\n",
       "                        })                };                });            </script>        </div>"
      ]
     },
     "metadata": {},
     "output_type": "display_data"
    }
   ],
   "source": [
    "# Seleccionar las primeras 10 posiciones\n",
    "first_10 = result_df.head(10)\n",
    "\n",
    "# Crear el gráfico de barras para las primeras 10 posiciones\n",
    "first_10 = result_df.head(10)\n",
    "\n",
    "fig = px.bar(first_10, x='Coin', y='Market Cap($)', text = \"Market Cap($)\",\n",
    "             color='Coin',\n",
    "             template='plotly_dark',\n",
    "             labels={'Coin':'Las 10 primeras posiciones'},\n",
    "             title='Las 10 principales criptomonedas por capitalización de mercado',\n",
    "             height=400)\n",
    "fig.show() \n",
    "\n"
   ]
  },
  {
   "cell_type": "code",
   "execution_count": 29,
   "metadata": {},
   "outputs": [
    {
     "data": {
      "application/vnd.plotly.v1+json": {
       "config": {
        "plotlyServerURL": "https://plot.ly"
       },
       "data": [
        {
         "alignmentgroup": "True",
         "hovertemplate": "Las ultimas 10 posiciones=%{x}<br>Market Cap($)=%{text}<extra></extra>",
         "legendgroup": "Bitcoin",
         "marker": {
          "color": "#1F77B4",
          "pattern": {
           "shape": ""
          }
         },
         "name": "Bitcoin",
         "offsetgroup": "Bitcoin",
         "orientation": "v",
         "showlegend": true,
         "text": [
          541628824546
         ],
         "textposition": "auto",
         "type": "bar",
         "x": [
          "Bitcoin"
         ],
         "xaxis": "x",
         "y": [
          541628824546
         ],
         "yaxis": "y"
        },
        {
         "alignmentgroup": "True",
         "hovertemplate": "Las ultimas 10 posiciones=%{x}<br>Market Cap($)=%{text}<extra></extra>",
         "legendgroup": "Ethereum",
         "marker": {
          "color": "#FF7F0E",
          "pattern": {
           "shape": ""
          }
         },
         "name": "Ethereum",
         "offsetgroup": "Ethereum",
         "orientation": "v",
         "showlegend": true,
         "text": [
          224892057319
         ],
         "textposition": "auto",
         "type": "bar",
         "x": [
          "Ethereum"
         ],
         "xaxis": "x",
         "y": [
          224892057319
         ],
         "yaxis": "y"
        },
        {
         "alignmentgroup": "True",
         "hovertemplate": "Las ultimas 10 posiciones=%{x}<br>Market Cap($)=%{text}<extra></extra>",
         "legendgroup": "Tether",
         "marker": {
          "color": "#2CA02C",
          "pattern": {
           "shape": ""
          }
         },
         "name": "Tether",
         "offsetgroup": "Tether",
         "orientation": "v",
         "showlegend": true,
         "text": [
          80273606417
         ],
         "textposition": "auto",
         "type": "bar",
         "x": [
          "Tether"
         ],
         "xaxis": "x",
         "y": [
          80273606417
         ],
         "yaxis": "y"
        },
        {
         "alignmentgroup": "True",
         "hovertemplate": "Las ultimas 10 posiciones=%{x}<br>Market Cap($)=%{text}<extra></extra>",
         "legendgroup": "BNB",
         "marker": {
          "color": "#D62728",
          "pattern": {
           "shape": ""
          }
         },
         "name": "BNB",
         "offsetgroup": "BNB",
         "orientation": "v",
         "showlegend": true,
         "text": [
          49349370768
         ],
         "textposition": "auto",
         "type": "bar",
         "x": [
          "BNB"
         ],
         "xaxis": "x",
         "y": [
          49349370768
         ],
         "yaxis": "y"
        },
        {
         "alignmentgroup": "True",
         "hovertemplate": "Las ultimas 10 posiciones=%{x}<br>Market Cap($)=%{text}<extra></extra>",
         "legendgroup": "USD Coin",
         "marker": {
          "color": "#9467BD",
          "pattern": {
           "shape": ""
          }
         },
         "name": "USD Coin",
         "offsetgroup": "USD Coin",
         "orientation": "v",
         "showlegend": true,
         "text": [
          32614288443
         ],
         "textposition": "auto",
         "type": "bar",
         "x": [
          "USD Coin"
         ],
         "xaxis": "x",
         "y": [
          32614288443
         ],
         "yaxis": "y"
        },
        {
         "alignmentgroup": "True",
         "hovertemplate": "Las ultimas 10 posiciones=%{x}<br>Market Cap($)=%{text}<extra></extra>",
         "legendgroup": "XRP",
         "marker": {
          "color": "#8C564B",
          "pattern": {
           "shape": ""
          }
         },
         "name": "XRP",
         "offsetgroup": "XRP",
         "orientation": "v",
         "showlegend": true,
         "text": [
          26307437820
         ],
         "textposition": "auto",
         "type": "bar",
         "x": [
          "XRP"
         ],
         "xaxis": "x",
         "y": [
          26307437820
         ],
         "yaxis": "y"
        },
        {
         "alignmentgroup": "True",
         "hovertemplate": "Las ultimas 10 posiciones=%{x}<br>Market Cap($)=%{text}<extra></extra>",
         "legendgroup": "Cardano",
         "marker": {
          "color": "#E377C2",
          "pattern": {
           "shape": ""
          }
         },
         "name": "Cardano",
         "offsetgroup": "Cardano",
         "orientation": "v",
         "showlegend": true,
         "text": [
          13582375319
         ],
         "textposition": "auto",
         "type": "bar",
         "x": [
          "Cardano"
         ],
         "xaxis": "x",
         "y": [
          13582375319
         ],
         "yaxis": "y"
        },
        {
         "alignmentgroup": "True",
         "hovertemplate": "Las ultimas 10 posiciones=%{x}<br>Market Cap($)=%{text}<extra></extra>",
         "legendgroup": "Dogecoin",
         "marker": {
          "color": "#7F7F7F",
          "pattern": {
           "shape": ""
          }
         },
         "name": "Dogecoin",
         "offsetgroup": "Dogecoin",
         "orientation": "v",
         "showlegend": true,
         "text": [
          11498152854
         ],
         "textposition": "auto",
         "type": "bar",
         "x": [
          "Dogecoin"
         ],
         "xaxis": "x",
         "y": [
          11498152854
         ],
         "yaxis": "y"
        },
        {
         "alignmentgroup": "True",
         "hovertemplate": "Las ultimas 10 posiciones=%{x}<br>Market Cap($)=%{text}<extra></extra>",
         "legendgroup": "Lido Staked Ether",
         "marker": {
          "color": "#BCBD22",
          "pattern": {
           "shape": ""
          }
         },
         "name": "Lido Staked Ether",
         "offsetgroup": "Lido Staked Ether",
         "orientation": "v",
         "showlegend": true,
         "text": [
          11023703902
         ],
         "textposition": "auto",
         "type": "bar",
         "x": [
          "Lido Staked Ether"
         ],
         "xaxis": "x",
         "y": [
          11023703902
         ],
         "yaxis": "y"
        },
        {
         "alignmentgroup": "True",
         "hovertemplate": "Las ultimas 10 posiciones=%{x}<br>Market Cap($)=%{text}<extra></extra>",
         "legendgroup": "Polygon",
         "marker": {
          "color": "#17BECF",
          "pattern": {
           "shape": ""
          }
         },
         "name": "Polygon",
         "offsetgroup": "Polygon",
         "orientation": "v",
         "showlegend": true,
         "text": [
          10191081071
         ],
         "textposition": "auto",
         "type": "bar",
         "x": [
          "Polygon"
         ],
         "xaxis": "x",
         "y": [
          10191081071
         ],
         "yaxis": "y"
        }
       ],
       "layout": {
        "barmode": "relative",
        "height": 400,
        "legend": {
         "title": {
          "text": "Las ultimas 10 posiciones"
         },
         "tracegroupgap": 0
        },
        "template": {
         "data": {
          "pie": [
           {
            "automargin": true,
            "type": "pie"
           }
          ]
         },
         "layout": {
          "yaxis": {
           "showgrid": false
          }
         }
        },
        "title": {
         "text": "Las 10 ultimas criptomonedas con menos valor por capitalización de mercado"
        },
        "xaxis": {
         "anchor": "y",
         "categoryarray": [
          "Bitcoin",
          "Ethereum",
          "Tether",
          "BNB",
          "USD Coin",
          "XRP",
          "Cardano",
          "Dogecoin",
          "Lido Staked Ether",
          "Polygon"
         ],
         "categoryorder": "array",
         "domain": [
          0,
          1
         ],
         "title": {
          "text": "Las ultimas 10 posiciones"
         }
        },
        "yaxis": {
         "anchor": "x",
         "domain": [
          0,
          1
         ],
         "title": {
          "text": "Market Cap($)"
         }
        }
       }
      },
      "text/html": [
       "<div>                            <div id=\"af735fb8-c733-43d5-b5b5-fb7b7192368f\" class=\"plotly-graph-div\" style=\"height:400px; width:100%;\"></div>            <script type=\"text/javascript\">                require([\"plotly\"], function(Plotly) {                    window.PLOTLYENV=window.PLOTLYENV || {};                                    if (document.getElementById(\"af735fb8-c733-43d5-b5b5-fb7b7192368f\")) {                    Plotly.newPlot(                        \"af735fb8-c733-43d5-b5b5-fb7b7192368f\",                        [{\"alignmentgroup\":\"True\",\"hovertemplate\":\"Las ultimas 10 posiciones=%{x}<br>Market Cap($)=%{text}<extra></extra>\",\"legendgroup\":\"Bitcoin\",\"marker\":{\"color\":\"#1F77B4\",\"pattern\":{\"shape\":\"\"}},\"name\":\"Bitcoin\",\"offsetgroup\":\"Bitcoin\",\"orientation\":\"v\",\"showlegend\":true,\"text\":[541628824546.0],\"textposition\":\"auto\",\"x\":[\"Bitcoin\"],\"xaxis\":\"x\",\"y\":[541628824546],\"yaxis\":\"y\",\"type\":\"bar\"},{\"alignmentgroup\":\"True\",\"hovertemplate\":\"Las ultimas 10 posiciones=%{x}<br>Market Cap($)=%{text}<extra></extra>\",\"legendgroup\":\"Ethereum\",\"marker\":{\"color\":\"#FF7F0E\",\"pattern\":{\"shape\":\"\"}},\"name\":\"Ethereum\",\"offsetgroup\":\"Ethereum\",\"orientation\":\"v\",\"showlegend\":true,\"text\":[224892057319.0],\"textposition\":\"auto\",\"x\":[\"Ethereum\"],\"xaxis\":\"x\",\"y\":[224892057319],\"yaxis\":\"y\",\"type\":\"bar\"},{\"alignmentgroup\":\"True\",\"hovertemplate\":\"Las ultimas 10 posiciones=%{x}<br>Market Cap($)=%{text}<extra></extra>\",\"legendgroup\":\"Tether\",\"marker\":{\"color\":\"#2CA02C\",\"pattern\":{\"shape\":\"\"}},\"name\":\"Tether\",\"offsetgroup\":\"Tether\",\"orientation\":\"v\",\"showlegend\":true,\"text\":[80273606417.0],\"textposition\":\"auto\",\"x\":[\"Tether\"],\"xaxis\":\"x\",\"y\":[80273606417],\"yaxis\":\"y\",\"type\":\"bar\"},{\"alignmentgroup\":\"True\",\"hovertemplate\":\"Las ultimas 10 posiciones=%{x}<br>Market Cap($)=%{text}<extra></extra>\",\"legendgroup\":\"BNB\",\"marker\":{\"color\":\"#D62728\",\"pattern\":{\"shape\":\"\"}},\"name\":\"BNB\",\"offsetgroup\":\"BNB\",\"orientation\":\"v\",\"showlegend\":true,\"text\":[49349370768.0],\"textposition\":\"auto\",\"x\":[\"BNB\"],\"xaxis\":\"x\",\"y\":[49349370768],\"yaxis\":\"y\",\"type\":\"bar\"},{\"alignmentgroup\":\"True\",\"hovertemplate\":\"Las ultimas 10 posiciones=%{x}<br>Market Cap($)=%{text}<extra></extra>\",\"legendgroup\":\"USD Coin\",\"marker\":{\"color\":\"#9467BD\",\"pattern\":{\"shape\":\"\"}},\"name\":\"USD Coin\",\"offsetgroup\":\"USD Coin\",\"orientation\":\"v\",\"showlegend\":true,\"text\":[32614288443.0],\"textposition\":\"auto\",\"x\":[\"USD Coin\"],\"xaxis\":\"x\",\"y\":[32614288443],\"yaxis\":\"y\",\"type\":\"bar\"},{\"alignmentgroup\":\"True\",\"hovertemplate\":\"Las ultimas 10 posiciones=%{x}<br>Market Cap($)=%{text}<extra></extra>\",\"legendgroup\":\"XRP\",\"marker\":{\"color\":\"#8C564B\",\"pattern\":{\"shape\":\"\"}},\"name\":\"XRP\",\"offsetgroup\":\"XRP\",\"orientation\":\"v\",\"showlegend\":true,\"text\":[26307437820.0],\"textposition\":\"auto\",\"x\":[\"XRP\"],\"xaxis\":\"x\",\"y\":[26307437820],\"yaxis\":\"y\",\"type\":\"bar\"},{\"alignmentgroup\":\"True\",\"hovertemplate\":\"Las ultimas 10 posiciones=%{x}<br>Market Cap($)=%{text}<extra></extra>\",\"legendgroup\":\"Cardano\",\"marker\":{\"color\":\"#E377C2\",\"pattern\":{\"shape\":\"\"}},\"name\":\"Cardano\",\"offsetgroup\":\"Cardano\",\"orientation\":\"v\",\"showlegend\":true,\"text\":[13582375319.0],\"textposition\":\"auto\",\"x\":[\"Cardano\"],\"xaxis\":\"x\",\"y\":[13582375319],\"yaxis\":\"y\",\"type\":\"bar\"},{\"alignmentgroup\":\"True\",\"hovertemplate\":\"Las ultimas 10 posiciones=%{x}<br>Market Cap($)=%{text}<extra></extra>\",\"legendgroup\":\"Dogecoin\",\"marker\":{\"color\":\"#7F7F7F\",\"pattern\":{\"shape\":\"\"}},\"name\":\"Dogecoin\",\"offsetgroup\":\"Dogecoin\",\"orientation\":\"v\",\"showlegend\":true,\"text\":[11498152854.0],\"textposition\":\"auto\",\"x\":[\"Dogecoin\"],\"xaxis\":\"x\",\"y\":[11498152854],\"yaxis\":\"y\",\"type\":\"bar\"},{\"alignmentgroup\":\"True\",\"hovertemplate\":\"Las ultimas 10 posiciones=%{x}<br>Market Cap($)=%{text}<extra></extra>\",\"legendgroup\":\"Lido Staked Ether\",\"marker\":{\"color\":\"#BCBD22\",\"pattern\":{\"shape\":\"\"}},\"name\":\"Lido Staked Ether\",\"offsetgroup\":\"Lido Staked Ether\",\"orientation\":\"v\",\"showlegend\":true,\"text\":[11023703902.0],\"textposition\":\"auto\",\"x\":[\"Lido Staked Ether\"],\"xaxis\":\"x\",\"y\":[11023703902],\"yaxis\":\"y\",\"type\":\"bar\"},{\"alignmentgroup\":\"True\",\"hovertemplate\":\"Las ultimas 10 posiciones=%{x}<br>Market Cap($)=%{text}<extra></extra>\",\"legendgroup\":\"Polygon\",\"marker\":{\"color\":\"#17BECF\",\"pattern\":{\"shape\":\"\"}},\"name\":\"Polygon\",\"offsetgroup\":\"Polygon\",\"orientation\":\"v\",\"showlegend\":true,\"text\":[10191081071.0],\"textposition\":\"auto\",\"x\":[\"Polygon\"],\"xaxis\":\"x\",\"y\":[10191081071],\"yaxis\":\"y\",\"type\":\"bar\"}],                        {\"template\":{\"data\":{\"pie\":[{\"automargin\":true,\"type\":\"pie\"}]},\"layout\":{\"yaxis\":{\"showgrid\":false}}},\"xaxis\":{\"anchor\":\"y\",\"domain\":[0.0,1.0],\"title\":{\"text\":\"Las ultimas 10 posiciones\"},\"categoryorder\":\"array\",\"categoryarray\":[\"Bitcoin\",\"Ethereum\",\"Tether\",\"BNB\",\"USD Coin\",\"XRP\",\"Cardano\",\"Dogecoin\",\"Lido Staked Ether\",\"Polygon\"]},\"yaxis\":{\"anchor\":\"x\",\"domain\":[0.0,1.0],\"title\":{\"text\":\"Market Cap($)\"}},\"legend\":{\"title\":{\"text\":\"Las ultimas 10 posiciones\"},\"tracegroupgap\":0},\"title\":{\"text\":\"Las 10 ultimas criptomonedas con menos valor por capitalizaci\\u00f3n de mercado\"},\"barmode\":\"relative\",\"height\":400},                        {\"responsive\": true}                    ).then(function(){\n",
       "                            \n",
       "var gd = document.getElementById('af735fb8-c733-43d5-b5b5-fb7b7192368f');\n",
       "var x = new MutationObserver(function (mutations, observer) {{\n",
       "        var display = window.getComputedStyle(gd).display;\n",
       "        if (!display || display === 'none') {{\n",
       "            console.log([gd, 'removed!']);\n",
       "            Plotly.purge(gd);\n",
       "            observer.disconnect();\n",
       "        }}\n",
       "}});\n",
       "\n",
       "// Listen for the removal of the full notebook cells\n",
       "var notebookContainer = gd.closest('#notebook-container');\n",
       "if (notebookContainer) {{\n",
       "    x.observe(notebookContainer, {childList: true});\n",
       "}}\n",
       "\n",
       "// Listen for the clearing of the current output cell\n",
       "var outputEl = gd.closest('.output');\n",
       "if (outputEl) {{\n",
       "    x.observe(outputEl, {childList: true});\n",
       "}}\n",
       "\n",
       "                        })                };                });            </script>        </div>"
      ]
     },
     "metadata": {},
     "output_type": "display_data"
    }
   ],
   "source": [
    "# Seleccionar las últimas 10 posiciones\n",
    "last_10 = result_df.tail(10)\n",
    "\n",
    "# Crear el gráfico de barras para las últimas 10 posiciones\n",
    "last_10 = result_df.head(10)\n",
    "\n",
    "fig = px.bar(first_10, x='Coin', y='Market Cap($)',text = \"Market Cap($)\",\n",
    "             color='Coin',\n",
    "             template='ygridoff',\n",
    "             labels={'Coin':'Las ultimas 10 posiciones'},\n",
    "             title='Las 10 ultimas criptomonedas con menos valor por capitalización de mercado',\n",
    "             height=400)\n",
    "fig.show() "
   ]
  },
  {
   "cell_type": "code",
   "execution_count": 34,
   "metadata": {},
   "outputs": [],
   "source": [
    "#fig = px.pie(result_df, values='Market Cap($)', names='Coin', title='100 cripto')\n",
    "#fig.update_traces(textinfo=\"label+percent\")\n",
    "#fig.show()"
   ]
  },
  {
   "cell_type": "code",
   "execution_count": null,
   "metadata": {},
   "outputs": [],
   "source": []
  },
  {
   "cell_type": "markdown",
   "metadata": {},
   "source": [
    "### Filtrar"
   ]
  },
  {
   "cell_type": "code",
   "execution_count": 10,
   "metadata": {},
   "outputs": [
    {
     "data": {
      "text/html": [
       "<div>\n",
       "<style scoped>\n",
       "    .dataframe tbody tr th:only-of-type {\n",
       "        vertical-align: middle;\n",
       "    }\n",
       "\n",
       "    .dataframe tbody tr th {\n",
       "        vertical-align: top;\n",
       "    }\n",
       "\n",
       "    .dataframe thead th {\n",
       "        text-align: right;\n",
       "    }\n",
       "</style>\n",
       "<table border=\"1\" class=\"dataframe\">\n",
       "  <thead>\n",
       "    <tr style=\"text-align: right;\">\n",
       "      <th></th>\n",
       "      <th>index</th>\n",
       "      <th>Position</th>\n",
       "      <th>Coin</th>\n",
       "      <th>Price($)</th>\n",
       "      <th>Change 1h(%)</th>\n",
       "      <th>Change 7d(%)</th>\n",
       "      <th>Change 24h(%)</th>\n",
       "      <th>Volume 24h($)</th>\n",
       "      <th>Market Cap($)</th>\n",
       "    </tr>\n",
       "  </thead>\n",
       "  <tbody>\n",
       "    <tr>\n",
       "      <th>10</th>\n",
       "      <td>10</td>\n",
       "      <td>11</td>\n",
       "      <td>Dogecoin</td>\n",
       "      <td>87797048585</td>\n",
       "      <td>-0.3</td>\n",
       "      <td>6.9</td>\n",
       "      <td>0.6</td>\n",
       "      <td>566009435</td>\n",
       "      <td>12133588559</td>\n",
       "    </tr>\n",
       "    <tr>\n",
       "      <th>17</th>\n",
       "      <td>17</td>\n",
       "      <td>17</td>\n",
       "      <td>TRON</td>\n",
       "      <td>71505550246</td>\n",
       "      <td>-0.1</td>\n",
       "      <td>11.9</td>\n",
       "      <td>1.2</td>\n",
       "      <td>513299811</td>\n",
       "      <td>6549150642</td>\n",
       "    </tr>\n",
       "    <tr>\n",
       "      <th>29</th>\n",
       "      <td>29</td>\n",
       "      <td>30</td>\n",
       "      <td>Stellar</td>\n",
       "      <td>94167641615</td>\n",
       "      <td>-0.7</td>\n",
       "      <td>10.5</td>\n",
       "      <td>3.3</td>\n",
       "      <td>97534144</td>\n",
       "      <td>2483384299</td>\n",
       "    </tr>\n",
       "    <tr>\n",
       "      <th>33</th>\n",
       "      <td>33</td>\n",
       "      <td>34</td>\n",
       "      <td>VeChain</td>\n",
       "      <td>31614778072</td>\n",
       "      <td>-1.0</td>\n",
       "      <td>34.2</td>\n",
       "      <td>8.7</td>\n",
       "      <td>369885875</td>\n",
       "      <td>2295836432</td>\n",
       "    </tr>\n",
       "    <tr>\n",
       "      <th>34</th>\n",
       "      <td>34</td>\n",
       "      <td>35</td>\n",
       "      <td>Hedera</td>\n",
       "      <td>86200810195</td>\n",
       "      <td>-0.1</td>\n",
       "      <td>-0.4</td>\n",
       "      <td>-2.0</td>\n",
       "      <td>67611822</td>\n",
       "      <td>2261127350</td>\n",
       "    </tr>\n",
       "    <tr>\n",
       "      <th>37</th>\n",
       "      <td>37</td>\n",
       "      <td>38</td>\n",
       "      <td>Cronos</td>\n",
       "      <td>83231418736</td>\n",
       "      <td>-0.6</td>\n",
       "      <td>8.7</td>\n",
       "      <td>4.8</td>\n",
       "      <td>31109978</td>\n",
       "      <td>2108900622</td>\n",
       "    </tr>\n",
       "    <tr>\n",
       "      <th>53</th>\n",
       "      <td>53</td>\n",
       "      <td>54</td>\n",
       "      <td>Terra Luna Classic</td>\n",
       "      <td>169880638</td>\n",
       "      <td>-0.1</td>\n",
       "      <td>3.1</td>\n",
       "      <td>0.5</td>\n",
       "      <td>73818302</td>\n",
       "      <td>1003624792</td>\n",
       "    </tr>\n",
       "    <tr>\n",
       "      <th>85</th>\n",
       "      <td>85</td>\n",
       "      <td>86</td>\n",
       "      <td>cUSDC</td>\n",
       "      <td>22717344355</td>\n",
       "      <td>-0.1</td>\n",
       "      <td>-0.3</td>\n",
       "      <td>-0.1</td>\n",
       "      <td>3277</td>\n",
       "      <td>573863611</td>\n",
       "    </tr>\n",
       "    <tr>\n",
       "      <th>90</th>\n",
       "      <td>90</td>\n",
       "      <td>91</td>\n",
       "      <td>Zilliqa</td>\n",
       "      <td>34016845642</td>\n",
       "      <td>-0.6</td>\n",
       "      <td>16.7</td>\n",
       "      <td>5.8</td>\n",
       "      <td>157337070</td>\n",
       "      <td>549436894</td>\n",
       "    </tr>\n",
       "    <tr>\n",
       "      <th>93</th>\n",
       "      <td>93</td>\n",
       "      <td>94</td>\n",
       "      <td>cDAI</td>\n",
       "      <td>22139804759</td>\n",
       "      <td>-0.1</td>\n",
       "      <td>-0.2</td>\n",
       "      <td>-0.1</td>\n",
       "      <td>21116</td>\n",
       "      <td>537997946</td>\n",
       "    </tr>\n",
       "    <tr>\n",
       "      <th>98</th>\n",
       "      <td>98</td>\n",
       "      <td>99</td>\n",
       "      <td>Radix</td>\n",
       "      <td>49803328758</td>\n",
       "      <td>1.2</td>\n",
       "      <td>7.0</td>\n",
       "      <td>2.4</td>\n",
       "      <td>596793</td>\n",
       "      <td>503351251</td>\n",
       "    </tr>\n",
       "  </tbody>\n",
       "</table>\n",
       "</div>"
      ],
      "text/plain": [
       "    index  Position                Coin     Price($)  Change 1h(%)  \\\n",
       "10     10        11            Dogecoin  87797048585          -0.3   \n",
       "17     17        17                TRON  71505550246          -0.1   \n",
       "29     29        30             Stellar  94167641615          -0.7   \n",
       "33     33        34             VeChain  31614778072          -1.0   \n",
       "34     34        35              Hedera  86200810195          -0.1   \n",
       "37     37        38              Cronos  83231418736          -0.6   \n",
       "53     53        54  Terra Luna Classic    169880638          -0.1   \n",
       "85     85        86               cUSDC  22717344355          -0.1   \n",
       "90     90        91             Zilliqa  34016845642          -0.6   \n",
       "93     93        94                cDAI  22139804759          -0.1   \n",
       "98     98        99               Radix  49803328758           1.2   \n",
       "\n",
       "    Change 7d(%)  Change 24h(%)  Volume 24h($)  Market Cap($)  \n",
       "10           6.9            0.6      566009435    12133588559  \n",
       "17          11.9            1.2      513299811     6549150642  \n",
       "29          10.5            3.3       97534144     2483384299  \n",
       "33          34.2            8.7      369885875     2295836432  \n",
       "34          -0.4           -2.0       67611822     2261127350  \n",
       "37           8.7            4.8       31109978     2108900622  \n",
       "53           3.1            0.5       73818302     1003624792  \n",
       "85          -0.3           -0.1           3277      573863611  \n",
       "90          16.7            5.8      157337070      549436894  \n",
       "93          -0.2           -0.1          21116      537997946  \n",
       "98           7.0            2.4         596793      503351251  "
      ]
     },
     "execution_count": 10,
     "metadata": {},
     "output_type": "execute_result"
    }
   ],
   "source": [
    "# hago el filtro y guado en una nueva variable\n",
    "result_df2 = result_df[ result_df['Price($)'] > 46000000]\n",
    "result_df2"
   ]
  },
  {
   "cell_type": "code",
   "execution_count": null,
   "metadata": {},
   "outputs": [],
   "source": []
  },
  {
   "cell_type": "code",
   "execution_count": 29,
   "metadata": {},
   "outputs": [
    {
     "name": "stdout",
     "output_type": "stream",
     "text": [
      "Ordenados por precio de mayor a menor\n"
     ]
    },
    {
     "data": {
      "text/html": [
       "<div>\n",
       "<style scoped>\n",
       "    .dataframe tbody tr th:only-of-type {\n",
       "        vertical-align: middle;\n",
       "    }\n",
       "\n",
       "    .dataframe tbody tr th {\n",
       "        vertical-align: top;\n",
       "    }\n",
       "\n",
       "    .dataframe thead th {\n",
       "        text-align: right;\n",
       "    }\n",
       "</style>\n",
       "<table border=\"1\" class=\"dataframe\">\n",
       "  <thead>\n",
       "    <tr style=\"text-align: right;\">\n",
       "      <th></th>\n",
       "      <th>index</th>\n",
       "      <th>Position</th>\n",
       "      <th>Coin</th>\n",
       "      <th>Price($)</th>\n",
       "      <th>Change 1h(%)</th>\n",
       "      <th>Change 7d(%)</th>\n",
       "      <th>Change 24h(%)</th>\n",
       "      <th>Volume 24h($)</th>\n",
       "      <th>Market Cap($)</th>\n",
       "    </tr>\n",
       "  </thead>\n",
       "  <tbody>\n",
       "    <tr>\n",
       "      <th>29</th>\n",
       "      <td>29</td>\n",
       "      <td>30</td>\n",
       "      <td>Stellar</td>\n",
       "      <td>94167641615</td>\n",
       "      <td>-0.7</td>\n",
       "      <td>10.5</td>\n",
       "      <td>3.3</td>\n",
       "      <td>97534144</td>\n",
       "      <td>2483384299</td>\n",
       "    </tr>\n",
       "    <tr>\n",
       "      <th>10</th>\n",
       "      <td>10</td>\n",
       "      <td>11</td>\n",
       "      <td>Dogecoin</td>\n",
       "      <td>87797048585</td>\n",
       "      <td>-0.3</td>\n",
       "      <td>6.9</td>\n",
       "      <td>0.6</td>\n",
       "      <td>566009435</td>\n",
       "      <td>12133588559</td>\n",
       "    </tr>\n",
       "    <tr>\n",
       "      <th>34</th>\n",
       "      <td>34</td>\n",
       "      <td>35</td>\n",
       "      <td>Hedera</td>\n",
       "      <td>86200810195</td>\n",
       "      <td>-0.1</td>\n",
       "      <td>-0.4</td>\n",
       "      <td>-2.0</td>\n",
       "      <td>67611822</td>\n",
       "      <td>2261127350</td>\n",
       "    </tr>\n",
       "    <tr>\n",
       "      <th>37</th>\n",
       "      <td>37</td>\n",
       "      <td>38</td>\n",
       "      <td>Cronos</td>\n",
       "      <td>83231418736</td>\n",
       "      <td>-0.6</td>\n",
       "      <td>8.7</td>\n",
       "      <td>4.8</td>\n",
       "      <td>31109978</td>\n",
       "      <td>2108900622</td>\n",
       "    </tr>\n",
       "    <tr>\n",
       "      <th>17</th>\n",
       "      <td>17</td>\n",
       "      <td>17</td>\n",
       "      <td>TRON</td>\n",
       "      <td>71505550246</td>\n",
       "      <td>-0.1</td>\n",
       "      <td>11.9</td>\n",
       "      <td>1.2</td>\n",
       "      <td>513299811</td>\n",
       "      <td>6549150642</td>\n",
       "    </tr>\n",
       "    <tr>\n",
       "      <th>...</th>\n",
       "      <td>...</td>\n",
       "      <td>...</td>\n",
       "      <td>...</td>\n",
       "      <td>...</td>\n",
       "      <td>...</td>\n",
       "      <td>...</td>\n",
       "      <td>...</td>\n",
       "      <td>...</td>\n",
       "      <td>...</td>\n",
       "    </tr>\n",
       "    <tr>\n",
       "      <th>44</th>\n",
       "      <td>44</td>\n",
       "      <td>45</td>\n",
       "      <td>EOS</td>\n",
       "      <td>125</td>\n",
       "      <td>-0.5</td>\n",
       "      <td>20.4</td>\n",
       "      <td>0.9</td>\n",
       "      <td>197683721</td>\n",
       "      <td>1372645280</td>\n",
       "    </tr>\n",
       "    <tr>\n",
       "      <th>86</th>\n",
       "      <td>86</td>\n",
       "      <td>87</td>\n",
       "      <td>Osmosis</td>\n",
       "      <td>107</td>\n",
       "      <td>-0.8</td>\n",
       "      <td>6.2</td>\n",
       "      <td>1.9</td>\n",
       "      <td>23823298</td>\n",
       "      <td>573390171</td>\n",
       "    </tr>\n",
       "    <tr>\n",
       "      <th>60</th>\n",
       "      <td>60</td>\n",
       "      <td>61</td>\n",
       "      <td>Mina Protocol</td>\n",
       "      <td>106</td>\n",
       "      <td>-0.1</td>\n",
       "      <td>5.6</td>\n",
       "      <td>5.0</td>\n",
       "      <td>102612625</td>\n",
       "      <td>891828630</td>\n",
       "    </tr>\n",
       "    <tr>\n",
       "      <th>65</th>\n",
       "      <td>65</td>\n",
       "      <td>66</td>\n",
       "      <td>ImmutableX</td>\n",
       "      <td>103</td>\n",
       "      <td>-0.3</td>\n",
       "      <td>0.1</td>\n",
       "      <td>-0.4</td>\n",
       "      <td>45879289</td>\n",
       "      <td>814796535</td>\n",
       "    </tr>\n",
       "    <tr>\n",
       "      <th>87</th>\n",
       "      <td>87</td>\n",
       "      <td>88</td>\n",
       "      <td>Gemini Dollar</td>\n",
       "      <td>100</td>\n",
       "      <td>0.1</td>\n",
       "      <td>0.3</td>\n",
       "      <td>0.2</td>\n",
       "      <td>625678</td>\n",
       "      <td>565875578</td>\n",
       "    </tr>\n",
       "  </tbody>\n",
       "</table>\n",
       "<p>100 rows × 9 columns</p>\n",
       "</div>"
      ],
      "text/plain": [
       "    index  Position           Coin     Price($)  Change 1h(%)  Change 7d(%)  \\\n",
       "29     29        30        Stellar  94167641615          -0.7          10.5   \n",
       "10     10        11       Dogecoin  87797048585          -0.3           6.9   \n",
       "34     34        35         Hedera  86200810195          -0.1          -0.4   \n",
       "37     37        38         Cronos  83231418736          -0.6           8.7   \n",
       "17     17        17           TRON  71505550246          -0.1          11.9   \n",
       "..    ...       ...            ...          ...           ...           ...   \n",
       "44     44        45            EOS          125          -0.5          20.4   \n",
       "86     86        87        Osmosis          107          -0.8           6.2   \n",
       "60     60        61  Mina Protocol          106          -0.1           5.6   \n",
       "65     65        66     ImmutableX          103          -0.3           0.1   \n",
       "87     87        88  Gemini Dollar          100           0.1           0.3   \n",
       "\n",
       "    Change 24h(%)  Volume 24h($)  Market Cap($)  \n",
       "29            3.3       97534144     2483384299  \n",
       "10            0.6      566009435    12133588559  \n",
       "34           -2.0       67611822     2261127350  \n",
       "37            4.8       31109978     2108900622  \n",
       "17            1.2      513299811     6549150642  \n",
       "..            ...            ...            ...  \n",
       "44            0.9      197683721     1372645280  \n",
       "86            1.9       23823298      573390171  \n",
       "60            5.0      102612625      891828630  \n",
       "65           -0.4       45879289      814796535  \n",
       "87            0.2         625678      565875578  \n",
       "\n",
       "[100 rows x 9 columns]"
      ]
     },
     "execution_count": 29,
     "metadata": {},
     "output_type": "execute_result"
    }
   ],
   "source": [
    "#result_df2 = result_df.sort_values(by=[\"Price($)\", \"Coin\"], ascending=False)\n",
    "#print (\"Ordenados por precio de mayor a menor\")\n",
    "#result_df2\n"
   ]
  },
  {
   "cell_type": "code",
   "execution_count": 10,
   "metadata": {},
   "outputs": [
    {
     "data": {
      "text/html": [
       "<div>\n",
       "<style scoped>\n",
       "    .dataframe tbody tr th:only-of-type {\n",
       "        vertical-align: middle;\n",
       "    }\n",
       "\n",
       "    .dataframe tbody tr th {\n",
       "        vertical-align: top;\n",
       "    }\n",
       "\n",
       "    .dataframe thead th {\n",
       "        text-align: right;\n",
       "    }\n",
       "</style>\n",
       "<table border=\"1\" class=\"dataframe\">\n",
       "  <thead>\n",
       "    <tr style=\"text-align: right;\">\n",
       "      <th></th>\n",
       "      <th>index</th>\n",
       "      <th>Position</th>\n",
       "      <th>Coin</th>\n",
       "      <th>Price($)</th>\n",
       "      <th>Change 1h(%)</th>\n",
       "      <th>Change 7d(%)</th>\n",
       "      <th>Change 24h(%)</th>\n",
       "      <th>Volume 24h($)</th>\n",
       "      <th>Market Cap($)</th>\n",
       "    </tr>\n",
       "  </thead>\n",
       "  <tbody>\n",
       "    <tr>\n",
       "      <th>29</th>\n",
       "      <td>29</td>\n",
       "      <td>30</td>\n",
       "      <td>Stellar</td>\n",
       "      <td>94167641615</td>\n",
       "      <td>-0.7</td>\n",
       "      <td>10.5</td>\n",
       "      <td>3.3</td>\n",
       "      <td>97534144</td>\n",
       "      <td>2483384299</td>\n",
       "    </tr>\n",
       "    <tr>\n",
       "      <th>10</th>\n",
       "      <td>10</td>\n",
       "      <td>11</td>\n",
       "      <td>Dogecoin</td>\n",
       "      <td>87797048585</td>\n",
       "      <td>-0.3</td>\n",
       "      <td>6.9</td>\n",
       "      <td>0.6</td>\n",
       "      <td>566009435</td>\n",
       "      <td>12133588559</td>\n",
       "    </tr>\n",
       "    <tr>\n",
       "      <th>34</th>\n",
       "      <td>34</td>\n",
       "      <td>35</td>\n",
       "      <td>Hedera</td>\n",
       "      <td>86200810195</td>\n",
       "      <td>-0.1</td>\n",
       "      <td>-0.4</td>\n",
       "      <td>-2.0</td>\n",
       "      <td>67611822</td>\n",
       "      <td>2261127350</td>\n",
       "    </tr>\n",
       "    <tr>\n",
       "      <th>37</th>\n",
       "      <td>37</td>\n",
       "      <td>38</td>\n",
       "      <td>Cronos</td>\n",
       "      <td>83231418736</td>\n",
       "      <td>-0.6</td>\n",
       "      <td>8.7</td>\n",
       "      <td>4.8</td>\n",
       "      <td>31109978</td>\n",
       "      <td>2108900622</td>\n",
       "    </tr>\n",
       "    <tr>\n",
       "      <th>17</th>\n",
       "      <td>17</td>\n",
       "      <td>17</td>\n",
       "      <td>TRON</td>\n",
       "      <td>71505550246</td>\n",
       "      <td>-0.1</td>\n",
       "      <td>11.9</td>\n",
       "      <td>1.2</td>\n",
       "      <td>513299811</td>\n",
       "      <td>6549150642</td>\n",
       "    </tr>\n",
       "    <tr>\n",
       "      <th>98</th>\n",
       "      <td>98</td>\n",
       "      <td>99</td>\n",
       "      <td>Radix</td>\n",
       "      <td>49803328758</td>\n",
       "      <td>1.2</td>\n",
       "      <td>7.0</td>\n",
       "      <td>2.4</td>\n",
       "      <td>596793</td>\n",
       "      <td>503351251</td>\n",
       "    </tr>\n",
       "    <tr>\n",
       "      <th>90</th>\n",
       "      <td>90</td>\n",
       "      <td>91</td>\n",
       "      <td>Zilliqa</td>\n",
       "      <td>34016845642</td>\n",
       "      <td>-0.6</td>\n",
       "      <td>16.7</td>\n",
       "      <td>5.8</td>\n",
       "      <td>157337070</td>\n",
       "      <td>549436894</td>\n",
       "    </tr>\n",
       "    <tr>\n",
       "      <th>33</th>\n",
       "      <td>33</td>\n",
       "      <td>34</td>\n",
       "      <td>VeChain</td>\n",
       "      <td>31614778072</td>\n",
       "      <td>-1.0</td>\n",
       "      <td>34.2</td>\n",
       "      <td>8.7</td>\n",
       "      <td>369885875</td>\n",
       "      <td>2295836432</td>\n",
       "    </tr>\n",
       "    <tr>\n",
       "      <th>85</th>\n",
       "      <td>85</td>\n",
       "      <td>86</td>\n",
       "      <td>cUSDC</td>\n",
       "      <td>22717344355</td>\n",
       "      <td>-0.1</td>\n",
       "      <td>-0.3</td>\n",
       "      <td>-0.1</td>\n",
       "      <td>3277</td>\n",
       "      <td>573863611</td>\n",
       "    </tr>\n",
       "    <tr>\n",
       "      <th>93</th>\n",
       "      <td>93</td>\n",
       "      <td>94</td>\n",
       "      <td>cDAI</td>\n",
       "      <td>22139804759</td>\n",
       "      <td>-0.1</td>\n",
       "      <td>-0.2</td>\n",
       "      <td>-0.1</td>\n",
       "      <td>21116</td>\n",
       "      <td>537997946</td>\n",
       "    </tr>\n",
       "  </tbody>\n",
       "</table>\n",
       "</div>"
      ],
      "text/plain": [
       "    index  Position      Coin     Price($)  Change 1h(%)  Change 7d(%)  \\\n",
       "29     29        30   Stellar  94167641615          -0.7          10.5   \n",
       "10     10        11  Dogecoin  87797048585          -0.3           6.9   \n",
       "34     34        35    Hedera  86200810195          -0.1          -0.4   \n",
       "37     37        38    Cronos  83231418736          -0.6           8.7   \n",
       "17     17        17      TRON  71505550246          -0.1          11.9   \n",
       "98     98        99     Radix  49803328758           1.2           7.0   \n",
       "90     90        91   Zilliqa  34016845642          -0.6          16.7   \n",
       "33     33        34   VeChain  31614778072          -1.0          34.2   \n",
       "85     85        86     cUSDC  22717344355          -0.1          -0.3   \n",
       "93     93        94      cDAI  22139804759          -0.1          -0.2   \n",
       "\n",
       "    Change 24h(%)  Volume 24h($)  Market Cap($)  \n",
       "29            3.3       97534144     2483384299  \n",
       "10            0.6      566009435    12133588559  \n",
       "34           -2.0       67611822     2261127350  \n",
       "37            4.8       31109978     2108900622  \n",
       "17            1.2      513299811     6549150642  \n",
       "98            2.4         596793      503351251  \n",
       "90            5.8      157337070      549436894  \n",
       "33            8.7      369885875     2295836432  \n",
       "85           -0.1           3277      573863611  \n",
       "93           -0.1          21116      537997946  "
      ]
     },
     "execution_count": 10,
     "metadata": {},
     "output_type": "execute_result"
    }
   ],
   "source": [
    "result_df3 = result_df.sort_values(['Price($)'], ascending=False)\n",
    "result_df3.head(10)"
   ]
  },
  {
   "cell_type": "code",
   "execution_count": null,
   "metadata": {},
   "outputs": [],
   "source": []
  },
  {
   "cell_type": "code",
   "execution_count": null,
   "metadata": {},
   "outputs": [],
   "source": []
  },
  {
   "cell_type": "code",
   "execution_count": null,
   "metadata": {},
   "outputs": [],
   "source": [
    "- columnas: cambiar columna franja a franja_horaria. \n",
    "    tipo a tipo_delito,      v\n",
    "    subtipo a subtipo_delito   (borro columna)\n",
    "    \n",
    "- tipo de datos: \n",
    "    fecha a date,\n",
    "    comuna a int, v\n",
    "    victimas a int. (borrado)\n",
    "    anio,mes y dia Los tres campos deben fusionarse en un solo tipo de datos de fecha y hora. si me intersa conservar el dia, mes conservo y elimno la columna anio ya esta en fecha\n",
    "\n",
    "- valores unicos: en dia la semana 8 dias?(2 miercoles)    v\n",
    "    franja: dos sd? (sin datos?), reemplazo por media?\n",
    "        \n",
    "- datos nulos:\n",
    "    subtipo      53081     53081//66714= 0.79 %   (eliminar, no hay muestra suficiente)\n",
    "    uso_armas    59433     59433/66714 = 0.89 %   (eliminar, no hay muestra suficiente) \n",
    "    barrio         411     411//66714= 0.0060 \n",
    "    comuna         411 \n",
    "    latitud        411\n",
    "    longitud       411\n",
    "    victimas     66524      66524/66714= 0.99 %   (eliminar, no hay muestra suficiente)\n",
    "    \n",
    "    \n",
    "    -------------------------------------------------\n",
    "    primeras tareas ver datos nulos y borrar columnas a borrar\n",
    "    "
   ]
  },
  {
   "cell_type": "code",
   "execution_count": null,
   "metadata": {},
   "outputs": [],
   "source": []
  },
  {
   "cell_type": "code",
   "execution_count": null,
   "metadata": {},
   "outputs": [],
   "source": []
  }
 ],
 "metadata": {
  "kernelspec": {
   "display_name": "Python 3",
   "language": "python",
   "name": "python3"
  },
  "language_info": {
   "codemirror_mode": {
    "name": "ipython",
    "version": 3
   },
   "file_extension": ".py",
   "mimetype": "text/x-python",
   "name": "python",
   "nbconvert_exporter": "python",
   "pygments_lexer": "ipython3",
   "version": "3.7.6"
  }
 },
 "nbformat": 4,
 "nbformat_minor": 4
}
